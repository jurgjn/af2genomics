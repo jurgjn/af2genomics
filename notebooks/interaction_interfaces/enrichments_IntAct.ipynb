{
 "cells": [
  {
   "cell_type": "code",
   "execution_count": 1,
   "metadata": {},
   "outputs": [],
   "source": [
    "%run ../__init__.ipynb\n",
    "import tqdm.contrib.concurrent\n",
    "import statannotations, statannotations.Annotator"
   ]
  },
  {
   "cell_type": "code",
   "execution_count": 2,
   "metadata": {},
   "outputs": [
    {
     "name": "stdout",
     "output_type": "stream",
     "text": [
      "read_intact_mutations: 78,139 IntAct mutations\n",
      "read_intact_mutations: 78,119 with defined `Interaction participants`\n",
      "read_intact_mutations: 70,031 with exactly two participants\n",
      "read_intact_mutations: 70,031 after parsing participants\n",
      "read_intact_mutations: 54,369 after filtering participant A for human\n",
      "read_intact_mutations: 49,495 after filtering participant B for human\n",
      "read_intact_mutations: 39,919 single-residue substititions\n",
      "read_intact_mutations: 39,919 effects - neutral: 20042 disrupt/decrease: 16224 no data on effect: 2007 cause/increase: 1646\n",
      "read_intact_mutations: 32,857 after de-duplication\n"
     ]
    },
    {
     "data": {
      "text/html": [
       "<div>\n",
       "<style scoped>\n",
       "    .dataframe tbody tr th:only-of-type {\n",
       "        vertical-align: middle;\n",
       "    }\n",
       "\n",
       "    .dataframe tbody tr th {\n",
       "        vertical-align: top;\n",
       "    }\n",
       "\n",
       "    .dataframe thead th {\n",
       "        text-align: right;\n",
       "    }\n",
       "</style>\n",
       "<table border=\"1\" class=\"dataframe\">\n",
       "  <thead>\n",
       "    <tr style=\"text-align: right;\">\n",
       "      <th></th>\n",
       "      <th>variant_id</th>\n",
       "      <th>uniprot_id1</th>\n",
       "      <th>pos</th>\n",
       "      <th>resid</th>\n",
       "      <th>resid_id</th>\n",
       "      <th>uniprot_id2</th>\n",
       "      <th>interaction_id</th>\n",
       "      <th>effect</th>\n",
       "    </tr>\n",
       "  </thead>\n",
       "  <tbody>\n",
       "    <tr>\n",
       "      <th>0</th>\n",
       "      <td>P50402/Y34A</td>\n",
       "      <td>P50402</td>\n",
       "      <td>34</td>\n",
       "      <td>Y</td>\n",
       "      <td>Y34</td>\n",
       "      <td>Q9NYF8</td>\n",
       "      <td>P50402_Q9NYF8</td>\n",
       "      <td>no data on effect</td>\n",
       "    </tr>\n",
       "    <tr>\n",
       "      <th>1</th>\n",
       "      <td>P50402/E35A</td>\n",
       "      <td>P50402</td>\n",
       "      <td>35</td>\n",
       "      <td>E</td>\n",
       "      <td>E35</td>\n",
       "      <td>Q9NYF8</td>\n",
       "      <td>P50402_Q9NYF8</td>\n",
       "      <td>no data on effect</td>\n",
       "    </tr>\n",
       "    <tr>\n",
       "      <th>2</th>\n",
       "      <td>P50402/K36A</td>\n",
       "      <td>P50402</td>\n",
       "      <td>36</td>\n",
       "      <td>K</td>\n",
       "      <td>K36</td>\n",
       "      <td>Q9NYF8</td>\n",
       "      <td>P50402_Q9NYF8</td>\n",
       "      <td>no data on effect</td>\n",
       "    </tr>\n",
       "    <tr>\n",
       "      <th>3</th>\n",
       "      <td>P50402/K37A</td>\n",
       "      <td>P50402</td>\n",
       "      <td>37</td>\n",
       "      <td>K</td>\n",
       "      <td>K37</td>\n",
       "      <td>Q9NYF8</td>\n",
       "      <td>P50402_Q9NYF8</td>\n",
       "      <td>no data on effect</td>\n",
       "    </tr>\n",
       "    <tr>\n",
       "      <th>4</th>\n",
       "      <td>Q99558/K429A</td>\n",
       "      <td>Q99558</td>\n",
       "      <td>429</td>\n",
       "      <td>K</td>\n",
       "      <td>K429</td>\n",
       "      <td>O43318-3</td>\n",
       "      <td>O43318-3_Q99558</td>\n",
       "      <td>no data on effect</td>\n",
       "    </tr>\n",
       "    <tr>\n",
       "      <th>5</th>\n",
       "      <td>Q99558/K430A</td>\n",
       "      <td>Q99558</td>\n",
       "      <td>430</td>\n",
       "      <td>K</td>\n",
       "      <td>K430</td>\n",
       "      <td>O43318-3</td>\n",
       "      <td>O43318-3_Q99558</td>\n",
       "      <td>no data on effect</td>\n",
       "    </tr>\n",
       "    <tr>\n",
       "      <th>6</th>\n",
       "      <td>P49768-2/A430E</td>\n",
       "      <td>P49768-2</td>\n",
       "      <td>430</td>\n",
       "      <td>A</td>\n",
       "      <td>A430</td>\n",
       "      <td>A4FUJ8</td>\n",
       "      <td>A4FUJ8_P49768-2</td>\n",
       "      <td>no data on effect</td>\n",
       "    </tr>\n",
       "    <tr>\n",
       "      <th>7</th>\n",
       "      <td>O00187-1/S633A</td>\n",
       "      <td>O00187-1</td>\n",
       "      <td>633</td>\n",
       "      <td>S</td>\n",
       "      <td>S633</td>\n",
       "      <td>P48740-3</td>\n",
       "      <td>O00187-1_P48740-3</td>\n",
       "      <td>no data on effect</td>\n",
       "    </tr>\n",
       "    <tr>\n",
       "      <th>8</th>\n",
       "      <td>Q15418/Q724A</td>\n",
       "      <td>Q15418</td>\n",
       "      <td>724</td>\n",
       "      <td>Q</td>\n",
       "      <td>Q724</td>\n",
       "      <td>P28482</td>\n",
       "      <td>P28482_Q15418</td>\n",
       "      <td>no data on effect</td>\n",
       "    </tr>\n",
       "    <tr>\n",
       "      <th>9</th>\n",
       "      <td>P83105/S328A</td>\n",
       "      <td>P83105</td>\n",
       "      <td>328</td>\n",
       "      <td>S</td>\n",
       "      <td>S328</td>\n",
       "      <td>Q92743</td>\n",
       "      <td>P83105_Q92743</td>\n",
       "      <td>no data on effect</td>\n",
       "    </tr>\n",
       "    <tr>\n",
       "      <th>10</th>\n",
       "      <td>P83110-1/S305A</td>\n",
       "      <td>P83110-1</td>\n",
       "      <td>305</td>\n",
       "      <td>S</td>\n",
       "      <td>S305</td>\n",
       "      <td>P98170</td>\n",
       "      <td>P83110-1_P98170</td>\n",
       "      <td>no data on effect</td>\n",
       "    </tr>\n",
       "    <tr>\n",
       "      <th>11</th>\n",
       "      <td>P98170/V198M</td>\n",
       "      <td>P98170</td>\n",
       "      <td>198</td>\n",
       "      <td>V</td>\n",
       "      <td>V198</td>\n",
       "      <td>Q15750</td>\n",
       "      <td>P98170_Q15750</td>\n",
       "      <td>no data on effect</td>\n",
       "    </tr>\n",
       "    <tr>\n",
       "      <th>12</th>\n",
       "      <td>P13569/F508.</td>\n",
       "      <td>P13569</td>\n",
       "      <td>508</td>\n",
       "      <td>F</td>\n",
       "      <td>F508</td>\n",
       "      <td>P11940</td>\n",
       "      <td>P11940_P13569</td>\n",
       "      <td>no data on effect</td>\n",
       "    </tr>\n",
       "    <tr>\n",
       "      <th>13</th>\n",
       "      <td>P13569/F508.</td>\n",
       "      <td>P13569</td>\n",
       "      <td>508</td>\n",
       "      <td>F</td>\n",
       "      <td>F508</td>\n",
       "      <td>P47756</td>\n",
       "      <td>P13569_P47756</td>\n",
       "      <td>no data on effect</td>\n",
       "    </tr>\n",
       "    <tr>\n",
       "      <th>14</th>\n",
       "      <td>P13569/F508.</td>\n",
       "      <td>P13569</td>\n",
       "      <td>508</td>\n",
       "      <td>F</td>\n",
       "      <td>F508</td>\n",
       "      <td>P29762</td>\n",
       "      <td>P13569_P29762</td>\n",
       "      <td>no data on effect</td>\n",
       "    </tr>\n",
       "    <tr>\n",
       "      <th>15</th>\n",
       "      <td>P13569/F508.</td>\n",
       "      <td>P13569</td>\n",
       "      <td>508</td>\n",
       "      <td>F</td>\n",
       "      <td>F508</td>\n",
       "      <td>Q8N9N7</td>\n",
       "      <td>P13569_Q8N9N7</td>\n",
       "      <td>no data on effect</td>\n",
       "    </tr>\n",
       "    <tr>\n",
       "      <th>16</th>\n",
       "      <td>P13569/F508.</td>\n",
       "      <td>P13569</td>\n",
       "      <td>508</td>\n",
       "      <td>F</td>\n",
       "      <td>F508</td>\n",
       "      <td>O14545</td>\n",
       "      <td>O14545_P13569</td>\n",
       "      <td>no data on effect</td>\n",
       "    </tr>\n",
       "    <tr>\n",
       "      <th>17</th>\n",
       "      <td>P57764/C285A</td>\n",
       "      <td>P57764</td>\n",
       "      <td>285</td>\n",
       "      <td>C</td>\n",
       "      <td>C285</td>\n",
       "      <td>P29466</td>\n",
       "      <td>P29466_P57764</td>\n",
       "      <td>no data on effect</td>\n",
       "    </tr>\n",
       "    <tr>\n",
       "      <th>18</th>\n",
       "      <td>Q9Y4K0/H626Q</td>\n",
       "      <td>Q9Y4K0</td>\n",
       "      <td>626</td>\n",
       "      <td>H</td>\n",
       "      <td>H626</td>\n",
       "      <td>P08670</td>\n",
       "      <td>P08670_Q9Y4K0</td>\n",
       "      <td>no data on effect</td>\n",
       "    </tr>\n",
       "    <tr>\n",
       "      <th>19</th>\n",
       "      <td>Q9Y4K0/H628Q</td>\n",
       "      <td>Q9Y4K0</td>\n",
       "      <td>628</td>\n",
       "      <td>H</td>\n",
       "      <td>H628</td>\n",
       "      <td>P08670</td>\n",
       "      <td>P08670_Q9Y4K0</td>\n",
       "      <td>no data on effect</td>\n",
       "    </tr>\n",
       "  </tbody>\n",
       "</table>\n",
       "</div>"
      ],
      "text/plain": [
       "        variant_id uniprot_id1  pos resid resid_id uniprot_id2  \\\n",
       "0      P50402/Y34A      P50402   34     Y      Y34      Q9NYF8   \n",
       "1      P50402/E35A      P50402   35     E      E35      Q9NYF8   \n",
       "2      P50402/K36A      P50402   36     K      K36      Q9NYF8   \n",
       "3      P50402/K37A      P50402   37     K      K37      Q9NYF8   \n",
       "4     Q99558/K429A      Q99558  429     K     K429    O43318-3   \n",
       "5     Q99558/K430A      Q99558  430     K     K430    O43318-3   \n",
       "6   P49768-2/A430E    P49768-2  430     A     A430      A4FUJ8   \n",
       "7   O00187-1/S633A    O00187-1  633     S     S633    P48740-3   \n",
       "8     Q15418/Q724A      Q15418  724     Q     Q724      P28482   \n",
       "9     P83105/S328A      P83105  328     S     S328      Q92743   \n",
       "10  P83110-1/S305A    P83110-1  305     S     S305      P98170   \n",
       "11    P98170/V198M      P98170  198     V     V198      Q15750   \n",
       "12    P13569/F508.      P13569  508     F     F508      P11940   \n",
       "13    P13569/F508.      P13569  508     F     F508      P47756   \n",
       "14    P13569/F508.      P13569  508     F     F508      P29762   \n",
       "15    P13569/F508.      P13569  508     F     F508      Q8N9N7   \n",
       "16    P13569/F508.      P13569  508     F     F508      O14545   \n",
       "17    P57764/C285A      P57764  285     C     C285      P29466   \n",
       "18    Q9Y4K0/H626Q      Q9Y4K0  626     H     H626      P08670   \n",
       "19    Q9Y4K0/H628Q      Q9Y4K0  628     H     H628      P08670   \n",
       "\n",
       "       interaction_id             effect  \n",
       "0       P50402_Q9NYF8  no data on effect  \n",
       "1       P50402_Q9NYF8  no data on effect  \n",
       "2       P50402_Q9NYF8  no data on effect  \n",
       "3       P50402_Q9NYF8  no data on effect  \n",
       "4     O43318-3_Q99558  no data on effect  \n",
       "5     O43318-3_Q99558  no data on effect  \n",
       "6     A4FUJ8_P49768-2  no data on effect  \n",
       "7   O00187-1_P48740-3  no data on effect  \n",
       "8       P28482_Q15418  no data on effect  \n",
       "9       P83105_Q92743  no data on effect  \n",
       "10    P83110-1_P98170  no data on effect  \n",
       "11      P98170_Q15750  no data on effect  \n",
       "12      P11940_P13569  no data on effect  \n",
       "13      P13569_P47756  no data on effect  \n",
       "14      P13569_P29762  no data on effect  \n",
       "15      P13569_Q8N9N7  no data on effect  \n",
       "16      O14545_P13569  no data on effect  \n",
       "17      P29466_P57764  no data on effect  \n",
       "18      P08670_Q9Y4K0  no data on effect  \n",
       "19      P08670_Q9Y4K0  no data on effect  "
      ]
     },
     "metadata": {},
     "output_type": "display_data"
    }
   ],
   "source": [
    "df_intact = read_intact_mutations()\n",
    "dispall(df_intact.head(20))"
   ]
  },
  {
   "cell_type": "code",
   "execution_count": 3,
   "metadata": {},
   "outputs": [
    {
     "name": "stdout",
     "output_type": "stream",
     "text": [
      "7,816 unique interactions with at least one IntAct mutation\n",
      "24,074 interactions modelled\n",
      "817 interactions modelled and with an IntAct mutation\n"
     ]
    }
   ],
   "source": [
    "intact_ = set(df_intact['interaction_id'])\n",
    "printlen(intact_, 'unique interactions with at least one IntAct mutation')\n",
    "\n",
    "df_models = suppl_ppi_models(pdockq=.5)\n",
    "\n",
    "def pdb_trim_(pdb_):\n",
    "    relpath = os.path.relpath(pdb_, '/cluster/work/beltrao/jjaenes/23.12.06_ppi_reselect/af2-models-split')\n",
    "    adjpath = os.path.join('/cluster/work/beltrao/jjaenes/23.12.06_ppi_reselect/af2-models-split-trim_bf', relpath)\n",
    "    return adjpath\n",
    "\n",
    "df_models['pdb'] = df_models['pdb'].map(lambda fp: os.path.join('/cluster/work/beltrao/jjaenes/23.12.06_ppi_reselect/af2-models-split', fp))\n",
    "df_models['pdb_trim_bf'] = df_models['pdb'].map(pdb_trim_)\n",
    "printlen(df_models, 'interactions modelled')\n",
    "\n",
    "df_models = df_models.query('interaction_id in @intact_').reset_index(drop=True)\n",
    "printlen(df_models, 'interactions modelled and with an IntAct mutation')"
   ]
  },
  {
   "cell_type": "code",
   "execution_count": 4,
   "metadata": {},
   "outputs": [
    {
     "data": {
      "application/vnd.jupyter.widget-view+json": {
       "model_id": "d46149b11ef04075aea0d8f0149ebb2f",
       "version_major": 2,
       "version_minor": 0
      },
      "text/plain": [
       "  0%|          | 0/817 [00:00<?, ?it/s]"
      ]
     },
     "metadata": {},
     "output_type": "display_data"
    }
   ],
   "source": [
    "df_models['resid1'], df_models['resid2'] = zip(*tqdm.contrib.concurrent.process_map(get_AFmultimer_resid, df_models.pdb, max_workers=slurm_ntasks()))"
   ]
  },
  {
   "cell_type": "code",
   "execution_count": 5,
   "metadata": {},
   "outputs": [
    {
     "data": {
      "application/vnd.jupyter.widget-view+json": {
       "model_id": "3485d8d652e74c2a86c4f4bf65ef8877",
       "version_major": 2,
       "version_minor": 0
      },
      "text/plain": [
       "  0%|          | 0/817 [00:00<?, ?it/s]"
      ]
     },
     "metadata": {},
     "output_type": "display_data"
    },
    {
     "data": {
      "application/vnd.jupyter.widget-view+json": {
       "model_id": "7444554c48674eff8abcb0eded890ee5",
       "version_major": 2,
       "version_minor": 0
      },
      "text/plain": [
       "  0%|          | 0/817 [00:00<?, ?it/s]"
      ]
     },
     "metadata": {},
     "output_type": "display_data"
    },
    {
     "data": {
      "application/vnd.jupyter.widget-view+json": {
       "model_id": "a85ab8e168174778a162c6ae2ef4f4e7",
       "version_major": 2,
       "version_minor": 0
      },
      "text/plain": [
       "  0%|          | 0/817 [00:00<?, ?it/s]"
      ]
     },
     "metadata": {},
     "output_type": "display_data"
    },
    {
     "data": {
      "application/vnd.jupyter.widget-view+json": {
       "model_id": "e759919c0f5e40dda27237fe77e104af",
       "version_major": 2,
       "version_minor": 0
      },
      "text/plain": [
       "  0%|          | 0/817 [00:00<?, ?it/s]"
      ]
     },
     "metadata": {},
     "output_type": "display_data"
    },
    {
     "data": {
      "application/vnd.jupyter.widget-view+json": {
       "model_id": "3d015d1af42442d7a9c8a07cb4b05ac8",
       "version_major": 2,
       "version_minor": 0
      },
      "text/plain": [
       "  0%|          | 0/817 [00:00<?, ?it/s]"
      ]
     },
     "metadata": {},
     "output_type": "display_data"
    },
    {
     "data": {
      "application/vnd.jupyter.widget-view+json": {
       "model_id": "bffbc90de0ec464aadc45e17f72fc171",
       "version_major": 2,
       "version_minor": 0
      },
      "text/plain": [
       "  0%|          | 0/817 [00:00<?, ?it/s]"
      ]
     },
     "metadata": {},
     "output_type": "display_data"
    },
    {
     "data": {
      "application/vnd.jupyter.widget-view+json": {
       "model_id": "ae9270c057414a2f9710b551429c059e",
       "version_major": 2,
       "version_minor": 0
      },
      "text/plain": [
       "  0%|          | 0/817 [00:00<?, ?it/s]"
      ]
     },
     "metadata": {},
     "output_type": "display_data"
    },
    {
     "data": {
      "application/vnd.jupyter.widget-view+json": {
       "model_id": "8acbe0c5f18c41c498744b411788574b",
       "version_major": 2,
       "version_minor": 0
      },
      "text/plain": [
       "  0%|          | 0/817 [00:00<?, ?it/s]"
      ]
     },
     "metadata": {},
     "output_type": "display_data"
    }
   ],
   "source": [
    "def ifresid_3_(pdb_): return get_AFmultimer_ifresid(pdb_, min_distance=3, min_pLDDT=0)\n",
    "def ifresid_5_(pdb_): return get_AFmultimer_ifresid(pdb_, min_distance=5, min_pLDDT=0)\n",
    "def ifresid_8_(pdb_): return get_AFmultimer_ifresid(pdb_, min_distance=8, min_pLDDT=0)\n",
    "def ifresid_10_(pdb_): return get_AFmultimer_ifresid(pdb_, min_distance=10, min_pLDDT=0)\n",
    "\n",
    "def ifresid_3_trim_(pdb_): return get_AFmultimer_ifresid(pdb_, min_distance=3, min_pLDDT=70)\n",
    "def ifresid_5_trim_(pdb_): return get_AFmultimer_ifresid(pdb_, min_distance=5, min_pLDDT=70)\n",
    "def ifresid_8_trim_(pdb_): return get_AFmultimer_ifresid(pdb_, min_distance=8, min_pLDDT=70)\n",
    "def ifresid_10_trim_(pdb_): return get_AFmultimer_ifresid(pdb_, min_distance=10, min_pLDDT=70)\n",
    "\n",
    "df_models['resid1_3'], df_models['resid2_3'] = zip(*tqdm.contrib.concurrent.process_map(ifresid_3_, df_models.pdb, max_workers=slurm_ntasks()))\n",
    "df_models['resid1_5'], df_models['resid2_5'] = zip(*tqdm.contrib.concurrent.process_map(ifresid_5_, df_models.pdb, max_workers=slurm_ntasks()))\n",
    "df_models['resid1_8'], df_models['resid2_8'] = zip(*tqdm.contrib.concurrent.process_map(ifresid_8_, df_models.pdb, max_workers=slurm_ntasks()))\n",
    "df_models['resid1_10'], df_models['resid2_10'] = zip(*tqdm.contrib.concurrent.process_map(ifresid_10_, df_models.pdb, max_workers=slurm_ntasks()))\n",
    "\n",
    "df_models['resid1_3_trim'], df_models['resid2_3_trim'] = zip(*tqdm.contrib.concurrent.process_map(ifresid_3_trim_, df_models.pdb, max_workers=slurm_ntasks()))\n",
    "df_models['resid1_5_trim'], df_models['resid2_5_trim'] = zip(*tqdm.contrib.concurrent.process_map(ifresid_5_trim_, df_models.pdb, max_workers=slurm_ntasks()))\n",
    "df_models['resid1_8_trim'], df_models['resid2_8_trim'] = zip(*tqdm.contrib.concurrent.process_map(ifresid_8_trim_, df_models.pdb, max_workers=slurm_ntasks()))\n",
    "df_models['resid1_10_trim'], df_models['resid2_10_trim'] = zip(*tqdm.contrib.concurrent.process_map(ifresid_10_trim_, df_models.pdb, max_workers=slurm_ntasks()))"
   ]
  },
  {
   "cell_type": "code",
   "execution_count": 6,
   "metadata": {},
   "outputs": [
    {
     "name": "stdout",
     "output_type": "stream",
     "text": [
      "9,854 Intact mutations with modelled interaction\n",
      "8,430 Intact mutations with matching residues\n"
     ]
    }
   ],
   "source": [
    "def resid_check(r):\n",
    "    #if r.interaction_id.startswith(r.uniprot_id1):\n",
    "    if r.uniprot_id1_intact == r.uniprot_id1_models:\n",
    "        return r.resid_id in set(r.resid1)\n",
    "    #elif r.interaction_id.startswith(r.uniprot_id2):\n",
    "    elif r.uniprot_id1_intact == r.uniprot_id2_models:\n",
    "        return r.resid_id in set(r.resid2)\n",
    "    assert False\n",
    "\n",
    "df_effect = df_intact.merge(df_models, on='interaction_id', suffixes=('_intact', '_models'))\n",
    "printlen(df_effect, 'Intact mutations with modelled interaction')\n",
    "df_effect['resid_check'] = df_effect.apply(resid_check, axis=1)\n",
    "df_effect = df_effect.query('resid_check == True')\n",
    "printlen(df_effect, 'Intact mutations with matching residues')"
   ]
  },
  {
   "cell_type": "code",
   "execution_count": 7,
   "metadata": {},
   "outputs": [],
   "source": [
    "df_effect['isin_resid3'] = df_effect.apply(lambda r: r.resid_id in set(r.resid1_3) if r.uniprot_id1_intact == r.uniprot_id1_models else r.resid_id in set(r.resid2_3), axis=1)\n",
    "df_effect['isin_resid5'] = df_effect.apply(lambda r: r.resid_id in set(r.resid1_5) if r.uniprot_id1_intact == r.uniprot_id1_models else r.resid_id in set(r.resid2_5), axis=1)\n",
    "df_effect['isin_resid8'] = df_effect.apply(lambda r: r.resid_id in set(r.resid1_8) if r.uniprot_id1_intact == r.uniprot_id1_models else r.resid_id in set(r.resid2_8), axis=1)\n",
    "df_effect['isin_resid10'] = df_effect.apply(lambda r: r.resid_id in set(r.resid1_10) if r.uniprot_id1_intact == r.uniprot_id1_models else r.resid_id in set(r.resid2_10), axis=1)\n",
    "\n",
    "df_effect['isin_resid10'] = df_effect['isin_resid10'] & ~df_effect['isin_resid8']\n",
    "df_effect['isin_resid8'] = df_effect['isin_resid8'] & ~df_effect['isin_resid5']\n",
    "df_effect['isin_resid5'] = df_effect['isin_resid5'] & ~df_effect['isin_resid3']\n",
    "df_effect['isin_resid3'] = df_effect['isin_resid3'] #& ~df_effect['isin_resid2']\n",
    "\n",
    "df_effect['isin_resid3_trim'] = df_effect.apply(lambda r: r.resid_id in set(r.resid1_3_trim) if r.uniprot_id1_intact == r.uniprot_id1_models else r.resid_id in set(r.resid2_3_trim), axis=1)\n",
    "df_effect['isin_resid5_trim'] = df_effect.apply(lambda r: r.resid_id in set(r.resid1_5_trim) if r.uniprot_id1_intact == r.uniprot_id1_models else r.resid_id in set(r.resid2_5_trim), axis=1)\n",
    "df_effect['isin_resid8_trim'] = df_effect.apply(lambda r: r.resid_id in set(r.resid1_8_trim) if r.uniprot_id1_intact == r.uniprot_id1_models else r.resid_id in set(r.resid2_8_trim), axis=1)\n",
    "df_effect['isin_resid10_trim'] = df_effect.apply(lambda r: r.resid_id in set(r.resid1_10_trim) if r.uniprot_id1_intact == r.uniprot_id1_models else r.resid_id in set(r.resid2_10_trim), axis=1)\n",
    "\n",
    "df_effect['isin_resid10_trim'] = df_effect['isin_resid10_trim'] & ~df_effect['isin_resid8_trim']\n",
    "df_effect['isin_resid8_trim'] = df_effect['isin_resid8_trim'] & ~df_effect['isin_resid5_trim']\n",
    "df_effect['isin_resid5_trim'] = df_effect['isin_resid5_trim'] & ~df_effect['isin_resid3_trim']\n",
    "df_effect['isin_resid3_trim'] = df_effect['isin_resid3_trim'] #& ~df_effect['isin_resid2_trim']"
   ]
  },
  {
   "cell_type": "code",
   "execution_count": 8,
   "metadata": {},
   "outputs": [
    {
     "name": "stdout",
     "output_type": "stream",
     "text": [
      "effect       neutral  disrupt/decrease\n",
      "isin_resid3                           \n",
      "False           6456              1404\n",
      "True             232               182\n",
      "effect       neutral  disrupt/decrease\n",
      "isin_resid5                           \n",
      "False           5975              1195\n",
      "True             713               391\n",
      "effect       neutral  disrupt/decrease\n",
      "isin_resid8                           \n",
      "False           5819              1339\n",
      "True             869               247\n",
      "effect        neutral  disrupt/decrease\n",
      "isin_resid10                           \n",
      "False            6271              1479\n",
      "True              417               107\n",
      "effect            neutral  disrupt/decrease\n",
      "isin_resid3_trim                           \n",
      "False                6510              1428\n",
      "True                  178               158\n",
      "effect            neutral  disrupt/decrease\n",
      "isin_resid5_trim                           \n",
      "False                6066              1212\n",
      "True                  622               374\n",
      "effect            neutral  disrupt/decrease\n",
      "isin_resid8_trim                           \n",
      "False                5937              1375\n",
      "True                  751               211\n",
      "effect             neutral  disrupt/decrease\n",
      "isin_resid10_trim                           \n",
      "False                 6321              1485\n",
      "True                   367               101\n"
     ]
    },
    {
     "data": {
      "text/html": [
       "<div>\n",
       "<style scoped>\n",
       "    .dataframe tbody tr th:only-of-type {\n",
       "        vertical-align: middle;\n",
       "    }\n",
       "\n",
       "    .dataframe tbody tr th {\n",
       "        vertical-align: top;\n",
       "    }\n",
       "\n",
       "    .dataframe thead th {\n",
       "        text-align: right;\n",
       "    }\n",
       "</style>\n",
       "<table border=\"1\" class=\"dataframe\">\n",
       "  <thead>\n",
       "    <tr style=\"text-align: right;\">\n",
       "      <th></th>\n",
       "      <th>cutoff</th>\n",
       "      <th>Residue filter</th>\n",
       "      <th>odds_ratio</th>\n",
       "      <th>pvalue</th>\n",
       "      <th>pvalue_label</th>\n",
       "    </tr>\n",
       "  </thead>\n",
       "  <tbody>\n",
       "    <tr>\n",
       "      <th>0</th>\n",
       "      <td>&lt;3Å</td>\n",
       "      <td>All</td>\n",
       "      <td>3.607280</td>\n",
       "      <td>1.625024e-32</td>\n",
       "      <td>p≤0.0001</td>\n",
       "    </tr>\n",
       "    <tr>\n",
       "      <th>1</th>\n",
       "      <td>3-5Å</td>\n",
       "      <td>All</td>\n",
       "      <td>2.741935</td>\n",
       "      <td>3.055187e-43</td>\n",
       "      <td>p≤0.0001</td>\n",
       "    </tr>\n",
       "    <tr>\n",
       "      <th>2</th>\n",
       "      <td>5-8Å</td>\n",
       "      <td>All</td>\n",
       "      <td>1.235222</td>\n",
       "      <td>7.843404e-03</td>\n",
       "      <td>p≤0.01</td>\n",
       "    </tr>\n",
       "    <tr>\n",
       "      <th>3</th>\n",
       "      <td>8-10Å</td>\n",
       "      <td>All</td>\n",
       "      <td>1.087969</td>\n",
       "      <td>4.560736e-01</td>\n",
       "      <td>p=0.46</td>\n",
       "    </tr>\n",
       "    <tr>\n",
       "      <th>4</th>\n",
       "      <td>&lt;3Å</td>\n",
       "      <td>pLDDT&gt;70</td>\n",
       "      <td>4.046596</td>\n",
       "      <td>1.971021e-32</td>\n",
       "      <td>p≤0.0001</td>\n",
       "    </tr>\n",
       "    <tr>\n",
       "      <th>5</th>\n",
       "      <td>3-5Å</td>\n",
       "      <td>pLDDT&gt;70</td>\n",
       "      <td>3.009408</td>\n",
       "      <td>3.779468e-48</td>\n",
       "      <td>p≤0.0001</td>\n",
       "    </tr>\n",
       "    <tr>\n",
       "      <th>6</th>\n",
       "      <td>5-8Å</td>\n",
       "      <td>pLDDT&gt;70</td>\n",
       "      <td>1.213129</td>\n",
       "      <td>2.340201e-02</td>\n",
       "      <td>p≤0.05</td>\n",
       "    </tr>\n",
       "    <tr>\n",
       "      <th>7</th>\n",
       "      <td>8-10Å</td>\n",
       "      <td>pLDDT&gt;70</td>\n",
       "      <td>1.171425</td>\n",
       "      <td>1.833016e-01</td>\n",
       "      <td>p=0.18</td>\n",
       "    </tr>\n",
       "  </tbody>\n",
       "</table>\n",
       "</div>"
      ],
      "text/plain": [
       "  cutoff Residue filter  odds_ratio        pvalue pvalue_label\n",
       "0    <3Å            All    3.607280  1.625024e-32     p≤0.0001\n",
       "1   3-5Å            All    2.741935  3.055187e-43     p≤0.0001\n",
       "2   5-8Å            All    1.235222  7.843404e-03       p≤0.01\n",
       "3  8-10Å            All    1.087969  4.560736e-01       p=0.46\n",
       "4    <3Å       pLDDT>70    4.046596  1.971021e-32     p≤0.0001\n",
       "5   3-5Å       pLDDT>70    3.009408  3.779468e-48     p≤0.0001\n",
       "6   5-8Å       pLDDT>70    1.213129  2.340201e-02       p≤0.05\n",
       "7  8-10Å       pLDDT>70    1.171425  1.833016e-01       p=0.18"
      ]
     },
     "execution_count": 8,
     "metadata": {},
     "output_type": "execute_result"
    }
   ],
   "source": [
    "def fisher_exact_(ifresid_col_, subset_col_):\n",
    "    counts_ = pd.crosstab(df_effect[ifresid_col_], df_effect[subset_col_])[['neutral', 'disrupt/decrease']]\n",
    "    #counts_ = pd.crosstab(df_effect[ifresid_col_], df_effect[subset_col_])[['neutral', 'cause/increase']]\n",
    "    print(counts_)\n",
    "    statistic, pvalue = sp.stats.fisher_exact(counts_.values)\n",
    "    return [statistic, pvalue, pvalue_label(pvalue)]\n",
    "\n",
    "data_ = pd.DataFrame.from_records([\n",
    "    #['<2Å', 'All'] + fisher_exact_('isin_resid2', 'effect'),\n",
    "    ['<3Å', 'All'] + fisher_exact_('isin_resid3', 'effect'),\n",
    "    ['3-5Å', 'All'] + fisher_exact_('isin_resid5', 'effect'),\n",
    "    ['5-8Å', 'All'] + fisher_exact_('isin_resid8', 'effect'),\n",
    "    ['8-10Å',  'All'] + fisher_exact_('isin_resid10', 'effect'),\n",
    "    #['<2Å', 'pLDDT>70'] + fisher_exact_('isin_resid2_trim', 'effect'),\n",
    "    ['<3Å', 'pLDDT>70'] + fisher_exact_('isin_resid3_trim', 'effect'),\n",
    "    ['3-5Å', 'pLDDT>70'] + fisher_exact_('isin_resid5_trim', 'effect'),\n",
    "    ['5-8Å', 'pLDDT>70'] + fisher_exact_('isin_resid8_trim', 'effect'),\n",
    "    ['8-10Å', 'pLDDT>70'] + fisher_exact_('isin_resid10_trim', 'effect'),\n",
    "], columns=['cutoff', 'Residue filter', 'odds_ratio', 'pvalue', 'pvalue_label'])\n",
    "data_"
   ]
  },
  {
   "cell_type": "code",
   "execution_count": 9,
   "metadata": {},
   "outputs": [
    {
     "data": {
      "image/png": "[encoded data removed]",
      "text/plain": [
       "<Figure size 300x300 with 1 Axes>"
      ]
     },
     "metadata": {},
     "output_type": "display_data"
    }
   ],
   "source": [
    "#plt.figure(figsize=(3, 3))\n",
    "#plt.title('IntAct mutations with experimental evidence')\n",
    "#sns.barplot(data_, x='odds_ratio', orient='h'_\n",
    "#args_ = {\n",
    "#    'data': data_.query('subset != \"no data on effect\"').copy(),\n",
    "#    'orient': 'h',\n",
    "#    'y': 'subset',\n",
    "#    'x': 'size',\n",
    "#    'hue': 'interface_label',\n",
    "#    'order': ['neutral', 'disrupt/decrease', 'cause/increase']#, 'no data on effect',],\n",
    "#}\n",
    "\n",
    "#pairs_ = [\n",
    "#    (('neutral', False), ('disrupt/decrease', True)),\n",
    "#    (('neutral', False), ('cause/increase', True)),\n",
    "#]\n",
    "\n",
    "#def counts_(subset_):\n",
    "#    return data_.query('subset == @subset_').sort_values('interface_label', ascending=False)['size'].values#\n",
    "\n",
    "#stats_ = [\n",
    "#    sp.stats.fisher_exact([counts_('disrupt/decrease'), counts_('neutral')]).pvalue,\n",
    "#    sp.stats.fisher_exact([counts_('cause/increase'), counts_('neutral')]).pvalue,\n",
    "#]\n",
    "#print(stats_)\n",
    "\n",
    "plt.figure(figsize=(3, 3))\n",
    "plt.title('Distrupt/decrease vs neutral mutations\\nat AF-Multimer interfaces')\n",
    "sns.barplot(data=data_, y='cutoff', x='odds_ratio', hue='Residue filter')\n",
    "#annotator = statannotations.Annotator.Annotator(plt.gca(), pairs_, **args_)\n",
    "#annotator.configure()\n",
    "#annotator.set_custom_annotations([* map(pvalue_label, stats_) ])\n",
    "#annotator.annotate()\n",
    "plt.gca().set_xlabel('Odds ratio')\n",
    "plt.gca().set_ylabel('Distance range')\n",
    "#plt.gca().xaxis.set_major_formatter(matplotlib.ticker.FuncFormatter(lambda x, pos: f'{int(x):,}'))\n",
    "#plt.gca().legend(loc='lower right', title='Filtering')\n",
    "plt.savefig('enrichments_IntAct_.svg', bbox_inches='tight', transparent=True)"
   ]
  }
 ],
 "metadata": {
  "kernelspec": {
   "display_name": "Python 3",
   "language": "python",
   "name": "python3"
  },
  "language_info": {
   "codemirror_mode": {
    "name": "ipython",
    "version": 3
   },
   "file_extension": ".py",
   "mimetype": "text/x-python",
   "name": "python",
   "nbconvert_exporter": "python",
   "pygments_lexer": "ipython3",
   "version": "3.11.0"
  },
  "orig_nbformat": 4
 },
 "nbformat": 4,
 "nbformat_minor": 2
}
