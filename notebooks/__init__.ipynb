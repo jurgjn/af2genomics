{
 "cells": [
  {
   "cell_type": "code",
   "execution_count": null,
   "metadata": {},
   "outputs": [],
   "source": [
    "import ast, collections, csv, datetime, functools, glob, gzip, inspect, io, itertools, json, math, os, os.path, pickle, requests, shutil, sqlite3, subprocess, string, sys, warnings, zipfile\n",
    "import urllib, urllib.request\n",
    "from pprint import pprint\n",
    "import numpy as np, scipy as sp, scipy.stats, scipy.stats.contingency\n",
    "import sklearn as sk, sklearn.decomposition, sklearn.linear_model, sklearn.metrics, sklearn.naive_bayes, sklearn.preprocessing\n",
    "import matplotlib, matplotlib.pyplot as plt, matplotlib.patches, seaborn as sns, pandas as pd\n",
    "import statsmodels.stats.multitest\n",
    "import tqdm, tqdm.contrib.concurrent\n",
    "import Bio, Bio.Data.IUPACData, Bio.PDB, Bio.SVDSuperimposer, Bio.SeqIO, Bio.SeqUtils\n",
    "import openbabel, openbabel.pybel\n",
    "#import snakemake\n",
    "\n",
    "%load_ext autoreload\n",
    "%autoreload 2\n",
    "import af2genomics, af2genomics.PRISM\n",
    "from af2genomics import *"
   ]
  }
 ],
 "metadata": {
  "kernelspec": {
   "display_name": "Python 3",
   "language": "python",
   "name": "python3"
  },
  "language_info": {
   "codemirror_mode": {
    "name": "ipython",
    "version": 3
   },
   "file_extension": ".py",
   "mimetype": "text/x-python",
   "name": "python",
   "nbconvert_exporter": "python",
   "pygments_lexer": "ipython3",
   "version": "3.11.0"
  },
  "orig_nbformat": 4
 },
 "nbformat": 4,
 "nbformat_minor": 2
}
