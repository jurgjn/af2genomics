{
 "cells": [
  {
   "cell_type": "code",
   "execution_count": 1,
   "metadata": {},
   "outputs": [],
   "source": [
    "%run ../../notebooks/__init__.ipynb"
   ]
  },
  {
   "cell_type": "code",
   "execution_count": 2,
   "metadata": {},
   "outputs": [
    {
     "name": "stdout",
     "output_type": "stream",
     "text": [
      "read_af2_human_interactions: 486,099 raw records from /cluster/work/beltrao/jjaenes/24.01.30_af2_human_interations/24.01.30_af2_human_interactions.tsv\n",
      "read_af2_human_interactions: 485,410 after removing negatome-only interactions\n",
      "read_af2_human_interactions: 24,099 after filtering for pdockq\n"
     ]
    }
   ],
   "source": [
    "df_ = read_af2_human_interactions(pdockq=.5).head(10)"
   ]
  },
  {
   "cell_type": "code",
   "execution_count": 3,
   "metadata": {},
   "outputs": [
    {
     "name": "stdout",
     "output_type": "stream",
     "text": [
      "/cluster/work/beltrao/jjaenes/23.12.06_ppi_reselect/af2-models-split/A0A075B759/A0A075B759_P0DN37.pdb\n",
      "1.0 set() set()\n",
      "1.0 set() set()\n",
      "/cluster/work/beltrao/jjaenes/23.12.06_ppi_reselect/af2-models-split/A0A096LP49/A0A096LP49_Q4VC12.pdb\n",
      "1.0 set() set()\n",
      "1.0 set() set()\n",
      "/cluster/work/beltrao/jjaenes/23.12.06_ppi_reselect/af2-models-split/A0A0B4J2A2/A0A0B4J2A2_P0DN37.pdb\n",
      "1.0 set() set()\n",
      "1.0 set() set()\n",
      "/cluster/work/beltrao/jjaenes/23.12.06_ppi_reselect/af2-models-split/A0A0B4J2D5/A0A0B4J2D5_Q96EL3.pdb\n",
      "1.0 set() set()\n",
      "1.0 set() set()\n",
      "/cluster/work/beltrao/jjaenes/23.12.06_ppi_reselect/af2-models-split/A0A140G945/A0A140G945_P02489.pdb\n",
      "0.8723404255319149 {48, 58, 78, 55} {90, 61}\n",
      "0.9166666666666666 {32, 58, 78} {139}\n",
      "/cluster/work/beltrao/jjaenes/23.12.06_ppi_reselect/af2-models-split/A0A140G945/A0A140G945_P02511.pdb\n",
      "0.7872340425531915 {134, 82, 86, 56, 89, 61, 63} {143, 130, 7}\n",
      "0.8367346938775511 {4, 102, 7, 103, 106, 78, 54, 56} set()\n",
      "/cluster/work/beltrao/jjaenes/23.12.06_ppi_reselect/af2-models-split/A0AV96/A0AV96_Q92900.pdb\n",
      "1.0 set() set()\n",
      "1.0 set() set()\n",
      "/cluster/work/beltrao/jjaenes/23.12.06_ppi_reselect/af2-models-split/A0AV96/A0AV96_Q96I51.pdb\n",
      "1.0 set() set()\n",
      "1.0 set() set()\n",
      "/cluster/work/beltrao/jjaenes/23.12.06_ppi_reselect/af2-models-split/A0AVF1/A0AVF1_P11142.pdb\n",
      "1.0 set() set()\n",
      "1.0 set() set()\n",
      "/cluster/work/beltrao/jjaenes/23.12.06_ppi_reselect/af2-models-split/A0AVF1/A0AVF1_P58340.pdb\n",
      "1.0 set() set()\n",
      "1.0 set() set()\n"
     ]
    }
   ],
   "source": [
    "# Exactly re-produces previous implementation on ~80% of structures\n",
    "for i, r in df_.iterrows():\n",
    "    print(r.pdb)\n",
    "    resid1, resid2 = get_AFmultimer_ifresid(r.pdb, min_distance=5, min_pLDDT=0)\n",
    "    print_jaccard(set(resid1), parse_resid(r.residues1))\n",
    "    print_jaccard(set(resid2), parse_resid(r.residues2))"
   ]
  }
 ],
 "metadata": {
  "kernelspec": {
   "display_name": "af2genomics-env",
   "language": "python",
   "name": "python3"
  },
  "language_info": {
   "codemirror_mode": {
    "name": "ipython",
    "version": 3
   },
   "file_extension": ".py",
   "mimetype": "text/x-python",
   "name": "python",
   "nbconvert_exporter": "python",
   "pygments_lexer": "ipython3",
   "version": "3.10.13"
  },
  "orig_nbformat": 4
 },
 "nbformat": 4,
 "nbformat_minor": 2
}
