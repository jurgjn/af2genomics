{
 "cells": [
  {
   "cell_type": "code",
   "execution_count": 1,
   "metadata": {
    "vscode": {
     "languageId": "shellscript"
    }
   },
   "outputs": [],
   "source": [
    "cd"
   ]
  },
  {
   "cell_type": "code",
   "execution_count": 2,
   "metadata": {
    "vscode": {
     "languageId": "shellscript"
    }
   },
   "outputs": [
    {
     "name": "stdout",
     "output_type": "stream",
     "text": [
      "total 2848786364\n",
      "drwxr-sr-x 3 jjaenes biol-imsb-beltrao        4096 Jul  1 13:55 nfs-ebi-research1-beltrao-wagih-mutfunc_db\n",
      "-rw-r--r-- 1 jjaenes biol-imsb-beltrao  4553498104 Jul  2 12:13 nfs-ebi-research1-beltrao-wagih-mutfunc_db.tar.gz\n",
      "-rw-r--r-- 1 jjaenes biol-imsb-beltrao 34359738368 Jun  7 12:56 nfs-ebi-research1-beltrao-wagih.tar.aa\n",
      "-rw-r--r-- 1 jjaenes biol-imsb-beltrao 34359738368 Jun  7 13:00 nfs-ebi-research1-beltrao-wagih.tar.ab\n",
      "-rw-r--r-- 1 jjaenes biol-imsb-beltrao 34359738368 Jun  7 12:56 nfs-ebi-research1-beltrao-wagih.tar.ac\n",
      "-rw-r--r-- 1 jjaenes biol-imsb-beltrao 34359738368 Jun  7 12:54 nfs-ebi-research1-beltrao-wagih.tar.ad\n",
      "-rw-r--r-- 1 jjaenes biol-imsb-beltrao 34359738368 Jun  7 13:14 nfs-ebi-research1-beltrao-wagih.tar.ae\n",
      "-rw-r--r-- 1 jjaenes biol-imsb-beltrao 34359738368 Jun  7 13:20 nfs-ebi-research1-beltrao-wagih.tar.af\n",
      "-rw-r--r-- 1 jjaenes biol-imsb-beltrao 34359738368 Jun  7 13:19 nfs-ebi-research1-beltrao-wagih.tar.ag\n",
      "-rw-r--r-- 1 jjaenes biol-imsb-beltrao 34359738368 Jun  7 13:26 nfs-ebi-research1-beltrao-wagih.tar.ah\n",
      "-rw-r--r-- 1 jjaenes biol-imsb-beltrao 34359738368 Jun  7 13:33 nfs-ebi-research1-beltrao-wagih.tar.ai\n",
      "-rw-r--r-- 1 jjaenes biol-imsb-beltrao 34359738368 Jun  7 13:41 nfs-ebi-research1-beltrao-wagih.tar.aj\n",
      "-rw-r--r-- 1 jjaenes biol-imsb-beltrao 34359738368 Jun  7 13:43 nfs-ebi-research1-beltrao-wagih.tar.ak\n",
      "-rw-r--r-- 1 jjaenes biol-imsb-beltrao 34359738368 Jun  7 13:53 nfs-ebi-research1-beltrao-wagih.tar.al\n",
      "-rw-r--r-- 1 jjaenes biol-imsb-beltrao 34359738368 Jun  7 13:51 nfs-ebi-research1-beltrao-wagih.tar.am\n",
      "-rw-r--r-- 1 jjaenes biol-imsb-beltrao 34359738368 Jun  7 14:02 nfs-ebi-research1-beltrao-wagih.tar.an\n",
      "-rw-r--r-- 1 jjaenes biol-imsb-beltrao 34359738368 Jun  7 14:04 nfs-ebi-research1-beltrao-wagih.tar.ao\n",
      "-rw-r--r-- 1 jjaenes biol-imsb-beltrao 34359738368 Jun  7 14:09 nfs-ebi-research1-beltrao-wagih.tar.ap\n",
      "-rw-r--r-- 1 jjaenes biol-imsb-beltrao 34359738368 Jun  7 14:19 nfs-ebi-research1-beltrao-wagih.tar.aq\n",
      "-rw-r--r-- 1 jjaenes biol-imsb-beltrao 34359738368 Jun  7 14:25 nfs-ebi-research1-beltrao-wagih.tar.ar\n",
      "-rw-r--r-- 1 jjaenes biol-imsb-beltrao 34359738368 Jun  7 14:27 nfs-ebi-research1-beltrao-wagih.tar.as\n",
      "-rw-r--r-- 1 jjaenes biol-imsb-beltrao 34359738368 Jun  7 14:29 nfs-ebi-research1-beltrao-wagih.tar.at\n",
      "-rw-r--r-- 1 jjaenes biol-imsb-beltrao 34359738368 Jun  7 14:43 nfs-ebi-research1-beltrao-wagih.tar.au\n",
      "-rw-r--r-- 1 jjaenes biol-imsb-beltrao 34359738368 Jun  7 14:45 nfs-ebi-research1-beltrao-wagih.tar.av\n",
      "-rw-r--r-- 1 jjaenes biol-imsb-beltrao 34359738368 Jun  7 14:49 nfs-ebi-research1-beltrao-wagih.tar.aw\n",
      "-rw-r--r-- 1 jjaenes biol-imsb-beltrao 34359738368 Jun  7 14:46 nfs-ebi-research1-beltrao-wagih.tar.ax\n",
      "-rw-r--r-- 1 jjaenes biol-imsb-beltrao 34359738368 Jun  7 15:07 nfs-ebi-research1-beltrao-wagih.tar.ay\n",
      "-rw-r--r-- 1 jjaenes biol-imsb-beltrao 34359738368 Jun  7 15:08 nfs-ebi-research1-beltrao-wagih.tar.az\n",
      "-rw-r--r-- 1 jjaenes biol-imsb-beltrao 34359738368 Jun  7 15:07 nfs-ebi-research1-beltrao-wagih.tar.ba\n",
      "-rw-r--r-- 1 jjaenes biol-imsb-beltrao 34359738368 Jun  7 15:11 nfs-ebi-research1-beltrao-wagih.tar.bb\n",
      "-rw-r--r-- 1 jjaenes biol-imsb-beltrao 34359738368 Jun  7 15:25 nfs-ebi-research1-beltrao-wagih.tar.bc\n",
      "-rw-r--r-- 1 jjaenes biol-imsb-beltrao 34359738368 Jun  7 15:32 nfs-ebi-research1-beltrao-wagih.tar.bd\n",
      "-rw-r--r-- 1 jjaenes biol-imsb-beltrao 34359738368 Jun  7 15:37 nfs-ebi-research1-beltrao-wagih.tar.be\n",
      "-rw-r--r-- 1 jjaenes biol-imsb-beltrao 34359738368 Jun  7 15:35 nfs-ebi-research1-beltrao-wagih.tar.bf\n",
      "-rw-r--r-- 1 jjaenes biol-imsb-beltrao 34359738368 Jun  7 15:44 nfs-ebi-research1-beltrao-wagih.tar.bg\n",
      "-rw-r--r-- 1 jjaenes biol-imsb-beltrao 34359738368 Jun  7 15:52 nfs-ebi-research1-beltrao-wagih.tar.bh\n",
      "-rw-r--r-- 1 jjaenes biol-imsb-beltrao 34359738368 Jun  7 15:57 nfs-ebi-research1-beltrao-wagih.tar.bi\n",
      "-rw-r--r-- 1 jjaenes biol-imsb-beltrao 34359738368 Jun  7 16:00 nfs-ebi-research1-beltrao-wagih.tar.bj\n",
      "-rw-r--r-- 1 jjaenes biol-imsb-beltrao 34359738368 Jun  7 16:03 nfs-ebi-research1-beltrao-wagih.tar.bk\n",
      "-rw-r--r-- 1 jjaenes biol-imsb-beltrao 34359738368 Jun  7 16:15 nfs-ebi-research1-beltrao-wagih.tar.bl\n",
      "-rw-r--r-- 1 jjaenes biol-imsb-beltrao 34359738368 Jun  7 16:20 nfs-ebi-research1-beltrao-wagih.tar.bm\n",
      "-rw-r--r-- 1 jjaenes biol-imsb-beltrao 34359738368 Jun  7 16:23 nfs-ebi-research1-beltrao-wagih.tar.bn\n",
      "-rw-r--r-- 1 jjaenes biol-imsb-beltrao 34359738368 Jun  7 16:24 nfs-ebi-research1-beltrao-wagih.tar.bo\n",
      "-rw-r--r-- 1 jjaenes biol-imsb-beltrao 34359738368 Jun  7 16:34 nfs-ebi-research1-beltrao-wagih.tar.bp\n",
      "-rw-r--r-- 1 jjaenes biol-imsb-beltrao 34359738368 Jun  7 16:39 nfs-ebi-research1-beltrao-wagih.tar.bq\n",
      "-rw-r--r-- 1 jjaenes biol-imsb-beltrao 34359738368 Jun  7 16:43 nfs-ebi-research1-beltrao-wagih.tar.br\n",
      "-rw-r--r-- 1 jjaenes biol-imsb-beltrao 34359738368 Jun  7 16:41 nfs-ebi-research1-beltrao-wagih.tar.bs\n",
      "-rw-r--r-- 1 jjaenes biol-imsb-beltrao 34359738368 Jun  7 19:02 nfs-ebi-research1-beltrao-wagih.tar.bt\n",
      "-rw-r--r-- 1 jjaenes biol-imsb-beltrao 34359738368 Jun  7 19:06 nfs-ebi-research1-beltrao-wagih.tar.bu\n",
      "-rw-r--r-- 1 jjaenes biol-imsb-beltrao 34359738368 Jun  7 19:23 nfs-ebi-research1-beltrao-wagih.tar.bv\n",
      "-rw-r--r-- 1 jjaenes biol-imsb-beltrao 34359738368 Jun  7 19:24 nfs-ebi-research1-beltrao-wagih.tar.bw\n",
      "-rw-r--r-- 1 jjaenes biol-imsb-beltrao 34359738368 Jun  7 19:44 nfs-ebi-research1-beltrao-wagih.tar.bx\n",
      "-rw-r--r-- 1 jjaenes biol-imsb-beltrao 34359738368 Jun  7 19:43 nfs-ebi-research1-beltrao-wagih.tar.by\n",
      "-rw-r--r-- 1 jjaenes biol-imsb-beltrao 34359738368 Jun  7 20:01 nfs-ebi-research1-beltrao-wagih.tar.bz\n",
      "-rw-r--r-- 1 jjaenes biol-imsb-beltrao 34359738368 Jun  7 20:02 nfs-ebi-research1-beltrao-wagih.tar.ca\n",
      "-rw-r--r-- 1 jjaenes biol-imsb-beltrao 34359738368 Jun  7 20:21 nfs-ebi-research1-beltrao-wagih.tar.cb\n",
      "-rw-r--r-- 1 jjaenes biol-imsb-beltrao 34359738368 Jun  7 20:23 nfs-ebi-research1-beltrao-wagih.tar.cc\n",
      "-rw-r--r-- 1 jjaenes biol-imsb-beltrao 34359738368 Jun  7 20:38 nfs-ebi-research1-beltrao-wagih.tar.cd\n",
      "-rw-r--r-- 1 jjaenes biol-imsb-beltrao 34359738368 Jun  7 20:44 nfs-ebi-research1-beltrao-wagih.tar.ce\n",
      "-rw-r--r-- 1 jjaenes biol-imsb-beltrao 34359738368 Jun  7 20:54 nfs-ebi-research1-beltrao-wagih.tar.cf\n",
      "-rw-r--r-- 1 jjaenes biol-imsb-beltrao 34359738368 Jun  7 21:06 nfs-ebi-research1-beltrao-wagih.tar.cg\n",
      "-rw-r--r-- 1 jjaenes biol-imsb-beltrao 34359738368 Jun  7 21:11 nfs-ebi-research1-beltrao-wagih.tar.ch\n",
      "-rw-r--r-- 1 jjaenes biol-imsb-beltrao 34359738368 Jun  7 21:29 nfs-ebi-research1-beltrao-wagih.tar.ci\n",
      "-rw-r--r-- 1 jjaenes biol-imsb-beltrao 34359738368 Jun  7 21:27 nfs-ebi-research1-beltrao-wagih.tar.cj\n",
      "-rw-r--r-- 1 jjaenes biol-imsb-beltrao 34359738368 Jun  7 21:43 nfs-ebi-research1-beltrao-wagih.tar.ck\n",
      "-rw-r--r-- 1 jjaenes biol-imsb-beltrao 34359738368 Jun  7 21:51 nfs-ebi-research1-beltrao-wagih.tar.cl\n",
      "-rw-r--r-- 1 jjaenes biol-imsb-beltrao 34359738368 Jun  7 22:00 nfs-ebi-research1-beltrao-wagih.tar.cm\n",
      "-rw-r--r-- 1 jjaenes biol-imsb-beltrao 34359738368 Jun  7 22:13 nfs-ebi-research1-beltrao-wagih.tar.cn\n",
      "-rw-r--r-- 1 jjaenes biol-imsb-beltrao 34359738368 Jun  7 22:16 nfs-ebi-research1-beltrao-wagih.tar.co\n",
      "-rw-r--r-- 1 jjaenes biol-imsb-beltrao 34359738368 Jun  7 22:34 nfs-ebi-research1-beltrao-wagih.tar.cp\n",
      "-rw-r--r-- 1 jjaenes biol-imsb-beltrao 34359738368 Jun  7 22:32 nfs-ebi-research1-beltrao-wagih.tar.cq\n",
      "-rw-r--r-- 1 jjaenes biol-imsb-beltrao 34359738368 Jun  7 22:50 nfs-ebi-research1-beltrao-wagih.tar.cr\n",
      "-rw-r--r-- 1 jjaenes biol-imsb-beltrao 34359738368 Jun  7 22:56 nfs-ebi-research1-beltrao-wagih.tar.cs\n",
      "-rw-r--r-- 1 jjaenes biol-imsb-beltrao 34359738368 Jun  7 23:08 nfs-ebi-research1-beltrao-wagih.tar.ct\n",
      "-rw-r--r-- 1 jjaenes biol-imsb-beltrao 34359738368 Jun  7 23:19 nfs-ebi-research1-beltrao-wagih.tar.cu\n",
      "-rw-r--r-- 1 jjaenes biol-imsb-beltrao 34359738368 Jun  7 23:27 nfs-ebi-research1-beltrao-wagih.tar.cv\n",
      "-rw-r--r-- 1 jjaenes biol-imsb-beltrao 34359738368 Jun  7 23:40 nfs-ebi-research1-beltrao-wagih.tar.cw\n",
      "-rw-r--r-- 1 jjaenes biol-imsb-beltrao 34359738368 Jun  7 23:44 nfs-ebi-research1-beltrao-wagih.tar.cx\n",
      "-rw-r--r-- 1 jjaenes biol-imsb-beltrao 34359738368 Jun  8 00:00 nfs-ebi-research1-beltrao-wagih.tar.cy\n",
      "-rw-r--r-- 1 jjaenes biol-imsb-beltrao 34359738368 Jun  8 00:01 nfs-ebi-research1-beltrao-wagih.tar.cz\n",
      "-rw-r--r-- 1 jjaenes biol-imsb-beltrao 34359738368 Jun  8 00:21 nfs-ebi-research1-beltrao-wagih.tar.da\n",
      "-rw-r--r-- 1 jjaenes biol-imsb-beltrao 34359738368 Jun  8 00:19 nfs-ebi-research1-beltrao-wagih.tar.db\n",
      "-rw-r--r-- 1 jjaenes biol-imsb-beltrao 34359738368 Jun  8 00:37 nfs-ebi-research1-beltrao-wagih.tar.dc\n",
      "-rw-r--r-- 1 jjaenes biol-imsb-beltrao 34359738368 Jun  8 00:41 nfs-ebi-research1-beltrao-wagih.tar.dd\n",
      "-rw-r--r-- 1 jjaenes biol-imsb-beltrao 34359738368 Jun  8 00:55 nfs-ebi-research1-beltrao-wagih.tar.de\n",
      "-rw-r--r-- 1 jjaenes biol-imsb-beltrao 34359738368 Jun  8 01:02 nfs-ebi-research1-beltrao-wagih.tar.df\n",
      "-rw-r--r-- 1 jjaenes biol-imsb-beltrao 14357772288 Jun  8 01:04 nfs-ebi-research1-beltrao-wagih.tar.dg\n",
      "-rw-r--r-- 1 jjaenes biol-imsb-beltrao   146627306 Jun 28 18:17 nfs-ebi-research1-beltrao-wagih.tar_tvf.txt\n",
      "-rw-r--r-- 1 jjaenes biol-imsb-beltrao    85793508 Jun  8 01:04 nfs-ebi-research1-beltrao-wagih.txt\n",
      "-rw-r--r-- 1 jjaenes biol-imsb-beltrao   354969600 Jul  2 12:09 z\n"
     ]
    }
   ],
   "source": [
    "ls -l project/24.05_mutfunc_transfer/"
   ]
  },
  {
   "cell_type": "code",
   "execution_count": 3,
   "metadata": {
    "vscode": {
     "languageId": "shellscript"
    }
   },
   "outputs": [
    {
     "name": "stdout",
     "output_type": "stream",
     "text": [
      "total 1401235672\n",
      "drwxr-sr-x 3 jjaenes biol-imsb-beltrao        4096 Jul  1 13:55 nfs-ebi-research1-beltrao-wagih-mutfunc_db\n",
      "-rw-r--r-- 1 jjaenes biol-imsb-beltrao  4553498104 Jul  2 12:13 nfs-ebi-research1-beltrao-wagih-mutfunc_db.tar.gz\n",
      "-rw-r--r-- 1 jjaenes biol-imsb-beltrao 34359738368 Jun  7 14:19 nfs-ebi-research1-beltrao-wagih.tar.aq\n",
      "-rw-r--r-- 1 jjaenes biol-imsb-beltrao 34359738368 Jun  7 14:25 nfs-ebi-research1-beltrao-wagih.tar.ar\n",
      "-rw-r--r-- 1 jjaenes biol-imsb-beltrao 34359738368 Jun  7 14:27 nfs-ebi-research1-beltrao-wagih.tar.as\n",
      "-rw-r--r-- 1 jjaenes biol-imsb-beltrao 34359738368 Jun  7 14:29 nfs-ebi-research1-beltrao-wagih.tar.at\n",
      "-rw-r--r-- 1 jjaenes biol-imsb-beltrao 34359738368 Jun  7 14:43 nfs-ebi-research1-beltrao-wagih.tar.au\n",
      "-rw-r--r-- 1 jjaenes biol-imsb-beltrao 34359738368 Jun  7 14:45 nfs-ebi-research1-beltrao-wagih.tar.av\n",
      "-rw-r--r-- 1 jjaenes biol-imsb-beltrao 34359738368 Jun  7 14:49 nfs-ebi-research1-beltrao-wagih.tar.aw\n",
      "-rw-r--r-- 1 jjaenes biol-imsb-beltrao 34359738368 Jun  7 14:46 nfs-ebi-research1-beltrao-wagih.tar.ax\n",
      "-rw-r--r-- 1 jjaenes biol-imsb-beltrao 34359738368 Jun  7 15:07 nfs-ebi-research1-beltrao-wagih.tar.ay\n",
      "-rw-r--r-- 1 jjaenes biol-imsb-beltrao 34359738368 Jun  7 15:08 nfs-ebi-research1-beltrao-wagih.tar.az\n",
      "-rw-r--r-- 1 jjaenes biol-imsb-beltrao 34359738368 Jun  7 15:07 nfs-ebi-research1-beltrao-wagih.tar.ba\n",
      "-rw-r--r-- 1 jjaenes biol-imsb-beltrao 34359738368 Jun  7 15:11 nfs-ebi-research1-beltrao-wagih.tar.bb\n",
      "-rw-r--r-- 1 jjaenes biol-imsb-beltrao 34359738368 Jun  7 15:25 nfs-ebi-research1-beltrao-wagih.tar.bc\n",
      "-rw-r--r-- 1 jjaenes biol-imsb-beltrao 34359738368 Jun  7 15:32 nfs-ebi-research1-beltrao-wagih.tar.bd\n",
      "-rw-r--r-- 1 jjaenes biol-imsb-beltrao 34359738368 Jun  7 15:37 nfs-ebi-research1-beltrao-wagih.tar.be\n",
      "-rw-r--r-- 1 jjaenes biol-imsb-beltrao 34359738368 Jun  7 15:35 nfs-ebi-research1-beltrao-wagih.tar.bf\n",
      "-rw-r--r-- 1 jjaenes biol-imsb-beltrao 34359738368 Jun  7 15:44 nfs-ebi-research1-beltrao-wagih.tar.bg\n",
      "-rw-r--r-- 1 jjaenes biol-imsb-beltrao 34359738368 Jun  7 15:52 nfs-ebi-research1-beltrao-wagih.tar.bh\n",
      "-rw-r--r-- 1 jjaenes biol-imsb-beltrao 34359738368 Jun  7 15:57 nfs-ebi-research1-beltrao-wagih.tar.bi\n",
      "-rw-r--r-- 1 jjaenes biol-imsb-beltrao 34359738368 Jun  7 16:00 nfs-ebi-research1-beltrao-wagih.tar.bj\n",
      "-rw-r--r-- 1 jjaenes biol-imsb-beltrao 34359738368 Jun  7 16:03 nfs-ebi-research1-beltrao-wagih.tar.bk\n",
      "-rw-r--r-- 1 jjaenes biol-imsb-beltrao 34359738368 Jun  7 16:15 nfs-ebi-research1-beltrao-wagih.tar.bl\n",
      "-rw-r--r-- 1 jjaenes biol-imsb-beltrao 34359738368 Jun  7 16:20 nfs-ebi-research1-beltrao-wagih.tar.bm\n",
      "-rw-r--r-- 1 jjaenes biol-imsb-beltrao 34359738368 Jun  7 16:23 nfs-ebi-research1-beltrao-wagih.tar.bn\n",
      "-rw-r--r-- 1 jjaenes biol-imsb-beltrao 34359738368 Jun  7 16:24 nfs-ebi-research1-beltrao-wagih.tar.bo\n",
      "-rw-r--r-- 1 jjaenes biol-imsb-beltrao 34359738368 Jun  7 16:34 nfs-ebi-research1-beltrao-wagih.tar.bp\n",
      "-rw-r--r-- 1 jjaenes biol-imsb-beltrao 34359738368 Jun  7 16:39 nfs-ebi-research1-beltrao-wagih.tar.bq\n",
      "-rw-r--r-- 1 jjaenes biol-imsb-beltrao 34359738368 Jun  7 16:43 nfs-ebi-research1-beltrao-wagih.tar.br\n",
      "-rw-r--r-- 1 jjaenes biol-imsb-beltrao 34359738368 Jun  7 16:41 nfs-ebi-research1-beltrao-wagih.tar.bs\n",
      "-rw-r--r-- 1 jjaenes biol-imsb-beltrao 34359738368 Jun  7 19:02 nfs-ebi-research1-beltrao-wagih.tar.bt\n",
      "-rw-r--r-- 1 jjaenes biol-imsb-beltrao 34359738368 Jun  7 19:06 nfs-ebi-research1-beltrao-wagih.tar.bu\n",
      "-rw-r--r-- 1 jjaenes biol-imsb-beltrao 34359738368 Jun  7 19:23 nfs-ebi-research1-beltrao-wagih.tar.bv\n",
      "-rw-r--r-- 1 jjaenes biol-imsb-beltrao 34359738368 Jun  7 19:24 nfs-ebi-research1-beltrao-wagih.tar.bw\n",
      "-rw-r--r-- 1 jjaenes biol-imsb-beltrao 34359738368 Jun  7 19:44 nfs-ebi-research1-beltrao-wagih.tar.bx\n",
      "-rw-r--r-- 1 jjaenes biol-imsb-beltrao 34359738368 Jun  7 19:43 nfs-ebi-research1-beltrao-wagih.tar.by\n",
      "-rw-r--r-- 1 jjaenes biol-imsb-beltrao 34359738368 Jun  7 20:01 nfs-ebi-research1-beltrao-wagih.tar.bz\n",
      "-rw-r--r-- 1 jjaenes biol-imsb-beltrao 34359738368 Jun  7 20:02 nfs-ebi-research1-beltrao-wagih.tar.ca\n",
      "-rw-r--r-- 1 jjaenes biol-imsb-beltrao 34359738368 Jun  7 20:21 nfs-ebi-research1-beltrao-wagih.tar.cb\n",
      "-rw-r--r-- 1 jjaenes biol-imsb-beltrao 34359738368 Jun  7 20:23 nfs-ebi-research1-beltrao-wagih.tar.cc\n",
      "-rw-r--r-- 1 jjaenes biol-imsb-beltrao 34359738368 Jun  7 20:38 nfs-ebi-research1-beltrao-wagih.tar.cd\n",
      "-rw-r--r-- 1 jjaenes biol-imsb-beltrao 34359738368 Jun  7 20:44 nfs-ebi-research1-beltrao-wagih.tar.ce\n",
      "-rw------- 1 jjaenes biol-imsb-beltrao 21059600384 Jul  8 16:06 nfs-ebi-research1-beltrao-wagih.tar.cf\n",
      "-rw-r--r-- 1 jjaenes biol-imsb-beltrao   146627306 Jun 28 18:17 nfs-ebi-research1-beltrao-wagih.tar_tvf.txt\n",
      "-rw-r--r-- 1 jjaenes biol-imsb-beltrao   354969600 Jul  2 12:09 z\n"
     ]
    }
   ],
   "source": [
    "ls -l work/24.05_mutfunc_transfer/"
   ]
  },
  {
   "cell_type": "code",
   "execution_count": 4,
   "metadata": {
    "vscode": {
     "languageId": "shellscript"
    }
   },
   "outputs": [
    {
     "name": "stdout",
     "output_type": "stream",
     "text": [
      "sending incremental file list\n",
      "./\n",
      "nfs-ebi-research1-beltrao-wagih.tar.aa\n",
      "nfs-ebi-research1-beltrao-wagih.tar.ab\n",
      "nfs-ebi-research1-beltrao-wagih.tar.ac\n",
      "nfs-ebi-research1-beltrao-wagih.tar.ad\n",
      "nfs-ebi-research1-beltrao-wagih.tar.ae\n",
      "nfs-ebi-research1-beltrao-wagih.tar.af\n",
      "nfs-ebi-research1-beltrao-wagih.tar.ag\n",
      "nfs-ebi-research1-beltrao-wagih.tar.ah\n",
      "nfs-ebi-research1-beltrao-wagih.tar.ai\n",
      "nfs-ebi-research1-beltrao-wagih.tar.aj\n",
      "nfs-ebi-research1-beltrao-wagih.tar.ak\n",
      "nfs-ebi-research1-beltrao-wagih.tar.al\n",
      "nfs-ebi-research1-beltrao-wagih.tar.am\n",
      "nfs-ebi-research1-beltrao-wagih.tar.an\n",
      "nfs-ebi-research1-beltrao-wagih.tar.ao\n",
      "nfs-ebi-research1-beltrao-wagih.tar.ap\n",
      "nfs-ebi-research1-beltrao-wagih.tar.cf\n",
      "nfs-ebi-research1-beltrao-wagih.tar.cg\n",
      "nfs-ebi-research1-beltrao-wagih.tar.ch\n",
      "nfs-ebi-research1-beltrao-wagih.tar.ci\n",
      "nfs-ebi-research1-beltrao-wagih.tar.cj\n",
      "nfs-ebi-research1-beltrao-wagih.tar.ck\n",
      "nfs-ebi-research1-beltrao-wagih.tar.cl\n",
      "nfs-ebi-research1-beltrao-wagih.tar.cm\n",
      "nfs-ebi-research1-beltrao-wagih.tar.cn\n",
      "nfs-ebi-research1-beltrao-wagih.tar.co\n",
      "nfs-ebi-research1-beltrao-wagih.tar.cp\n",
      "nfs-ebi-research1-beltrao-wagih.tar.cq\n",
      "nfs-ebi-research1-beltrao-wagih.tar.cr\n",
      "nfs-ebi-research1-beltrao-wagih.tar.cs\n",
      "nfs-ebi-research1-beltrao-wagih.tar.ct\n",
      "nfs-ebi-research1-beltrao-wagih.tar.cu\n",
      "nfs-ebi-research1-beltrao-wagih.tar.cv\n",
      "nfs-ebi-research1-beltrao-wagih.tar.cw\n",
      "nfs-ebi-research1-beltrao-wagih.tar.cx\n",
      "nfs-ebi-research1-beltrao-wagih.tar.cy\n",
      "nfs-ebi-research1-beltrao-wagih.tar.cz\n",
      "nfs-ebi-research1-beltrao-wagih.tar.da\n",
      "nfs-ebi-research1-beltrao-wagih.tar.db\n",
      "nfs-ebi-research1-beltrao-wagih.tar.dc\n",
      "nfs-ebi-research1-beltrao-wagih.tar.dd\n",
      "nfs-ebi-research1-beltrao-wagih.tar.de\n",
      "nfs-ebi-research1-beltrao-wagih.tar.df\n",
      "nfs-ebi-research1-beltrao-wagih.tar.dg\n",
      "nfs-ebi-research1-beltrao-wagih.txt\n",
      "\n",
      "sent 6,815 bytes  received 199 bytes  14,028.00 bytes/sec\n",
      "total size is 2,911,124,536,727  speedup is 415,044,844.13 (DRY RUN)\n"
     ]
    }
   ],
   "source": [
    "# https://unix.stackexchange.com/questions/39813/best-way-to-continue-stopped-move-mv-by-merging-directories\n",
    "# eu-login-20\n",
    "rsync --verbose --archive project/24.05_mutfunc_transfer/ work/24.05_mutfunc_transfer/ --dry-run"
   ]
  },
  {
   "cell_type": "code",
   "execution_count": null,
   "metadata": {
    "vscode": {
     "languageId": "shellscript"
    }
   },
   "outputs": [],
   "source": []
  }
 ],
 "metadata": {
  "kernelspec": {
   "display_name": "Bash",
   "language": "bash",
   "name": "bash"
  },
  "language_info": {
   "codemirror_mode": "shell",
   "file_extension": ".sh",
   "mimetype": "text/x-sh",
   "name": "bash"
  }
 },
 "nbformat": 4,
 "nbformat_minor": 2
}
