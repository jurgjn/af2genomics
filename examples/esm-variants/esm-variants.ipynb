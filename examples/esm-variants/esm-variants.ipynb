{
 "cells": [
  {
   "cell_type": "code",
   "execution_count": 1,
   "metadata": {
    "vscode": {
     "languageId": "shellscript"
    }
   },
   "outputs": [
    {
     "name": "stdout",
     "output_type": "stream",
     "text": [
      "/cluster/work/beltrao/jjaenes/24.06.10_af2genomics/software/esm-variants\n"
     ]
    }
   ],
   "source": [
    "cd /cluster/work/beltrao/jjaenes/24.06.10_af2genomics/software/esm-variants\n",
    "pwd"
   ]
  },
  {
   "cell_type": "code",
   "execution_count": 2,
   "metadata": {
    "vscode": {
     "languageId": "shellscript"
    }
   },
   "outputs": [
    {
     "name": "stdout",
     "output_type": "stream",
     "text": [
      "Using CPU (this may be much slower).\n",
      "Loading the model (esm1b_t33_650M_UR50S)...\n",
      "Invoking the model...\n",
      "Saving results...\n",
      "Done.\n",
      "\n",
      "Using cache found in /cluster/home/jjaenes/.cache/torch/hub/facebookresearch_esm_main\n",
      "\n",
      "  0%|          | 0/2 [00:00<?, ?it/s]\n",
      " 50%|█████     | 1/2 [00:31<00:31, 31.11s/it]\n",
      "100%|██████████| 2/2 [00:35<00:00, 15.50s/it]\n",
      "100%|██████████| 2/2 [00:35<00:00, 17.84s/it]\n",
      "\n"
     ]
    }
   ],
   "source": [
    "#conda run -n esm-variants-env python3 esm_score_missense_mutations.py -h\n",
    "conda run -n esm-variants-env python3 esm_score_missense_mutations.py \\\n",
    "    --input-fasta-file ../../examples/esm-variants/example.fasta \\\n",
    "    --output-csv-file ../../examples/esm-variants/esm_scores.csv"
   ]
  },
  {
   "cell_type": "code",
   "execution_count": 3,
   "metadata": {
    "vscode": {
     "languageId": "shellscript"
    }
   },
   "outputs": [
    {
     "name": "stdout",
     "output_type": "stream",
     "text": [
      "seq_id,mut_name,esm_score\n",
      "EGFR,M1K,-9.26540663279593\n",
      "EGFR,M1R,-6.815867448225617\n",
      "EGFR,M1H,-9.17978766001761\n",
      "EGFR,M1E,-8.711487794294953\n",
      "EGFR,M1D,-10.016214394941926\n",
      "EGFR,M1N,-10.8703155759722\n",
      "EGFR,M1Q,-8.126447701826692\n",
      "EGFR,M1T,-9.08522799052298\n",
      "EGFR,M1S,-8.352129006758332\n"
     ]
    }
   ],
   "source": [
    "head -n 10 ../../examples/esm-variants/esm_scores.csv"
   ]
  },
  {
   "cell_type": "code",
   "execution_count": 4,
   "metadata": {
    "vscode": {
     "languageId": "shellscript"
    }
   },
   "outputs": [
    {
     "name": "stdout",
     "output_type": "stream",
     "text": [
      "Using CPU (this may be much slower).\n",
      "Loading the model (esm1b_t33_650M_UR50S)...\n",
      "Invoking the model...\n",
      "Saving results...\n",
      "Done.\n",
      "\n",
      "Using cache found in /cluster/home/jjaenes/.cache/torch/hub/facebookresearch_esm_main\n",
      "\n"
     ]
    }
   ],
   "source": [
    "#conda run -n esm-variants-env python3 esm_score_multi_residue_mutations.py -h\n",
    "conda run -n esm-variants-env python3 esm_score_multi_residue_mutations.py \\\n",
    "    --input-csv-file ../../examples/esm-variants/multi_residue.csv \\\n",
    "    --output-csv-file ../../examples/esm-variants/multi_residue_output.csv"
   ]
  },
  {
   "cell_type": "code",
   "execution_count": 5,
   "metadata": {
    "vscode": {
     "languageId": "shellscript"
    }
   },
   "outputs": [
    {
     "name": "stdout",
     "output_type": "stream",
     "text": [
      "wt_seq,mut_seq,start_pos,esm_score\n",
      "FISHWISHFQRCHIPSTHATARECRISP,FISHWISHFQRCHEESETHATARECRISP,14,-1.0078049\n",
      "MARGTYNMGKHFDA,MGTYNMGKHFDA,2,1.0056386\n"
     ]
    }
   ],
   "source": [
    "head -n 10 ../../examples/esm-variants/multi_residue_output.csv"
   ]
  }
 ],
 "metadata": {
  "kernelspec": {
   "display_name": "Bash",
   "language": "bash",
   "name": "bash"
  },
  "language_info": {
   "codemirror_mode": "shell",
   "file_extension": ".sh",
   "mimetype": "text/x-sh",
   "name": "bash"
  }
 },
 "nbformat": 4,
 "nbformat_minor": 2
}
