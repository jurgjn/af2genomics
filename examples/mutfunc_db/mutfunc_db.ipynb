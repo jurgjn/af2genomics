{
 "cells": [
  {
   "cell_type": "code",
   "execution_count": null,
   "metadata": {
    "vscode": {
     "languageId": "shellscript"
    }
   },
   "outputs": [],
   "source": [
    "# Run with: sbatch mutfunc_db.slurm\n",
    "cd /cluster/project/beltrao/jjaenes/24.05_mutfunc_transfer\n",
    "pwd"
   ]
  },
  {
   "cell_type": "code",
   "execution_count": null,
   "metadata": {
    "vscode": {
     "languageId": "shellscript"
    }
   },
   "outputs": [],
   "source": [
    "du -ch nfs-ebi-research1-beltrao-wagih.tar.*"
   ]
  },
  {
   "cell_type": "code",
   "execution_count": null,
   "metadata": {
    "vscode": {
     "languageId": "shellscript"
    }
   },
   "outputs": [],
   "source": [
    "grep 'mutfunc_db' nfs-ebi-research1-beltrao-wagih.txt"
   ]
  },
  {
   "cell_type": "code",
   "execution_count": null,
   "metadata": {
    "vscode": {
     "languageId": "shellscript"
    }
   },
   "outputs": [],
   "source": [
    "#date; time cat nfs-ebi-research1-beltrao-wagih.tar.* | tar -tvf - > nfs-ebi-research1-beltrao-wagih.tar_tvf.txt"
   ]
  },
  {
   "cell_type": "code",
   "execution_count": null,
   "metadata": {
    "vscode": {
     "languageId": "shellscript"
    }
   },
   "outputs": [],
   "source": [
    "date; time cat nfs-ebi-research1-beltrao-wagih.tar.* | tar --one-top-level=nfs-ebi-research1-beltrao-wagih-mutfunc_db -xvf - nfs/ebi/research1/beltrao/wagih/mutfunc_db"
   ]
  }
 ],
 "metadata": {
  "kernelspec": {
   "display_name": "Bash",
   "language": "bash",
   "name": "bash"
  },
  "language_info": {
   "codemirror_mode": "shell",
   "file_extension": ".sh",
   "mimetype": "text/x-sh",
   "name": "bash"
  }
 },
 "nbformat": 4,
 "nbformat_minor": 2
}
