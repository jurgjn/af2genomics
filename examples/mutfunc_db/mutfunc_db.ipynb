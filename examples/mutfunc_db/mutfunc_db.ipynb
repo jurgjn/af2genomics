{
 "cells": [
  {
   "cell_type": "code",
   "execution_count": 11,
   "metadata": {
    "vscode": {
     "languageId": "shellscript"
    }
   },
   "outputs": [
    {
     "name": "stdout",
     "output_type": "stream",
     "text": [
      "/cluster/project/beltrao/jjaenes/24.05_mutfunc_transfer\n"
     ]
    }
   ],
   "source": [
    "# Run with: sbatch mutfunc_db.slurm\n",
    "cd /cluster/project/beltrao/jjaenes/24.05_mutfunc_transfer\n",
    "pwd"
   ]
  },
  {
   "cell_type": "code",
   "execution_count": null,
   "metadata": {
    "vscode": {
     "languageId": "shellscript"
    }
   },
   "outputs": [],
   "source": [
    "du -ch nfs-ebi-research1-beltrao-wagih.tar.*"
   ]
  },
  {
   "cell_type": "code",
   "execution_count": 12,
   "metadata": {
    "vscode": {
     "languageId": "shellscript"
    }
   },
   "outputs": [
    {
     "name": "stdout",
     "output_type": "stream",
     "text": [
      "/nfs/ebi/research1/beltrao/wagih/mutfunc_db/\n",
      "/nfs/ebi/research1/beltrao/wagih/mutfunc_db/._.DS_Store\n",
      "/nfs/ebi/research1/beltrao/wagih/mutfunc_db/.DS_Store\n",
      "/nfs/ebi/research1/beltrao/wagih/mutfunc_db/ebisync\n",
      "/nfs/ebi/research1/beltrao/wagih/mutfunc_db/yeast/\n",
      "/nfs/ebi/research1/beltrao/wagih/mutfunc_db/yeast/.DS_Store\n",
      "/nfs/ebi/research1/beltrao/wagih/mutfunc_db/yeast/make_alias_tables.r\n",
      "/nfs/ebi/research1/beltrao/wagih/mutfunc_db/yeast/build_db_yeast.r\n",
      "/nfs/ebi/research1/beltrao/wagih/mutfunc_db/yeast/.Rhistory\n",
      "/nfs/ebi/research1/beltrao/wagih/mutfunc_db/yeast/archive/\n",
      "/nfs/ebi/research1/beltrao/wagih/mutfunc_db/yeast/archive/build_db_yeast.r\n",
      "/nfs/ebi/research1/beltrao/wagih/mutfunc_db/yeast/table_scripts/\n",
      "/nfs/ebi/research1/beltrao/wagih/mutfunc_db/yeast/table_scripts/4_interfaces.r\n",
      "/nfs/ebi/research1/beltrao/wagih/mutfunc_db/yeast/table_scripts/3_stability.r\n",
      "/nfs/ebi/research1/beltrao/wagih/mutfunc_db/yeast/table_scripts/5_conservation.r\n",
      "/nfs/ebi/research1/beltrao/wagih/mutfunc_db/yeast/table_scripts/1_phosphosites_ptms.r\n",
      "/nfs/ebi/research1/beltrao/wagih/mutfunc_db/yeast/table_scripts/2_elm.r\n",
      "/nfs/ebi/research1/beltrao/wagih/mutfunc_db/yeast/table_scripts/6_tfbs.r\n",
      "/nfs/ebi/research1/beltrao/wagih/mutfunc_db/yeast/table_scripts/0_gene_aliases.r\n",
      "/nfs/ebi/research1/beltrao/wagih/mutfunc_db/yeast/data/\n",
      "/nfs/ebi/research1/beltrao/wagih/mutfunc_db/yeast/data/tfbs/\n",
      "/nfs/ebi/research1/beltrao/wagih/mutfunc_db/yeast/data/tfbs/muts_chip_tfko_nofilter.rds\n",
      "/nfs/ebi/research1/beltrao/wagih/mutfunc_db/yeast/data/tfbs/promoters_scored_match_p10.rds\n",
      "/nfs/ebi/research1/beltrao/wagih/mutfunc_db/yeast/data/conservation/\n",
      "/nfs/ebi/research1/beltrao/wagih/mutfunc_db/yeast/data/conservation/sift_filtered.tab.gz\n",
      "/nfs/ebi/research1/beltrao/wagih/mutfunc_db/yeast/data/conservation/.DS_Store\n",
      "/nfs/ebi/research1/beltrao/wagih/mutfunc_db/yeast/data/id_mapping/\n",
      "/nfs/ebi/research1/beltrao/wagih/mutfunc_db/yeast/data/id_mapping/alias_table.rds\n",
      "/nfs/ebi/research1/beltrao/wagih/mutfunc_db/yeast/data/id_mapping/saccharomyces_cerevisiae.gff\n",
      "/nfs/ebi/research1/beltrao/wagih/mutfunc_db/yeast/data/id_mapping/name2orf.rds\n",
      "/nfs/ebi/research1/beltrao/wagih/mutfunc_db/yeast/data/id_mapping/entry_name_uniprot.tab\n",
      "/nfs/ebi/research1/beltrao/wagih/mutfunc_db/yeast/data/id_mapping/uniprot2orf.tab\n",
      "/nfs/ebi/research1/beltrao/wagih/mutfunc_db/yeast/data/id_mapping/acc2orf.rds\n",
      "/nfs/ebi/research1/beltrao/wagih/mutfunc_db/yeast/data/id_mapping/uniprot2orf.rds\n",
      "/nfs/ebi/research1/beltrao/wagih/mutfunc_db/yeast/data/structure/\n",
      "/nfs/ebi/research1/beltrao/wagih/mutfunc_db/yeast/data/structure/.DS_Store\n",
      "/nfs/ebi/research1/beltrao/wagih/mutfunc_db/yeast/data/structure/mod_ddg1.tab.gz\n",
      "/nfs/ebi/research1/beltrao/wagih/mutfunc_db/yeast/data/structure/interfaces_fixed.tab\n",
      "/nfs/ebi/research1/beltrao/wagih/mutfunc_db/yeast/data/structure/int_clean.tab.gz\n",
      "/nfs/ebi/research1/beltrao/wagih/mutfunc_db/yeast/data/structure/exp_ddg1.tab.gz\n",
      "/nfs/ebi/research1/beltrao/wagih/mutfunc_db/yeast/data/ptm/\n",
      "/nfs/ebi/research1/beltrao/wagih/mutfunc_db/yeast/data/ptm/Phosphogrid_df_parsed.rds\n",
      "/nfs/ebi/research1/beltrao/wagih/mutfunc_db/yeast/data/ptm/mimp_results_yeast_lr1_all_possible_muts.rds\n",
      "/nfs/ebi/research1/beltrao/wagih/mutfunc_db/yeast/data/ptm/dbptm_yeast_parsed.rds\n",
      "/nfs/ebi/research1/beltrao/wagih/mutfunc_db/yeast/data/elm/\n",
      "/nfs/ebi/research1/beltrao/wagih/mutfunc_db/yeast/data/elm/elm_mut.tsv\n",
      "/nfs/ebi/research1/beltrao/wagih/mutfunc_db/yeast/data/elm/classes.tsv\n",
      "/nfs/ebi/research1/beltrao/wagih/mutfunc_db/yeast/data/.DS_Store\n",
      "/nfs/ebi/research1/beltrao/wagih/mutfunc_db/scripts/\n",
      "/nfs/ebi/research1/beltrao/wagih/mutfunc_db/scripts/table_helpers.r\n",
      "/nfs/ebi/research1/beltrao/wagih/mutfunc_db/mysql_scripts/\n",
      "/nfs/ebi/research1/beltrao/wagih/mutfunc_db/mysql_scripts/db_drop_ecoli.sql\n",
      "/nfs/ebi/research1/beltrao/wagih/mutfunc_db/mysql_scripts/db_index.sql\n",
      "/nfs/ebi/research1/beltrao/wagih/mutfunc_db/mysql_scripts/db_drop_human.sql\n",
      "/nfs/ebi/research1/beltrao/wagih/mutfunc_db/mysql_scripts/db_drop_yeast.sql\n",
      "/nfs/ebi/research1/beltrao/wagih/mutfunc_db/mysql_scripts/db_create.sql\n",
      "/nfs/ebi/research1/beltrao/wagih/mutfunc_db/mysql_scripts/.DS_Store\n",
      "/nfs/ebi/research1/beltrao/wagih/mutfunc_db/human/\n",
      "/nfs/ebi/research1/beltrao/wagih/mutfunc_db/human/table_scripts/\n",
      "/nfs/ebi/research1/beltrao/wagih/mutfunc_db/human/table_scripts/4_interfaces.r\n",
      "/nfs/ebi/research1/beltrao/wagih/mutfunc_db/human/table_scripts/3_stability.r\n",
      "/nfs/ebi/research1/beltrao/wagih/mutfunc_db/human/table_scripts/1_phosphosites_ptms.r\n",
      "/nfs/ebi/research1/beltrao/wagih/mutfunc_db/human/table_scripts/6_tfbs.r\n",
      "/nfs/ebi/research1/beltrao/wagih/mutfunc_db/human/table_scripts/0_gene_aliases.r\n",
      "/nfs/ebi/research1/beltrao/wagih/mutfunc_db/human/table_scripts/2_elm.r\n",
      "/nfs/ebi/research1/beltrao/wagih/mutfunc_db/human/table_scripts/5_conservation.r\n",
      "/nfs/ebi/research1/beltrao/wagih/mutfunc_db/human/data/\n",
      "/nfs/ebi/research1/beltrao/wagih/mutfunc_db/human/data/.DS_Store\n",
      "/nfs/ebi/research1/beltrao/wagih/mutfunc_db/human/data/elm/\n",
      "/nfs/ebi/research1/beltrao/wagih/mutfunc_db/human/data/elm/classes.tsv\n",
      "/nfs/ebi/research1/beltrao/wagih/mutfunc_db/human/data/elm/elm_mut_human.tsv\n",
      "/nfs/ebi/research1/beltrao/wagih/mutfunc_db/human/data/tfbs/\n",
      "/nfs/ebi/research1/beltrao/wagih/mutfunc_db/human/data/tfbs/all_tfbs_final.rds\n",
      "/nfs/ebi/research1/beltrao/wagih/mutfunc_db/human/data/tfbs/all_tfbs_mut_final.rds\n",
      "/nfs/ebi/research1/beltrao/wagih/mutfunc_db/human/data/ptm/\n",
      "/nfs/ebi/research1/beltrao/wagih/mutfunc_db/human/data/ptm/psp_ptms_parsed.rds\n",
      "/nfs/ebi/research1/beltrao/wagih/mutfunc_db/human/data/structure/\n",
      "/nfs/ebi/research1/beltrao/wagih/mutfunc_db/human/data/structure/int_clean.tab.gz\n",
      "/nfs/ebi/research1/beltrao/wagih/mutfunc_db/human/data/structure/interfaces_fixed.tab\n",
      "/nfs/ebi/research1/beltrao/wagih/mutfunc_db/human/data/structure/.DS_Store\n",
      "/nfs/ebi/research1/beltrao/wagih/mutfunc_db/human/data/structure/exp_ddg1.tab.gz\n",
      "/nfs/ebi/research1/beltrao/wagih/mutfunc_db/human/data/conservation/\n",
      "/nfs/ebi/research1/beltrao/wagih/mutfunc_db/human/data/conservation/sift_parsed_5.tab.gz\n",
      "/nfs/ebi/research1/beltrao/wagih/mutfunc_db/human/data/conservation/.DS_Store\n",
      "/nfs/ebi/research1/beltrao/wagih/mutfunc_db/human/data/id_mapping/\n",
      "/nfs/ebi/research1/beltrao/wagih/mutfunc_db/human/data/id_mapping/uniprot_reviewed_gene_names_clean.rds\n",
      "/nfs/ebi/research1/beltrao/wagih/mutfunc_db/human/data/id_mapping/uniprot_reviewed_gene_names.tab\n",
      "/nfs/ebi/research1/beltrao/wagih/mutfunc_db/human/data/id_mapping/.DS_Store\n",
      "/nfs/ebi/research1/beltrao/wagih/mutfunc_db/human/data/id_mapping/alias_table.rds\n",
      "/nfs/ebi/research1/beltrao/wagih/mutfunc_db/human/tables/\n",
      "/nfs/ebi/research1/beltrao/wagih/mutfunc_db/human/tables/CONS_MUT\n",
      "/nfs/ebi/research1/beltrao/wagih/mutfunc_db/human/tables/CONS_POS\n",
      "/nfs/ebi/research1/beltrao/wagih/mutfunc_db/human/tables/INTERFACE_MUT\n",
      "/nfs/ebi/research1/beltrao/wagih/mutfunc_db/human/tables/ELM_MUT\n",
      "/nfs/ebi/research1/beltrao/wagih/mutfunc_db/human/tables/STABILITY_MUT\n",
      "/nfs/ebi/research1/beltrao/wagih/mutfunc_db/human/tables/INTERFACE\n",
      "/nfs/ebi/research1/beltrao/wagih/mutfunc_db/human/tables/TFBS_MUT\n",
      "/nfs/ebi/research1/beltrao/wagih/mutfunc_db/human/tables/TFBS\n",
      "/nfs/ebi/research1/beltrao/wagih/mutfunc_db/human/tables/MUT\n",
      "/nfs/ebi/research1/beltrao/wagih/mutfunc_db/human/tables/INTERFACE_POS\n",
      "/nfs/ebi/research1/beltrao/wagih/mutfunc_db/human/tables/POS\n",
      "/nfs/ebi/research1/beltrao/wagih/mutfunc_db/human/tables/GENE\n",
      "/nfs/ebi/research1/beltrao/wagih/mutfunc_db/human/tables/ALIAS\n",
      "/nfs/ebi/research1/beltrao/wagih/mutfunc_db/human/tables/ELM_CLASS\n",
      "/nfs/ebi/research1/beltrao/wagih/mutfunc_db/human/tables/PTM\n",
      "/nfs/ebi/research1/beltrao/wagih/mutfunc_db/human/Untitled.R\n",
      "/nfs/ebi/research1/beltrao/wagih/mutfunc_db/human/run_all.sh\n",
      "/nfs/ebi/research1/beltrao/wagih/mutfunc_db/human/.DS_Store\n",
      "/nfs/ebi/research1/beltrao/wagih/mutfunc_db/human/make_alias_tables.r\n",
      "/nfs/ebi/research1/beltrao/wagih/mutfunc_db/human/build_db_human.r\n",
      "/nfs/ebi/research1/beltrao/wagih/mutfunc_db/human/dump_saved_tables.r\n",
      "/nfs/ebi/research1/beltrao/wagih/mutfunc_db/ecoli/\n",
      "/nfs/ebi/research1/beltrao/wagih/mutfunc_db/ecoli/data/\n",
      "/nfs/ebi/research1/beltrao/wagih/mutfunc_db/ecoli/data/.DS_Store\n",
      "/nfs/ebi/research1/beltrao/wagih/mutfunc_db/ecoli/data/ptm/\n",
      "/nfs/ebi/research1/beltrao/wagih/mutfunc_db/ecoli/data/ptm/dbPTM3_ecoli_parsed.rds\n",
      "/nfs/ebi/research1/beltrao/wagih/mutfunc_db/ecoli/data/tfbs/\n",
      "/nfs/ebi/research1/beltrao/wagih/mutfunc_db/ecoli/data/tfbs/all_tfbs_mut_final.rds\n",
      "/nfs/ebi/research1/beltrao/wagih/mutfunc_db/ecoli/data/tfbs/all_tfbs_final.rds\n",
      "/nfs/ebi/research1/beltrao/wagih/mutfunc_db/ecoli/data/conservation/\n",
      "/nfs/ebi/research1/beltrao/wagih/mutfunc_db/ecoli/data/conservation/.DS_Store\n",
      "/nfs/ebi/research1/beltrao/wagih/mutfunc_db/ecoli/data/conservation/sift_filtered.tab.gz\n",
      "/nfs/ebi/research1/beltrao/wagih/mutfunc_db/ecoli/data/structure/\n",
      "/nfs/ebi/research1/beltrao/wagih/mutfunc_db/ecoli/data/structure/mod_ddg1.tab.gz\n",
      "/nfs/ebi/research1/beltrao/wagih/mutfunc_db/ecoli/data/structure/.DS_Store\n",
      "/nfs/ebi/research1/beltrao/wagih/mutfunc_db/ecoli/data/structure/sift_filtered.tab.gz\n",
      "/nfs/ebi/research1/beltrao/wagih/mutfunc_db/ecoli/data/structure/interfaces_fixed.tab\n",
      "/nfs/ebi/research1/beltrao/wagih/mutfunc_db/ecoli/data/structure/int_clean.tab.gz\n",
      "/nfs/ebi/research1/beltrao/wagih/mutfunc_db/ecoli/data/structure/exp_ddg1.tab.gz\n",
      "/nfs/ebi/research1/beltrao/wagih/mutfunc_db/ecoli/data/id_mapping/\n",
      "/nfs/ebi/research1/beltrao/wagih/mutfunc_db/ecoli/data/id_mapping/eck_uniprot.tsv\n",
      "/nfs/ebi/research1/beltrao/wagih/mutfunc_db/ecoli/data/id_mapping/genes_uniprot.tsv\n",
      "/nfs/ebi/research1/beltrao/wagih/mutfunc_db/ecoli/data/id_mapping/uniprot_entry_acc.tab\n",
      "/nfs/ebi/research1/beltrao/wagih/mutfunc_db/ecoli/data/id_mapping/bnumber_uniprot_gene.rds\n",
      "/nfs/ebi/research1/beltrao/wagih/mutfunc_db/ecoli/data/id_mapping/alias_table.rds\n",
      "/nfs/ebi/research1/beltrao/wagih/mutfunc_db/ecoli/data/id_mapping/locus_uniprot.tsv\n",
      "/nfs/ebi/research1/beltrao/wagih/mutfunc_db/ecoli/data/id_mapping/locus_uniprot_2.tsv\n",
      "/nfs/ebi/research1/beltrao/wagih/mutfunc_db/ecoli/table_scripts/\n",
      "/nfs/ebi/research1/beltrao/wagih/mutfunc_db/ecoli/table_scripts/4_interfaces.r\n",
      "/nfs/ebi/research1/beltrao/wagih/mutfunc_db/ecoli/table_scripts/3_stability.r\n",
      "/nfs/ebi/research1/beltrao/wagih/mutfunc_db/ecoli/table_scripts/1_phosphosites_ptms.r\n",
      "/nfs/ebi/research1/beltrao/wagih/mutfunc_db/ecoli/table_scripts/.DS_Store\n",
      "/nfs/ebi/research1/beltrao/wagih/mutfunc_db/ecoli/table_scripts/6_tfbs.r\n",
      "/nfs/ebi/research1/beltrao/wagih/mutfunc_db/ecoli/table_scripts/0_gene_aliases.r\n",
      "/nfs/ebi/research1/beltrao/wagih/mutfunc_db/ecoli/table_scripts/5_conservation.r\n",
      "/nfs/ebi/research1/beltrao/wagih/mutfunc_db/ecoli/packages/\n",
      "/nfs/ebi/research1/beltrao/wagih/mutfunc_db/ecoli/packages/fasta/\n",
      "/nfs/ebi/research1/beltrao/wagih/mutfunc_db/ecoli/packages/fasta/Escherichia_coli_str_k_12_substr_mg1655.ASM584v2.dna.chromosome.Chromosome.fa.gz\n",
      "/nfs/ebi/research1/beltrao/wagih/mutfunc_db/ecoli/packages/fasta/.DS_Store\n",
      "/nfs/ebi/research1/beltrao/wagih/mutfunc_db/ecoli/packages/fasta/chr.fa\n",
      "/nfs/ebi/research1/beltrao/wagih/mutfunc_db/ecoli/packages/gff/\n",
      "/nfs/ebi/research1/beltrao/wagih/mutfunc_db/ecoli/packages/gff/.DS_Store\n",
      "/nfs/ebi/research1/beltrao/wagih/mutfunc_db/ecoli/packages/gff/Escherichia_coli_str_k_12_substr_mg1655.ASM584v2.32.gff3\n",
      "/nfs/ebi/research1/beltrao/wagih/mutfunc_db/ecoli/packages/gff/Escherichia_coli_str_k_12_substr_mg1655.ASM584v2.32_fixName.gff3\n",
      "/nfs/ebi/research1/beltrao/wagih/mutfunc_db/ecoli/packages/gff/Escherichia_coli_str_k_12_substr_mg1655.ASM584v2.32.gff3.gz\n",
      "/nfs/ebi/research1/beltrao/wagih/mutfunc_db/ecoli/packages/BSgenome.EcoliK12/\n",
      "/nfs/ebi/research1/beltrao/wagih/mutfunc_db/ecoli/packages/BSgenome.EcoliK12/R/\n",
      "/nfs/ebi/research1/beltrao/wagih/mutfunc_db/ecoli/packages/BSgenome.EcoliK12/R/zzz.R\n",
      "/nfs/ebi/research1/beltrao/wagih/mutfunc_db/ecoli/packages/BSgenome.EcoliK12/man/\n",
      "/nfs/ebi/research1/beltrao/wagih/mutfunc_db/ecoli/packages/BSgenome.EcoliK12/man/package.Rd\n",
      "/nfs/ebi/research1/beltrao/wagih/mutfunc_db/ecoli/packages/BSgenome.EcoliK12/inst/\n",
      "/nfs/ebi/research1/beltrao/wagih/mutfunc_db/ecoli/packages/BSgenome.EcoliK12/inst/extdata/\n",
      "/nfs/ebi/research1/beltrao/wagih/mutfunc_db/ecoli/packages/BSgenome.EcoliK12/inst/extdata/single_sequences.2bit\n",
      "/nfs/ebi/research1/beltrao/wagih/mutfunc_db/ecoli/packages/BSgenome.EcoliK12/inst/extdata/TxDb.EcoliK12.db\n",
      "/nfs/ebi/research1/beltrao/wagih/mutfunc_db/ecoli/packages/BSgenome.EcoliK12/inst/.DS_Store\n",
      "/nfs/ebi/research1/beltrao/wagih/mutfunc_db/ecoli/packages/BSgenome.EcoliK12/.DS_Store\n",
      "/nfs/ebi/research1/beltrao/wagih/mutfunc_db/ecoli/packages/BSgenome.EcoliK12/DESCRIPTION\n",
      "/nfs/ebi/research1/beltrao/wagih/mutfunc_db/ecoli/packages/BSgenome.EcoliK12/NAMESPACE\n",
      "/nfs/ebi/research1/beltrao/wagih/mutfunc_db/ecoli/packages/.DS_Store\n",
      "/nfs/ebi/research1/beltrao/wagih/mutfunc_db/ecoli/packages/DESCRIPTION\n",
      "/nfs/ebi/research1/beltrao/wagih/mutfunc_db/ecoli/packages/BSgenome.EcoliK12_1.0.0.tar.gz\n",
      "/nfs/ebi/research1/beltrao/wagih/mutfunc_db/ecoli/packages/build_pkg.r\n",
      "/nfs/ebi/research1/beltrao/wagih/mutfunc_db/ecoli/.DS_Store\n",
      "/nfs/ebi/research1/beltrao/wagih/mutfunc_db/ecoli/make_alias_tables.r\n",
      "/nfs/ebi/research1/beltrao/wagih/mutfunc_db/ecoli/build_db_ecoli.r\n",
      "/nfs/ebi/research1/beltrao/wagih/mutfunc_db/ecoli/.Rhistory\n"
     ]
    }
   ],
   "source": [
    "grep 'mutfunc_db' nfs-ebi-research1-beltrao-wagih.txt"
   ]
  },
  {
   "cell_type": "code",
   "execution_count": 13,
   "metadata": {
    "vscode": {
     "languageId": "shellscript"
    }
   },
   "outputs": [
    {
     "name": "stdout",
     "output_type": "stream",
     "text": [
      "Thu Jun 27 02:28:10 PM CEST 2024\n",
      "\n",
      "\n",
      "real\t75m12.135s\n",
      "user\t0m20.380s\n",
      "sys\t20m48.133s\n"
     ]
    }
   ],
   "source": [
    "date; time cat nfs-ebi-research1-beltrao-wagih.tar.* | tar --one-top-level=nfs-ebi-research1-beltrao-wagih-mutfunc_db -xvf - /nfs/ebi/research1/beltrao/wagih/mutfunc_db"
   ]
  }
 ],
 "metadata": {
  "kernelspec": {
   "display_name": "Bash",
   "language": "bash",
   "name": "bash"
  },
  "language_info": {
   "codemirror_mode": "shell",
   "file_extension": ".sh",
   "mimetype": "text/x-sh",
   "name": "bash"
  }
 },
 "nbformat": 4,
 "nbformat_minor": 2
}
