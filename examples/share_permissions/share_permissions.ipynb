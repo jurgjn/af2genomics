{
 "cells": [
  {
   "cell_type": "markdown",
   "metadata": {},
   "source": [
    "### Sharing permissions"
   ]
  },
  {
   "cell_type": "code",
   "execution_count": 1,
   "metadata": {
    "vscode": {
     "languageId": "shellscript"
    }
   },
   "outputs": [
    {
     "name": "stdout",
     "output_type": "stream",
     "text": [
      "total 3021208\n",
      "drwxr-sr-x 3 jjaenes biol-imsb-beltrao       4096 Oct  2 23:09 cache\n",
      "-rwxr-xr-x 1 jjaenes biol-imsb-beltrao 3081515008 Oct  2 18:24 colabfold_1.5.5-cuda11.8.0.sif\n",
      "drwxr-sr-x 3 jjaenes biol-imsb-beltrao      45056 Oct  7 12:41 database\n",
      "-rw-r--r-- 1 jjaenes biol-imsb-beltrao       1216 Oct  7 11:02 README.md\n",
      "-rwxr-xr-x 1 jjaenes biol-imsb-beltrao       4042 Oct  3 22:39 setup_databases.sh\n"
     ]
    }
   ],
   "source": [
    "# Check permissions\n",
    "ls -l /cluster/project/beltrao/jjaenes/22.05.30_alphafold_on_euler/batch-infer/software/colabfold"
   ]
  },
  {
   "cell_type": "code",
   "execution_count": 10,
   "metadata": {
    "vscode": {
     "languageId": "shellscript"
    }
   },
   "outputs": [],
   "source": [
    "# Add group read\n",
    "#chmod -R g+rX /cluster/project/beltrao/jjaenes/22.05.30_alphafold_on_euler/batch-infer/software/colabfold\n",
    "chmod -R g-w /cluster/project/beltrao/jjaenes/22.05.30_alphafold_on_euler/batch-infer/software/colabfold\n",
    "chmod -R o-w /cluster/project/beltrao/jjaenes/22.05.30_alphafold_on_euler/batch-infer/software/colabfold"
   ]
  },
  {
   "cell_type": "code",
   "execution_count": 9,
   "metadata": {
    "vscode": {
     "languageId": "shellscript"
    }
   },
   "outputs": [
    {
     "name": "stdout",
     "output_type": "stream",
     "text": [
      "total 1156302436\n",
      "-rw-r--r-- 1 jjaenes biol-imsb-beltrao            0 Oct  4 18:13 COLABDB_READY\n",
      "-rw-r--r-- 1 jjaenes biol-imsb-beltrao  55577947622 Sep 10  2021 colabfold_envdb_202108_aln.tsv\n",
      "-rw-r--r-- 1 jjaenes biol-imsb-beltrao  26732224605 Oct  4 15:38 colabfold_envdb_202108_db\n",
      "-rw-r--r-- 1 jjaenes biol-imsb-beltrao  27929446713 Oct  4 18:05 colabfold_envdb_202108_db_aln\n",
      "-rw-r--r-- 1 jjaenes biol-imsb-beltrao            4 Oct  4 18:12 colabfold_envdb_202108_db_aln.dbtype\n",
      "-rw-r--r-- 1 jjaenes biol-imsb-beltrao   5214433987 Oct  4 18:12 colabfold_envdb_202108_db_aln.index\n",
      "-rw-r--r-- 1 jjaenes biol-imsb-beltrao            4 Oct  4 15:40 colabfold_envdb_202108_db.dbtype\n",
      "-rw-r--r-- 1 jjaenes biol-imsb-beltrao  25108896515 Oct  4 14:13 colabfold_envdb_202108_db_h\n",
      "-rw-r--r-- 1 jjaenes biol-imsb-beltrao            4 Oct  4 15:13 colabfold_envdb_202108_db_h.dbtype\n",
      "-rw-r--r-- 1 jjaenes biol-imsb-beltrao  18036930897 Oct  4 15:13 colabfold_envdb_202108_db_h.index\n",
      "-rw-r--r-- 1 jjaenes biol-imsb-beltrao   5260769931 Oct  4 15:40 colabfold_envdb_202108_db.index\n",
      "-rw-r--r-- 1 jjaenes biol-imsb-beltrao  92749953996 Oct  4 17:27 colabfold_envdb_202108_db_seq\n",
      "-rw-r--r-- 1 jjaenes biol-imsb-beltrao            4 Oct  4 17:37 colabfold_envdb_202108_db_seq.dbtype\n",
      "lrwxrwxrwx 1 jjaenes biol-imsb-beltrao           27 Oct  4 18:13 colabfold_envdb_202108_db_seq_h -> colabfold_envdb_202108_db_h\n",
      "lrwxrwxrwx 1 jjaenes biol-imsb-beltrao           34 Oct  4 18:13 colabfold_envdb_202108_db_seq_h.dbtype -> colabfold_envdb_202108_db_h.dbtype\n",
      "lrwxrwxrwx 1 jjaenes biol-imsb-beltrao           33 Oct  4 18:13 colabfold_envdb_202108_db_seq_h.index -> colabfold_envdb_202108_db_h.index\n",
      "-rw-r--r-- 1 jjaenes biol-imsb-beltrao  18917335740 Oct  4 17:37 colabfold_envdb_202108_db_seq.index\n",
      "-rw-r--r-- 1 jjaenes biol-imsb-beltrao  31646045634 Sep 13  2021 colabfold_envdb_202108_h.tsv\n",
      "-rw-r--r-- 1 jjaenes biol-imsb-beltrao 137395855050 Sep 13  2021 colabfold_envdb_202108_seq.tsv\n",
      "-rw-r--r-- 1 jjaenes biol-imsb-beltrao 117965643010 Oct  4 13:09 colabfold_envdb_202108.tar.gz\n",
      "-rw-r--r-- 1 jjaenes biol-imsb-beltrao  40226840989 Sep 10  2021 colabfold_envdb_202108.tsv\n",
      "drwxr-sr-x 4 jjaenes biol-imsb-beltrao         4096 Oct  4 18:25 pdb\n",
      "-rw-r--r-- 1 jjaenes biol-imsb-beltrao     65092975 Oct  4 18:13 pdb100_230517\n",
      "-rw-r--r-- 1 jjaenes biol-imsb-beltrao            4 Oct  4 18:13 pdb100_230517.dbtype\n",
      "-rw-r--r-- 1 jjaenes biol-imsb-beltrao     28432889 Oct  4 18:13 pdb100_230517.fasta.gz\n",
      "-rw-r--r-- 1 jjaenes biol-imsb-beltrao     27989933 Oct  4 18:13 pdb100_230517_h\n",
      "-rw-r--r-- 1 jjaenes biol-imsb-beltrao            4 Oct  4 18:13 pdb100_230517_h.dbtype\n",
      "-rw-r--r-- 1 jjaenes biol-imsb-beltrao      6116273 Oct  4 18:13 pdb100_230517_h.index\n",
      "-rw-r--r-- 1 jjaenes biol-imsb-beltrao      6279753 Oct  4 18:13 pdb100_230517.index\n",
      "-rw-r--r-- 1 jjaenes biol-imsb-beltrao      5178372 Oct  4 18:13 pdb100_230517.lookup\n",
      "-rw-r--r-- 1 jjaenes biol-imsb-beltrao           25 Oct  4 18:13 pdb100_230517.source\n",
      "-rw-r--r-- 1 jjaenes biol-imsb-beltrao  64064274015 Jun 13  2023 pdb100_a3m.ffdata\n",
      "-rw-r--r-- 1 jjaenes biol-imsb-beltrao      6389810 Jun 13  2023 pdb100_a3m.ffindex\n",
      "-rw-r--r-- 1 jjaenes biol-imsb-beltrao  19189110724 Oct  4 18:16 pdb100_foldseek_230517.tar.gz\n",
      "-rw-r--r-- 1 jjaenes biol-imsb-beltrao            0 Oct  4 18:25 PDB100_READY\n",
      "-rw-r--r-- 1 jjaenes biol-imsb-beltrao            0 Oct  7 12:41 PDB_MMCIF_READY\n",
      "-rw-r--r-- 1 jjaenes biol-imsb-beltrao            0 Oct  4 18:13 PDB_READY\n",
      "-rw-r----- 1 jjaenes biol-imsb-beltrao  30961144274 May 16  2023 uniref30_2302_aln.tsv\n",
      "-rw-r--r-- 1 jjaenes biol-imsb-beltrao   5787495369 Oct  4 09:58 uniref30_2302_db\n",
      "-rw-r--r-- 1 jjaenes biol-imsb-beltrao   8709887243 Oct  4 12:44 uniref30_2302_db_aln\n",
      "-rw-r--r-- 1 jjaenes biol-imsb-beltrao            4 Oct  4 12:45 uniref30_2302_db_aln.dbtype\n",
      "-rw-r--r-- 1 jjaenes biol-imsb-beltrao    867494002 Oct  4 12:45 uniref30_2302_db_aln.index\n",
      "-rw-r--r-- 1 jjaenes biol-imsb-beltrao            4 Oct  4 09:59 uniref30_2302_db.dbtype\n",
      "-rw-r--r-- 1 jjaenes biol-imsb-beltrao  43200163261 Oct  4 09:33 uniref30_2302_db_h\n",
      "-rw-r--r-- 1 jjaenes biol-imsb-beltrao            4 Oct  4 09:52 uniref30_2302_db_h.dbtype\n",
      "-rw-r--r-- 1 jjaenes biol-imsb-beltrao   8910693488 Oct  4 09:52 uniref30_2302_db_h.index\n",
      "lrwxrwxrwx 1 jjaenes biol-imsb-beltrao           24 Oct  4 12:45 uniref30_2302_db.idx_mapping -> uniref30_2302_db_mapping\n",
      "lrwxrwxrwx 1 jjaenes biol-imsb-beltrao           25 Oct  4 12:45 uniref30_2302_db.idx_taxonomy -> uniref30_2302_db_taxonomy\n",
      "-rw-r--r-- 1 jjaenes biol-imsb-beltrao    879290728 Oct  4 09:59 uniref30_2302_db.index\n",
      "-rw-r----- 1 jjaenes biol-imsb-beltrao   5797891705 May 22  2023 uniref30_2302_db_mapping\n",
      "-rw-r--r-- 1 jjaenes biol-imsb-beltrao  83036144795 Oct  4 12:10 uniref30_2302_db_seq\n",
      "-rw-r--r-- 1 jjaenes biol-imsb-beltrao            4 Oct  4 12:32 uniref30_2302_db_seq.dbtype\n",
      "lrwxrwxrwx 1 jjaenes biol-imsb-beltrao           18 Oct  4 12:45 uniref30_2302_db_seq_h -> uniref30_2302_db_h\n",
      "lrwxrwxrwx 1 jjaenes biol-imsb-beltrao           25 Oct  4 12:45 uniref30_2302_db_seq_h.dbtype -> uniref30_2302_db_h.dbtype\n",
      "lrwxrwxrwx 1 jjaenes biol-imsb-beltrao           24 Oct  4 12:45 uniref30_2302_db_seq_h.index -> uniref30_2302_db_h.index\n",
      "-rw-r--r-- 1 jjaenes biol-imsb-beltrao   8957791292 Oct  4 12:32 uniref30_2302_db_seq.index\n",
      "-rw-r----- 1 jjaenes biol-imsb-beltrao    667957493 May 22  2023 uniref30_2302_db_taxonomy\n",
      "-rw-r----- 1 jjaenes biol-imsb-beltrao  46247602628 May 16  2023 uniref30_2302_h.tsv\n",
      "-rw-r----- 1 jjaenes biol-imsb-beltrao          337 May 22  2023 uniref30_2302.md5sum\n",
      "-rw-r----- 1 jjaenes biol-imsb-beltrao 137235400133 May 16  2023 uniref30_2302_seq.tsv\n",
      "-rw-r--r-- 1 jjaenes biol-imsb-beltrao 102918187842 Oct  4 08:39 uniref30_2302.tar.gz\n",
      "-rw-r----- 1 jjaenes biol-imsb-beltrao   9071701972 May 16  2023 uniref30_2302.tsv\n",
      "-rw-r--r-- 1 jjaenes biol-imsb-beltrao            0 Oct  4 12:45 UNIREF30_READY\n"
     ]
    }
   ],
   "source": [
    "# Check change\n",
    "ls -l /cluster/project/beltrao/jjaenes/22.05.30_alphafold_on_euler/batch-infer/software/colabfold/database"
   ]
  },
  {
   "cell_type": "code",
   "execution_count": 10,
   "metadata": {
    "vscode": {
     "languageId": "shellscript"
    }
   },
   "outputs": [
    {
     "name": "stdout",
     "output_type": "stream",
     "text": [
      "CHROM\tPOS\tID\tREF\tALT\tQUAL\tFILTER\tALLELEID\tCLNDISDB\tCLNDN\tCLNHGVS\tCLNREVSTAT\tCLNSIG\tCLNVC\tCLNVCSO\tGENEINFO\tMC\tORIGIN\tRS\tAF_EXAC\tAF_TGP\tAF_ESP\tCLNSIGCONF\tCLNVI\tONC\tONCREVSTAT\tSCI\tSCIREVSTAT\tCLNDISDBINCL\tCLNDNINCL\tCLNSIGINCL\tDBVARID\tSCIDISDB\tSCIDN\tONCDISDB\tONCDN\tCLNREVSTAT_STARS\tChromosome\tCoordinate\tReference_allele\tAlternative_allele\tGene\tCodon_change\tStrand\tUniprot_id\tAmino_acid_position\tAmino_acid_change\tvariant_id\n",
      "1\t69134\t2205837\tA\tG\t.\t.\t2193183\tMeSH:D030342,MedGen:C0950123\tInborn_genetic_diseases\tNC_000001.11:g.69134A>G\tcriteria_provided,_single_submitter\tLikely_benign\tsingle_nucleotide_variant\tSO:0001483\tOR4F5:79501\tSO:0001583|missense_variant\t1\t\t\t\t\t\t\t\t\t\t\t\t\t\t\t\t\t\t\t1.0\t1\t69134.0\tA\tG\tOR4F5\tgAa/gGa\t+\tA0A2U3U0J3\t36.0\tGlu/Gly\tA0A2U3U0J3/E36G\n",
      "1\t69581\t2252161\tC\tG\t.\t.\t2238986\tMeSH:D030342,MedGen:C0950123\tInborn_genetic_diseases\tNC_000001.11:g.69581C>G\tcriteria_provided,_single_submitter\tUncertain_significance\tsingle_nucleotide_variant\tSO:0001483\tOR4F5:79501\tSO:0001583|missense_variant\t1\t\t\t\t\t\t\t\t\t\t\t\t\t\t\t\t\t\t\t1.0\t1\t69581.0\tC\tG\tOR4F5\tcCc/cGc\t+\tA0A2U3U0J3\t185.0\tPro/Arg\tA0A2U3U0J3/P185R\n",
      "1\t69682\t2396347\tG\tA\t.\t.\t2386655\tMeSH:D030342,MedGen:C0950123\tInborn_genetic_diseases\tNC_000001.11:g.69682G>A\tcriteria_provided,_single_submitter\tUncertain_significance\tsingle_nucleotide_variant\tSO:0001483\tOR4F5:79501\tSO:0001583|missense_variant\t1\t\t\t\t\t\t\t\t\t\t\t\t\t\t\t\t\t\t\t1.0\t1\t69682.0\tG\tA\tOR4F5\tGug/Aug\t+\tA0A2U3U0J3\t219.0\tVal/Met\tA0A2U3U0J3/V219M\n",
      "1\t69769\t2288999\tT\tC\t.\t.\t2278803\tMeSH:D030342,MedGen:C0950123\tInborn_genetic_diseases\tNC_000001.11:g.69769T>C\tcriteria_provided,_single_submitter\tUncertain_significance\tsingle_nucleotide_variant\tSO:0001483\tOR4F5:79501\tSO:0001583|missense_variant\t1\t\t\t\t\t\t\t\t\t\t\t\t\t\t\t\t\t\t\t1.0\t1\t69769.0\tT\tC\tOR4F5\tUcc/Ccc\t+\tA0A2U3U0J3\t248.0\tSer/Pro\tA0A2U3U0J3/S248P\n"
     ]
    }
   ],
   "source": [
    "# Test whether can read now\n",
    "head -n 5 /cluster/work/beltrao/jjaenes/23.06.02_clinvar/24.04.22_protvar_out/clinvar_mapped.tsv"
   ]
  },
  {
   "cell_type": "code",
   "execution_count": 7,
   "metadata": {
    "vscode": {
     "languageId": "shellscript"
    }
   },
   "outputs": [
    {
     "name": "stdout",
     "output_type": "stream",
     "text": [
      "Thu Jun 27 02:42:50 PM CEST 2024\n",
      "\n",
      "real\t2m7.234s\n",
      "user\t0m0.382s\n",
      "sys\t0m10.561s\n"
     ]
    }
   ],
   "source": [
    "# Change permissions on all files\n",
    "date; time chmod -R a+rX  /cluster/work/beltrao/jjaenes/23.03.20_ecoli_pocketome"
   ]
  },
  {
   "cell_type": "code",
   "execution_count": null,
   "metadata": {
    "vscode": {
     "languageId": "shellscript"
    }
   },
   "outputs": [],
   "source": []
  }
 ],
 "metadata": {
  "kernelspec": {
   "display_name": "Bash",
   "language": "bash",
   "name": "bash"
  },
  "language_info": {
   "codemirror_mode": "shell",
   "file_extension": ".sh",
   "mimetype": "text/x-sh",
   "name": "bash"
  }
 },
 "nbformat": 4,
 "nbformat_minor": 2
}
