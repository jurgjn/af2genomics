{
 "cells": [
  {
   "cell_type": "code",
   "execution_count": 2,
   "metadata": {
    "vscode": {
     "languageId": "shellscript"
    }
   },
   "outputs": [
    {
     "name": "stdout",
     "output_type": "stream",
     "text": [
      "-rw------- 1 jjaenes biol-imsb-beltrao 81112 Dec  1  2023 /cluster/work/beltrao/jjaenes/23.12.06_ppi_reselect/af2-models-split/O75506/O75506_O75506.pdb\n"
     ]
    }
   ],
   "source": [
    "# Check permissions\n",
    "ls -l /cluster/work/beltrao/jjaenes/23.12.06_ppi_reselect/af2-models-split/O75506/O75506_O75506.pdb"
   ]
  },
  {
   "cell_type": "code",
   "execution_count": 3,
   "metadata": {
    "vscode": {
     "languageId": "shellscript"
    }
   },
   "outputs": [],
   "source": [
    "# Add group read\n",
    "chmod -R g+rX  /cluster/work/beltrao/jjaenes/23.12.06_ppi_reselect/af2-models-split/O75506/O75506_O75506.pdb"
   ]
  },
  {
   "cell_type": "code",
   "execution_count": 4,
   "metadata": {
    "vscode": {
     "languageId": "shellscript"
    }
   },
   "outputs": [
    {
     "name": "stdout",
     "output_type": "stream",
     "text": [
      "-rw-r----- 1 jjaenes biol-imsb-beltrao 81112 Dec  1  2023 /cluster/work/beltrao/jjaenes/23.12.06_ppi_reselect/af2-models-split/O75506/O75506_O75506.pdb\n"
     ]
    }
   ],
   "source": [
    "# Check change\n",
    "ls -l /cluster/work/beltrao/jjaenes/23.12.06_ppi_reselect/af2-models-split/O75506/O75506_O75506.pdb"
   ]
  },
  {
   "cell_type": "code",
   "execution_count": 5,
   "metadata": {
    "vscode": {
     "languageId": "shellscript"
    }
   },
   "outputs": [
    {
     "name": "stdout",
     "output_type": "stream",
     "text": [
      "ATOM      1  N   MET A   1      40.013  20.243 -28.851 42.86 42.86\n",
      "ATOM      2  CA  MET A   1      38.779  20.715 -28.230 42.86 42.86\n",
      "ATOM      3  C   MET A   1      37.608  19.806 -28.587 42.86 42.86\n",
      "ATOM      4  CB  MET A   1      38.476  22.152 -28.659 42.86 42.86\n",
      "ATOM      5  O   MET A   1      37.275  19.648 -29.763 42.86 42.86\n"
     ]
    }
   ],
   "source": [
    "# Test whether can read now\n",
    "head -n 5 /cluster/work/beltrao/jjaenes/23.12.06_ppi_reselect/af2-models-split/O75506/O75506_O75506.pdb"
   ]
  },
  {
   "cell_type": "code",
   "execution_count": 7,
   "metadata": {
    "vscode": {
     "languageId": "shellscript"
    }
   },
   "outputs": [
    {
     "name": "stdout",
     "output_type": "stream",
     "text": [
      "Thu Jun 27 02:42:50 PM CEST 2024\n",
      "\n",
      "real\t2m7.234s\n",
      "user\t0m0.382s\n",
      "sys\t0m10.561s\n"
     ]
    }
   ],
   "source": [
    "# Change permissions on all files\n",
    "date; time chmod -R g+rX  /cluster/work/beltrao/jjaenes/23.12.06_ppi_reselect/af2-models-split/"
   ]
  },
  {
   "cell_type": "code",
   "execution_count": null,
   "metadata": {
    "vscode": {
     "languageId": "shellscript"
    }
   },
   "outputs": [],
   "source": []
  }
 ],
 "metadata": {
  "kernelspec": {
   "display_name": "Bash",
   "language": "bash",
   "name": "bash"
  },
  "language_info": {
   "codemirror_mode": "shell",
   "file_extension": ".sh",
   "mimetype": "text/x-sh",
   "name": "bash"
  }
 },
 "nbformat": 4,
 "nbformat_minor": 2
}
