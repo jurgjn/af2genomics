{
 "cells": [
  {
   "cell_type": "code",
   "execution_count": 1,
   "metadata": {
    "vscode": {
     "languageId": "shellscript"
    }
   },
   "outputs": [
    {
     "name": "stdout",
     "output_type": "stream",
     "text": [
      "Many modules are hidden in this stack. Use \"module --show_hidden spider SOFTWARE\" if you are not able to find the required software\n",
      "\n",
      "WARNING: This stack is deprecated and thus frozen\n",
      "\n",
      "\n",
      "Currently Loaded Modules:\n",
      "  1) eth_proxy   2) stack/2024-05   3) gcc/13.2.0   4) cuda/12.2.1\n",
      "\n",
      " \n",
      "\n",
      "WARNING: overwriting environment variables set in the machine\n",
      "overwriting variable ['CUTLASS_PATH']\n",
      "(openfold_env)\n"
     ]
    }
   ],
   "source": [
    "module load stack/2024-05 gcc/13.2.0 cuda/12.2.1\n",
    "module list\n",
    "conda activate openfold_env"
   ]
  },
  {
   "cell_type": "code",
   "execution_count": 2,
   "metadata": {
    "vscode": {
     "languageId": "shellscript"
    }
   },
   "outputs": [
    {
     "name": "stdout",
     "output_type": "stream",
     "text": [
      "(openfold_env)\n",
      "(openfold_env)\n",
      "(openfold_env)\n",
      "(openfold_env)\n"
     ]
    }
   ],
   "source": [
    "#conda run -n base curl https://rest.uniprot.org/uniprotkb/Q71U36.fasta > /cluster/work/beltrao/jjaenes/24.06.10_af2genomics/examples/openfold/input_dir/Q71U36.fa\n",
    "#conda run -n base curl https://rest.uniprot.org/uniprotkb/P07437.fasta > /cluster/work/beltrao/jjaenes/24.06.10_af2genomics/examples/openfold/input_dir/P07437.fa\n",
    "#conda run -n base curl https://rest.uniprot.org/uniprotkb/O43663.fasta > /cluster/work/beltrao/jjaenes/24.06.10_af2genomics/examples/openfold/input_dir/O43663.fa\n",
    "cat input_dir/O43663.fa input_dir/P07437.fa input_dir/Q71U36.fa > multimer_input_dir/O43663_P07437_Q71U36.fa"
   ]
  },
  {
   "cell_type": "code",
   "execution_count": 3,
   "metadata": {
    "vscode": {
     "languageId": "shellscript"
    }
   },
   "outputs": [
    {
     "name": "stdout",
     "output_type": "stream",
     "text": [
      "(openfold_env)\n",
      "/cluster/work/beltrao/jjaenes/24.06.10_af2genomics/software/openfold\n",
      "(openfold_env)\n",
      "total 148\n",
      "drwxr-sr-x  5 jjaenes biol-imsb-beltrao  4096 Jun 24 11:09 build\n",
      "-rw-r--r--  1 jjaenes biol-imsb-beltrao  3258 Jun 24 11:02 CITATION.cff\n",
      "drwxr-sr-x 12 jjaenes biol-imsb-beltrao  4096 Jun 24 11:03 cutlass\n",
      "-rw-r--r--  1 jjaenes biol-imsb-beltrao   495 Jun 24 11:02 deepspeed_config.json\n",
      "drwxr-sr-x  2 jjaenes biol-imsb-beltrao  4096 Jun 24 11:09 dist\n",
      "-rw-r--r--  1 jjaenes biol-imsb-beltrao  1813 Jun 24 11:02 Dockerfile\n",
      "drwxr-sr-x  4 jjaenes biol-imsb-beltrao  4096 Jun 24 11:02 docs\n",
      "-rw-r--r--  1 jjaenes biol-imsb-beltrao   663 Jun 24 11:02 environment.yml\n",
      "drwxr-sr-x  2 jjaenes biol-imsb-beltrao  4096 Jun 24 11:54 example_out\n",
      "drwxr-sr-x  3 jjaenes biol-imsb-beltrao  4096 Jun 24 11:02 examples\n",
      "drwxr-sr-x  2 jjaenes biol-imsb-beltrao  4096 Jun 24 11:02 experiments\n",
      "drwxr-sr-x  2 jjaenes biol-imsb-beltrao  4096 Jun 24 11:02 imgs\n",
      "-rw-r--r--  1 jjaenes biol-imsb-beltrao 11353 Jun 24 11:02 LICENSE\n",
      "drwxr-sr-x  2 jjaenes biol-imsb-beltrao  4096 Jun 24 11:02 notebooks\n",
      "drwxr-sr-x  8 jjaenes biol-imsb-beltrao  4096 Jun 24 11:14 openfold\n",
      "drwxr-sr-x  2 jjaenes biol-imsb-beltrao  4096 Jun 24 11:08 openfold.egg-info\n",
      "-rw-r--r--  1 jjaenes biol-imsb-beltrao  3010 Jun 24 11:02 README.md\n",
      "-rw-r--r--  1 jjaenes biol-imsb-beltrao 18458 Jun 24 11:02 run_pretrained_openfold.py\n",
      "drwxr-sr-x  5 jjaenes biol-imsb-beltrao  4096 Jun 24 11:08 scripts\n",
      "-rw-r--r--  1 jjaenes biol-imsb-beltrao  4203 Jun 24 11:02 setup.py\n",
      "drwxr-sr-x  4 jjaenes biol-imsb-beltrao  4096 Jun 24 11:14 tests\n",
      "-rw-r--r--  1 jjaenes biol-imsb-beltrao  6011 Jun 24 11:02 thread_sequence.py\n",
      "-rw-r--r--  1 jjaenes biol-imsb-beltrao 25396 Jun 24 11:02 train_openfold.py\n",
      "(openfold_env)\n"
     ]
    }
   ],
   "source": [
    "export ARG_CWD=/cluster/work/beltrao/jjaenes/24.06.10_af2genomics/software/openfold\n",
    "echo $ARG_CWD\n",
    "ls -l $ARG_CWD"
   ]
  },
  {
   "cell_type": "code",
   "execution_count": 4,
   "metadata": {
    "vscode": {
     "languageId": "shellscript"
    }
   },
   "outputs": [
    {
     "name": "stdout",
     "output_type": "stream",
     "text": [
      "(openfold_env)\n",
      "(openfold_env)\n"
     ]
    }
   ],
   "source": [
    "cd $ARG_CWD\n",
    "#scripts/run_unit_tests.sh"
   ]
  },
  {
   "cell_type": "code",
   "execution_count": 5,
   "metadata": {
    "vscode": {
     "languageId": "shellscript"
    }
   },
   "outputs": [
    {
     "name": "stdout",
     "output_type": "stream",
     "text": [
      "(openfold_env)\n",
      "(openfold_env)\n",
      "(openfold_env)\n",
      "(openfold_env)\n",
      "(openfold_env)\n",
      "Mon Jul  1 02:15:29 PM CEST 2024\n",
      "[2024-07-01 14:15:40,204] [INFO] [real_accelerator.py:161:get_accelerator] Setting ds_accelerator to cuda (auto detect)\n",
      "INFO:/cluster/work/beltrao/jjaenes/24.06.10_af2genomics/software/openfold/openfold/utils/script_utils.py:Successfully loaded JAX parameters at openfold/resources/params/params_model_1_multimer_v3.npz...\n",
      "INFO:/cluster/work/beltrao/jjaenes/24.06.10_af2genomics/software/openfold/run_pretrained_openfold.py:Generating alignments for O43663...\n",
      "INFO:/cluster/work/beltrao/jjaenes/24.06.10_af2genomics/software/openfold/run_pretrained_openfold.py:Generating alignments for P07437...\n",
      "INFO:/cluster/work/beltrao/jjaenes/24.06.10_af2genomics/software/openfold/run_pretrained_openfold.py:Generating alignments for Q71U36...\n",
      "Traceback (most recent call last):\n",
      "  File \"/cluster/project/beltrao/jjaenes/software/miniconda3/envs/openfold_env/lib/python3.10/site-packages/Bio/File.py\", line 72, in as_handle\n",
      "    with open(handleish, mode, **kwargs) as fp:\n",
      "TypeError: expected str, bytes or os.PathLike object, not StringIO\n",
      "\n",
      "During handling of the above exception, another exception occurred:\n",
      "\n",
      "Traceback (most recent call last):\n",
      "  File \"/cluster/work/beltrao/jjaenes/24.06.10_af2genomics/software/openfold/run_pretrained_openfold.py\", line 493, in <module>\n",
      "    main(args)\n",
      "  File \"/cluster/work/beltrao/jjaenes/24.06.10_af2genomics/software/openfold/run_pretrained_openfold.py\", line 295, in main\n",
      "    feature_dict = generate_feature_dict(\n",
      "  File \"/cluster/work/beltrao/jjaenes/24.06.10_af2genomics/software/openfold/run_pretrained_openfold.py\", line 141, in generate_feature_dict\n",
      "    feature_dict = data_processor.process_fasta(\n",
      "  File \"/cluster/work/beltrao/jjaenes/24.06.10_af2genomics/software/openfold/openfold/data/data_pipeline.py\", line 1256, in process_fasta\n",
      "    chain_features = self._process_single_chain(\n",
      "  File \"/cluster/work/beltrao/jjaenes/24.06.10_af2genomics/software/openfold/openfold/data/data_pipeline.py\", line 1175, in _process_single_chain\n",
      "    chain_features = self._monomer_data_pipeline.process_fasta(\n",
      "  File \"/cluster/work/beltrao/jjaenes/24.06.10_af2genomics/software/openfold/openfold/data/data_pipeline.py\", line 876, in process_fasta\n",
      "    template_features = make_template_features(\n",
      "  File \"/cluster/work/beltrao/jjaenes/24.06.10_af2genomics/software/openfold/openfold/data/data_pipeline.py\", line 44, in make_template_features\n",
      "    templates_result = template_featurizer.get_templates(\n",
      "  File \"/cluster/work/beltrao/jjaenes/24.06.10_af2genomics/software/openfold/openfold/data/templates.py\", line 1244, in get_templates\n",
      "    result = _process_single_hit(\n",
      "  File \"/cluster/work/beltrao/jjaenes/24.06.10_af2genomics/software/openfold/openfold/data/templates.py\", line 867, in _process_single_hit\n",
      "    parsing_result = mmcif_parsing.parse(\n",
      "  File \"/cluster/work/beltrao/jjaenes/24.06.10_af2genomics/software/openfold/openfold/data/mmcif_parsing.py\", line 198, in parse\n",
      "    full_structure = parser.get_structure(\"\", handle)\n",
      "  File \"/cluster/project/beltrao/jjaenes/software/miniconda3/envs/openfold_env/lib/python3.10/site-packages/Bio/PDB/MMCIFParser.py\", line 73, in get_structure\n",
      "    self._mmcif_dict = MMCIF2Dict(filename)\n",
      "  File \"/cluster/project/beltrao/jjaenes/software/miniconda3/envs/openfold_env/lib/python3.10/site-packages/Bio/PDB/MMCIF2Dict.py\", line 38, in __init__\n",
      "    if token.lower() == \"loop_\":\n",
      "KeyboardInterrupt\n",
      "\n",
      "real\t125m52.105s\n",
      "user\t287m31.845s\n",
      "sys\t11m34.060s\n",
      "\n",
      "(openfold_env)\n"
     ]
    }
   ],
   "source": [
    "# Turn off templates --max_template_date '1950-01-01' from: https://harvardmed.atlassian.net/wiki/spaces/O2/pages/1995177985/Using+AlphaFold+on+O2\n",
    "export BASE_DATA_DIR='/cluster/project/alphafold'\n",
    "export TEMPLATE_MMCIF_DIR=$BASE_DATA_DIR/pdb_mmcif/mmcif_files\n",
    "export INPUT_FASTA_DIR='/cluster/work/beltrao/jjaenes/24.06.10_af2genomics/examples/openfold/multimer_input_dir'\n",
    "export OUTPUT_DIR='/cluster/work/beltrao/jjaenes/24.06.10_af2genomics/examples/openfold/multimer_output_dir'\n",
    "date; time python3 run_pretrained_openfold.py $INPUT_FASTA_DIR $TEMPLATE_MMCIF_DIR --output_dir $OUTPUT_DIR \\\n",
    "    --uniref90_database_path $BASE_DATA_DIR/uniref90/uniref90.fasta \\\n",
    "    --mgnify_database_path $BASE_DATA_DIR/mgnify/mgy_clusters_2018_12.fa \\\n",
    "    --pdb_seqres_database_path $BASE_DATA_DIR/pdb_seqres/pdb_seqres.txt \\\n",
    "    --uniref30_database_path $BASE_DATA_DIR/uniref30/UniRef30_2021_03 \\\n",
    "    --uniprot_database_path $BASE_DATA_DIR/uniprot/uniprot.fasta \\\n",
    "    --bfd_database_path $BASE_DATA_DIR/bfd/bfd_metaclust_clu_complete_id30_c90_final_seq.sorted_opt \\\n",
    "    --jackhmmer_binary_path jackhmmer \\\n",
    "    --hhblits_binary_path hhblits \\\n",
    "    --hmmsearch_binary_path hmmsearch \\\n",
    "    --hmmbuild_binary_path hmmbuild \\\n",
    "    --kalign_binary_path kalign \\\n",
    "    --config_preset model_1_multimer_v3 \\\n",
    "    --max_template_date '1950-01-01' \\\n",
    "    --model_device 'cuda:0'"
   ]
  },
  {
   "cell_type": "code",
   "execution_count": null,
   "metadata": {
    "vscode": {
     "languageId": "shellscript"
    }
   },
   "outputs": [],
   "source": []
  }
 ],
 "metadata": {
  "kernelspec": {
   "display_name": "Bash",
   "language": "bash",
   "name": "bash"
  },
  "language_info": {
   "codemirror_mode": "shell",
   "file_extension": ".sh",
   "mimetype": "text/x-sh",
   "name": "bash"
  }
 },
 "nbformat": 4,
 "nbformat_minor": 2
}
