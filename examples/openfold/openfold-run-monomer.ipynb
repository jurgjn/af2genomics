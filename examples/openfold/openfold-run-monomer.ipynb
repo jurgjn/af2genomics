{
 "cells": [
  {
   "cell_type": "code",
   "execution_count": 1,
   "metadata": {
    "vscode": {
     "languageId": "shellscript"
    }
   },
   "outputs": [
    {
     "name": "stdout",
     "output_type": "stream",
     "text": [
      "Many modules are hidden in this stack. Use \"module --show_hidden spider SOFTWARE\" if you are not able to find the required software\n",
      "\n",
      "WARNING: This stack is deprecated and thus frozen\n",
      "\n",
      "\n",
      "Currently Loaded Modules:\n",
      "  1) eth_proxy   2) stack/2024-05   3) gcc/13.2.0   4) cuda/12.2.1\n",
      "\n",
      " \n",
      "\n",
      "WARNING: overwriting environment variables set in the machine\n",
      "overwriting variable ['CUTLASS_PATH']\n",
      "(openfold_env)\n"
     ]
    }
   ],
   "source": [
    "module load stack/2024-05 gcc/13.2.0 cuda/12.2.1\n",
    "module list\n",
    "conda activate openfold_env"
   ]
  },
  {
   "cell_type": "code",
   "execution_count": 4,
   "metadata": {
    "vscode": {
     "languageId": "shellscript"
    }
   },
   "outputs": [
    {
     "name": "stdout",
     "output_type": "stream",
     "text": [
      "(openfold_env)\n",
      "/cluster/work/beltrao/jjaenes/24.06.10_af2genomics/software/openfold\n",
      "(openfold_env)\n",
      "total 148\n",
      "drwxr-sr-x  5 jjaenes biol-imsb-beltrao  4096 Jun 24 11:09 build\n",
      "-rw-r--r--  1 jjaenes biol-imsb-beltrao  3258 Jun 24 11:02 CITATION.cff\n",
      "drwxr-sr-x 12 jjaenes biol-imsb-beltrao  4096 Jun 24 11:03 cutlass\n",
      "-rw-r--r--  1 jjaenes biol-imsb-beltrao   495 Jun 24 11:02 deepspeed_config.json\n",
      "drwxr-sr-x  2 jjaenes biol-imsb-beltrao  4096 Jun 24 11:09 dist\n",
      "-rw-r--r--  1 jjaenes biol-imsb-beltrao  1813 Jun 24 11:02 Dockerfile\n",
      "drwxr-sr-x  4 jjaenes biol-imsb-beltrao  4096 Jun 24 11:02 docs\n",
      "-rw-r--r--  1 jjaenes biol-imsb-beltrao   663 Jun 24 11:02 environment.yml\n",
      "drwxr-sr-x  2 jjaenes biol-imsb-beltrao  4096 Jun 24 11:54 example_out\n",
      "drwxr-sr-x  3 jjaenes biol-imsb-beltrao  4096 Jun 24 11:02 examples\n",
      "drwxr-sr-x  2 jjaenes biol-imsb-beltrao  4096 Jun 24 11:02 experiments\n",
      "drwxr-sr-x  2 jjaenes biol-imsb-beltrao  4096 Jun 24 11:02 imgs\n",
      "-rw-r--r--  1 jjaenes biol-imsb-beltrao 11353 Jun 24 11:02 LICENSE\n",
      "drwxr-sr-x  2 jjaenes biol-imsb-beltrao  4096 Jun 24 11:02 notebooks\n",
      "drwxr-sr-x  8 jjaenes biol-imsb-beltrao  4096 Jun 24 11:14 openfold\n",
      "drwxr-sr-x  2 jjaenes biol-imsb-beltrao  4096 Jun 24 11:08 openfold.egg-info\n",
      "-rw-r--r--  1 jjaenes biol-imsb-beltrao  3010 Jun 24 11:02 README.md\n",
      "-rw-r--r--  1 jjaenes biol-imsb-beltrao 18458 Jun 24 11:02 run_pretrained_openfold.py\n",
      "drwxr-sr-x  5 jjaenes biol-imsb-beltrao  4096 Jun 24 11:08 scripts\n",
      "-rw-r--r--  1 jjaenes biol-imsb-beltrao  4203 Jun 24 11:02 setup.py\n",
      "drwxr-sr-x  4 jjaenes biol-imsb-beltrao  4096 Jun 24 11:14 tests\n",
      "-rw-r--r--  1 jjaenes biol-imsb-beltrao  6011 Jun 24 11:02 thread_sequence.py\n",
      "-rw-r--r--  1 jjaenes biol-imsb-beltrao 25396 Jun 24 11:02 train_openfold.py\n",
      "(openfold_env)\n"
     ]
    }
   ],
   "source": [
    "export ARG_CWD=/cluster/work/beltrao/jjaenes/24.06.10_af2genomics/software/openfold\n",
    "echo $ARG_CWD\n",
    "ls -l $ARG_CWD"
   ]
  },
  {
   "cell_type": "code",
   "execution_count": 5,
   "metadata": {
    "vscode": {
     "languageId": "shellscript"
    }
   },
   "outputs": [
    {
     "name": "stdout",
     "output_type": "stream",
     "text": [
      "(openfold_env)\n",
      "(openfold_env)\n"
     ]
    }
   ],
   "source": [
    "cd $ARG_CWD\n",
    "#scripts/run_unit_tests.sh"
   ]
  },
  {
   "cell_type": "code",
   "execution_count": 6,
   "metadata": {
    "vscode": {
     "languageId": "shellscript"
    }
   },
   "outputs": [
    {
     "name": "stdout",
     "output_type": "stream",
     "text": [
      "WARNING: overwriting environment variables set in the machine\n",
      "overwriting variable ['CUTLASS_PATH']\n",
      "  % Total    % Received % Xferd  Average Speed   Time    Time     Time  Current\n",
      "                                 Dload  Upload   Total   Spent    Left  Speed\n",
      "\n",
      "  0     0    0     0    0     0      0      0 --:--:-- --:--:-- --:--:--     0\n",
      "  0     0    0     0    0     0      0      0 --:--:-- --:--:-- --:--:--     0\n",
      "100   549  100   549    0     0   1085      0 --:--:-- --:--:-- --:--:--  1084\n",
      "\n",
      "(openfold_env)\n",
      "WARNING: overwriting environment variables set in the machine\n",
      "overwriting variable ['CUTLASS_PATH']\n",
      "  % Total    % Received % Xferd  Average Speed   Time    Time     Time  Current\n",
      "                                 Dload  Upload   Total   Spent    Left  Speed\n",
      "\n",
      "  0     0    0     0    0     0      0      0 --:--:-- --:--:-- --:--:--     0\n",
      "100   535  100   535    0     0   4492      0 --:--:-- --:--:-- --:--:--  4533\n",
      "\n",
      "(openfold_env)\n",
      "WARNING: overwriting environment variables set in the machine\n",
      "overwriting variable ['CUTLASS_PATH']\n",
      "  % Total    % Received % Xferd  Average Speed   Time    Time     Time  Current\n",
      "                                 Dload  Upload   Total   Spent    Left  Speed\n",
      "\n",
      "  0     0    0     0    0     0      0      0 --:--:-- --:--:-- --:--:--     0\n",
      "100   730  100   730    0     0   4229      0 --:--:-- --:--:-- --:--:--  4244\n",
      "\n",
      "(openfold_env)\n"
     ]
    }
   ],
   "source": [
    "conda run -n base curl https://rest.uniprot.org/uniprotkb/Q71U36.fasta > /cluster/work/beltrao/jjaenes/24.06.10_af2genomics/examples/openfold/input_dir/Q71U36.fa\n",
    "conda run -n base curl https://rest.uniprot.org/uniprotkb/P07437.fasta > /cluster/work/beltrao/jjaenes/24.06.10_af2genomics/examples/openfold/input_dir/P07437.fa\n",
    "conda run -n base curl https://rest.uniprot.org/uniprotkb/O43663.fasta > /cluster/work/beltrao/jjaenes/24.06.10_af2genomics/examples/openfold/input_dir/O43663.fa"
   ]
  },
  {
   "cell_type": "code",
   "execution_count": 7,
   "metadata": {
    "vscode": {
     "languageId": "shellscript"
    }
   },
   "outputs": [
    {
     "name": "stdout",
     "output_type": "stream",
     "text": [
      "(openfold_env)\n",
      "(openfold_env)\n",
      "(openfold_env)\n",
      "(openfold_env)\n",
      "Mon Jul  1 01:50:44 PM CEST 2024\n",
      "[2024-07-01 13:51:35,682] [INFO] [real_accelerator.py:161:get_accelerator] Setting ds_accelerator to cuda (auto detect)\n",
      "INFO:/cluster/work/beltrao/jjaenes/24.06.10_af2genomics/software/openfold/openfold/utils/script_utils.py:Successfully loaded JAX parameters at openfold/resources/params/params_model_1_ptm.npz...\n",
      "INFO:/cluster/work/beltrao/jjaenes/24.06.10_af2genomics/software/openfold/run_pretrained_openfold.py:Generating alignments for P07437...\n",
      "INFO:/cluster/work/beltrao/jjaenes/24.06.10_af2genomics/software/openfold/openfold/utils/script_utils.py:Running inference for P07437...\n",
      "INFO:/cluster/work/beltrao/jjaenes/24.06.10_af2genomics/software/openfold/openfold/utils/script_utils.py:Inference time: 40.496127599999454\n",
      "INFO:/cluster/work/beltrao/jjaenes/24.06.10_af2genomics/software/openfold/run_pretrained_openfold.py:Output written to /cluster/work/beltrao/jjaenes/24.06.10_af2genomics/examples/openfold/output_dir/predictions/P07437_model_1_ptm_unrelaxed.pdb...\n",
      "INFO:/cluster/work/beltrao/jjaenes/24.06.10_af2genomics/software/openfold/run_pretrained_openfold.py:Running relaxation on /cluster/work/beltrao/jjaenes/24.06.10_af2genomics/examples/openfold/output_dir/predictions/P07437_model_1_ptm_unrelaxed.pdb...\n",
      "WARNING:root:Warning: importing 'simtk.openmm' is deprecated.  Import 'openmm' instead.\n",
      "INFO:/cluster/work/beltrao/jjaenes/24.06.10_af2genomics/software/openfold/openfold/utils/script_utils.py:Relaxation time: 15.810817650999525\n",
      "INFO:/cluster/work/beltrao/jjaenes/24.06.10_af2genomics/software/openfold/openfold/utils/script_utils.py:Relaxed output written to /cluster/work/beltrao/jjaenes/24.06.10_af2genomics/examples/openfold/output_dir/predictions/P07437_model_1_ptm_relaxed.pdb...\n",
      "INFO:/cluster/work/beltrao/jjaenes/24.06.10_af2genomics/software/openfold/run_pretrained_openfold.py:Generating alignments for Q71U36...\n",
      "INFO:/cluster/work/beltrao/jjaenes/24.06.10_af2genomics/software/openfold/openfold/utils/script_utils.py:Running inference for Q71U36...\n",
      "INFO:/cluster/work/beltrao/jjaenes/24.06.10_af2genomics/software/openfold/openfold/utils/script_utils.py:Inference time: 40.378303677000076\n",
      "INFO:/cluster/work/beltrao/jjaenes/24.06.10_af2genomics/software/openfold/run_pretrained_openfold.py:Output written to /cluster/work/beltrao/jjaenes/24.06.10_af2genomics/examples/openfold/output_dir/predictions/Q71U36_model_1_ptm_unrelaxed.pdb...\n",
      "INFO:/cluster/work/beltrao/jjaenes/24.06.10_af2genomics/software/openfold/run_pretrained_openfold.py:Running relaxation on /cluster/work/beltrao/jjaenes/24.06.10_af2genomics/examples/openfold/output_dir/predictions/Q71U36_model_1_ptm_unrelaxed.pdb...\n",
      "INFO:/cluster/work/beltrao/jjaenes/24.06.10_af2genomics/software/openfold/openfold/utils/script_utils.py:Relaxation time: 16.715466343001026\n",
      "INFO:/cluster/work/beltrao/jjaenes/24.06.10_af2genomics/software/openfold/openfold/utils/script_utils.py:Relaxed output written to /cluster/work/beltrao/jjaenes/24.06.10_af2genomics/examples/openfold/output_dir/predictions/Q71U36_model_1_ptm_relaxed.pdb...\n",
      "INFO:/cluster/work/beltrao/jjaenes/24.06.10_af2genomics/software/openfold/run_pretrained_openfold.py:Generating alignments for O43663...\n",
      "INFO:/cluster/work/beltrao/jjaenes/24.06.10_af2genomics/software/openfold/openfold/utils/script_utils.py:Running inference for O43663...\n",
      "INFO:/cluster/work/beltrao/jjaenes/24.06.10_af2genomics/software/openfold/openfold/utils/script_utils.py:Inference time: 74.37161704100072\n",
      "INFO:/cluster/work/beltrao/jjaenes/24.06.10_af2genomics/software/openfold/run_pretrained_openfold.py:Output written to /cluster/work/beltrao/jjaenes/24.06.10_af2genomics/examples/openfold/output_dir/predictions/O43663_model_1_ptm_unrelaxed.pdb...\n",
      "INFO:/cluster/work/beltrao/jjaenes/24.06.10_af2genomics/software/openfold/run_pretrained_openfold.py:Running relaxation on /cluster/work/beltrao/jjaenes/24.06.10_af2genomics/examples/openfold/output_dir/predictions/O43663_model_1_ptm_unrelaxed.pdb...\n",
      "INFO:/cluster/work/beltrao/jjaenes/24.06.10_af2genomics/software/openfold/openfold/utils/script_utils.py:Relaxation time: 80.21205410599941\n",
      "INFO:/cluster/work/beltrao/jjaenes/24.06.10_af2genomics/software/openfold/openfold/utils/script_utils.py:Relaxed output written to /cluster/work/beltrao/jjaenes/24.06.10_af2genomics/examples/openfold/output_dir/predictions/O43663_model_1_ptm_relaxed.pdb...\n",
      "\n",
      "real\t54m44.113s\n",
      "user\t156m45.965s\n",
      "sys\t8m1.286s\n",
      "(openfold_env)\n"
     ]
    }
   ],
   "source": [
    "export BASE_DATA_DIR='/cluster/project/alphafold'\n",
    "export TEMPLATE_MMCIF_DIR=$BASE_DATA_DIR/pdb_mmcif/mmcif_files\n",
    "export INPUT_FASTA_DIR='/cluster/work/beltrao/jjaenes/24.06.10_af2genomics/examples/openfold/input_dir'\n",
    "export OUTPUT_DIR='/cluster/work/beltrao/jjaenes/24.06.10_af2genomics/examples/openfold/output_dir'\n",
    "date; time python3 run_pretrained_openfold.py $INPUT_FASTA_DIR $TEMPLATE_MMCIF_DIR --output_dir $OUTPUT_DIR --config_preset model_1_ptm --uniref90_database_path $BASE_DATA_DIR/uniref90/uniref90.fasta --mgnify_database_path $BASE_DATA_DIR/mgnify/mgy_clusters_2018_12.fa --pdb70_database_path $BASE_DATA_DIR/pdb70/pdb70 --uniclust30_database_path $BASE_DATA_DIR/uniclust30/uniclust30_2018_08/uniclust30_2018_08 --bfd_database_path $BASE_DATA_DIR/bfd/bfd_metaclust_clu_complete_id30_c90_final_seq.sorted_opt --model_device \"cuda:0\""
   ]
  },
  {
   "cell_type": "code",
   "execution_count": null,
   "metadata": {
    "vscode": {
     "languageId": "shellscript"
    }
   },
   "outputs": [],
   "source": []
  }
 ],
 "metadata": {
  "kernelspec": {
   "display_name": "Bash",
   "language": "bash",
   "name": "bash"
  },
  "language_info": {
   "codemirror_mode": "shell",
   "file_extension": ".sh",
   "mimetype": "text/x-sh",
   "name": "bash"
  }
 },
 "nbformat": 4,
 "nbformat_minor": 2
}
