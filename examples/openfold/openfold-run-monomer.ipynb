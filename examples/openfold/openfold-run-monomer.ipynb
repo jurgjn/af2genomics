{
 "cells": [
  {
   "cell_type": "code",
   "execution_count": 6,
   "metadata": {
    "vscode": {
     "languageId": "shellscript"
    }
   },
   "outputs": [
    {
     "name": "stdout",
     "output_type": "stream",
     "text": [
      "Many modules are hidden in this stack. Use \"module --show_hidden spider SOFTWARE\" if you are not able to find the required software\n",
      "\n",
      "Currently Loaded Modules:\n",
      "  1) eth_proxy   2) stack/2024-05   3) gcc/13.2.0   4) cuda/12.2.1\n",
      "\n",
      " \n",
      "\n",
      "WARNING: overwriting environment variables set in the machine\n",
      "overwriting variable ['CUTLASS_PATH']\n",
      "(openfold_env)\n"
     ]
    }
   ],
   "source": [
    "module load stack/2024-05 gcc/13.2.0 cuda/12.2.1\n",
    "module list\n",
    "conda activate openfold_env"
   ]
  },
  {
   "cell_type": "code",
   "execution_count": 3,
   "metadata": {
    "vscode": {
     "languageId": "shellscript"
    }
   },
   "outputs": [
    {
     "name": "stdout",
     "output_type": "stream",
     "text": [
      "/cluster/work/beltrao/jjaenes/24.06.10_af2genomics/software/openfold\n",
      "total 148\n",
      "drwxr-sr-x  5 jjaenes biol-imsb-beltrao  4096 Jun 24 11:09 build\n",
      "-rw-r--r--  1 jjaenes biol-imsb-beltrao  3258 Jun 24 11:02 CITATION.cff\n",
      "drwxr-sr-x 12 jjaenes biol-imsb-beltrao  4096 Jun 24 11:03 cutlass\n",
      "-rw-r--r--  1 jjaenes biol-imsb-beltrao   495 Jun 24 11:02 deepspeed_config.json\n",
      "drwxr-sr-x  2 jjaenes biol-imsb-beltrao  4096 Jun 24 11:09 dist\n",
      "-rw-r--r--  1 jjaenes biol-imsb-beltrao  1813 Jun 24 11:02 Dockerfile\n",
      "drwxr-sr-x  4 jjaenes biol-imsb-beltrao  4096 Jun 24 11:02 docs\n",
      "-rw-r--r--  1 jjaenes biol-imsb-beltrao   663 Jun 24 11:02 environment.yml\n",
      "drwxr-sr-x  2 jjaenes biol-imsb-beltrao  4096 Jun 24 11:54 example_out\n",
      "drwxr-sr-x  3 jjaenes biol-imsb-beltrao  4096 Jun 24 11:02 examples\n",
      "drwxr-sr-x  2 jjaenes biol-imsb-beltrao  4096 Jun 24 11:02 experiments\n",
      "drwxr-sr-x  2 jjaenes biol-imsb-beltrao  4096 Jun 24 11:02 imgs\n",
      "-rw-r--r--  1 jjaenes biol-imsb-beltrao 11353 Jun 24 11:02 LICENSE\n",
      "drwxr-sr-x  2 jjaenes biol-imsb-beltrao  4096 Jun 24 11:02 notebooks\n",
      "drwxr-sr-x  8 jjaenes biol-imsb-beltrao  4096 Jun 24 11:14 openfold\n",
      "drwxr-sr-x  2 jjaenes biol-imsb-beltrao  4096 Jun 24 11:08 openfold.egg-info\n",
      "-rw-r--r--  1 jjaenes biol-imsb-beltrao  3010 Jun 24 11:02 README.md\n",
      "-rw-r--r--  1 jjaenes biol-imsb-beltrao 18458 Jun 24 11:02 run_pretrained_openfold.py\n",
      "drwxr-sr-x  5 jjaenes biol-imsb-beltrao  4096 Jun 24 11:08 scripts\n",
      "-rw-r--r--  1 jjaenes biol-imsb-beltrao  4203 Jun 24 11:02 setup.py\n",
      "drwxr-sr-x  4 jjaenes biol-imsb-beltrao  4096 Jun 24 11:14 tests\n",
      "-rw-r--r--  1 jjaenes biol-imsb-beltrao  6011 Jun 24 11:02 thread_sequence.py\n",
      "-rw-r--r--  1 jjaenes biol-imsb-beltrao 25396 Jun 24 11:02 train_openfold.py\n"
     ]
    }
   ],
   "source": [
    "export ARG_CWD=/cluster/work/beltrao/jjaenes/24.06.10_af2genomics/software/openfold\n",
    "echo $ARG_CWD\n",
    "ls -l $ARG_CWD"
   ]
  },
  {
   "cell_type": "code",
   "execution_count": 4,
   "metadata": {
    "vscode": {
     "languageId": "shellscript"
    }
   },
   "outputs": [],
   "source": [
    "cd $ARG_CWD\n",
    "#scripts/run_unit_tests.sh"
   ]
  },
  {
   "cell_type": "code",
   "execution_count": 1,
   "metadata": {
    "vscode": {
     "languageId": "shellscript"
    }
   },
   "outputs": [
    {
     "name": "stdout",
     "output_type": "stream",
     "text": [
      "  % Total    % Received % Xferd  Average Speed   Time    Time     Time  Current\n",
      "                                 Dload  Upload   Total   Spent    Left  Speed\n",
      "\n",
      "  0     0    0     0    0     0      0      0 --:--:-- --:--:-- --:--:--     0\n",
      "100  4174  100  4174    0     0  25991      0 --:--:-- --:--:-- --:--:-- 26087\n",
      "\n"
     ]
    }
   ],
   "source": [
    "#curl https://rest.uniprot.org/uniprotkb/Q9Y4D8.fasta\n",
    "conda run -n base curl https://rest.uniprot.org/uniprotkb/Q9Y4D8.fasta > /cluster/work/beltrao/jjaenes/24.06.10_af2genomics/examples/openfold/input_dir/Q9Y4D8.fa"
   ]
  },
  {
   "cell_type": "code",
   "execution_count": 7,
   "metadata": {
    "vscode": {
     "languageId": "shellscript"
    }
   },
   "outputs": [
    {
     "name": "stdout",
     "output_type": "stream",
     "text": [
      "(openfold_env)\n",
      "(openfold_env)\n",
      "(openfold_env)\n",
      "(openfold_env)\n",
      "Mon Jun 24 02:05:13 PM CEST 2024\n",
      "[2024-06-24 14:05:45,702] [INFO] [real_accelerator.py:161:get_accelerator] Setting ds_accelerator to cuda (auto detect)\n",
      "INFO:/cluster/work/beltrao/jjaenes/24.06.10_af2genomics/software/openfold/openfold/utils/script_utils.py:Successfully loaded JAX parameters at openfold/resources/params/params_model_1_ptm.npz...\n",
      "INFO:/cluster/work/beltrao/jjaenes/24.06.10_af2genomics/software/openfold/run_pretrained_openfold.py:Generating alignments for Q9Y4D8...\n",
      "Traceback (most recent call last):\n",
      "  File \"/cluster/work/beltrao/jjaenes/24.06.10_af2genomics/software/openfold/run_pretrained_openfold.py\", line 493, in <module>\n",
      "    main(args)\n",
      "  File \"/cluster/work/beltrao/jjaenes/24.06.10_af2genomics/software/openfold/run_pretrained_openfold.py\", line 291, in main\n",
      "    precompute_alignments(tags, seqs, alignment_dir, args)\n",
      "  File \"/cluster/work/beltrao/jjaenes/24.06.10_af2genomics/software/openfold/run_pretrained_openfold.py\", line 111, in precompute_alignments\n",
      "    alignment_runner.run(\n",
      "  File \"/cluster/work/beltrao/jjaenes/24.06.10_af2genomics/software/openfold/openfold/data/data_pipeline.py\", line 534, in run\n",
      "    hhblits_bfd_unirefclust_result = run_msa_tool(\n",
      "  File \"/cluster/work/beltrao/jjaenes/24.06.10_af2genomics/software/openfold/openfold/data/data_pipeline.py\", line 262, in run_msa_tool\n",
      "    result = msa_runner.query(fasta_path)[0]\n",
      "  File \"/cluster/work/beltrao/jjaenes/24.06.10_af2genomics/software/openfold/openfold/data/tools/hhblits.py\", line 150, in query\n",
      "    stdout, stderr = process.communicate()\n",
      "  File \"/cluster/project/beltrao/jjaenes/software/miniconda3/envs/openfold_env/lib/python3.10/subprocess.py\", line 1154, in communicate\n",
      "    stdout, stderr = self._communicate(input, endtime, timeout)\n",
      "  File \"/cluster/project/beltrao/jjaenes/software/miniconda3/envs/openfold_env/lib/python3.10/subprocess.py\", line 2021, in _communicate\n",
      "    ready = selector.select(timeout)\n",
      "  File \"/cluster/project/beltrao/jjaenes/software/miniconda3/envs/openfold_env/lib/python3.10/selectors.py\", line 416, in select\n",
      "    fd_event_list = self._selector.poll(timeout)\n",
      "KeyboardInterrupt\n",
      "\n",
      "real\t66m57.809s\n",
      "user\t256m30.203s\n",
      "sys\t1m53.128s\n",
      "\n",
      "(openfold_env)\n"
     ]
    }
   ],
   "source": [
    "export BASE_DATA_DIR='/cluster/project/alphafold'\n",
    "export TEMPLATE_MMCIF_DIR=$BASE_DATA_DIR/pdb_mmcif/mmcif_files\n",
    "export INPUT_FASTA_DIR='/cluster/work/beltrao/jjaenes/24.06.10_af2genomics/examples/openfold/input_dir'\n",
    "export OUTPUT_DIR='/cluster/work/beltrao/jjaenes/24.06.10_af2genomics/examples/openfold/output_dir'\n",
    "date; time python3 run_pretrained_openfold.py $INPUT_FASTA_DIR $TEMPLATE_MMCIF_DIR --output_dir $OUTPUT_DIR --config_preset model_1_ptm --uniref90_database_path $BASE_DATA_DIR/uniref90/uniref90.fasta --mgnify_database_path $BASE_DATA_DIR/mgnify/mgy_clusters_2018_12.fa --pdb70_database_path $BASE_DATA_DIR/pdb70/pdb70 --uniclust30_database_path $BASE_DATA_DIR/uniclust30/uniclust30_2018_08/uniclust30_2018_08 --bfd_database_path $BASE_DATA_DIR/bfd/bfd_metaclust_clu_complete_id30_c90_final_seq.sorted_opt --model_device \"cuda:0\""
   ]
  },
  {
   "cell_type": "code",
   "execution_count": null,
   "metadata": {
    "vscode": {
     "languageId": "shellscript"
    }
   },
   "outputs": [],
   "source": []
  }
 ],
 "metadata": {
  "kernelspec": {
   "display_name": "Bash",
   "language": "bash",
   "name": "bash"
  },
  "language_info": {
   "codemirror_mode": "shell",
   "file_extension": ".sh",
   "mimetype": "text/x-sh",
   "name": "bash"
  }
 },
 "nbformat": 4,
 "nbformat_minor": 2
}
