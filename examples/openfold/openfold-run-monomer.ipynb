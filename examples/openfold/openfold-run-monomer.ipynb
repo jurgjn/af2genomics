{
 "cells": [
  {
   "cell_type": "code",
   "execution_count": 1,
   "metadata": {
    "vscode": {
     "languageId": "shellscript"
    }
   },
   "outputs": [
    {
     "name": "stdout",
     "output_type": "stream",
     "text": [
      "Many modules are hidden in this stack. Use \"module --show_hidden spider SOFTWARE\" if you are not able to find the required software\n",
      "\n",
      "Currently Loaded Modules:\n",
      "  1) eth_proxy   2) stack/2024-05   3) gcc/13.2.0   4) cuda/12.2.1\n",
      "\n",
      " \n",
      "\n",
      "WARNING: overwriting environment variables set in the machine\n",
      "overwriting variable ['CUTLASS_PATH']\n",
      "(openfold_env)\n"
     ]
    }
   ],
   "source": [
    "module load stack/2024-05 gcc/13.2.0 cuda/12.2.1\n",
    "module list\n",
    "conda activate openfold_env"
   ]
  },
  {
   "cell_type": "code",
   "execution_count": 2,
   "metadata": {
    "vscode": {
     "languageId": "shellscript"
    }
   },
   "outputs": [
    {
     "name": "stdout",
     "output_type": "stream",
     "text": [
      "(openfold_env)\n",
      "/cluster/work/beltrao/jjaenes/24.06.10_af2genomics/software/openfold\n",
      "(openfold_env)\n",
      "total 144\n",
      "drwxr-sr-x  5 jjaenes biol-imsb-beltrao  4096 Jun 24 11:09 build\n",
      "-rw-r--r--  1 jjaenes biol-imsb-beltrao  3258 Jun 24 11:02 CITATION.cff\n",
      "drwxr-sr-x 12 jjaenes biol-imsb-beltrao  4096 Jun 24 11:03 cutlass\n",
      "-rw-r--r--  1 jjaenes biol-imsb-beltrao   495 Jun 24 11:02 deepspeed_config.json\n",
      "drwxr-sr-x  2 jjaenes biol-imsb-beltrao  4096 Jun 24 11:09 dist\n",
      "-rw-r--r--  1 jjaenes biol-imsb-beltrao  1813 Jun 24 11:02 Dockerfile\n",
      "drwxr-sr-x  4 jjaenes biol-imsb-beltrao  4096 Jun 24 11:02 docs\n",
      "-rw-r--r--  1 jjaenes biol-imsb-beltrao   663 Jun 24 11:02 environment.yml\n",
      "drwxr-sr-x  3 jjaenes biol-imsb-beltrao  4096 Jun 24 11:02 examples\n",
      "drwxr-sr-x  2 jjaenes biol-imsb-beltrao  4096 Jun 24 11:02 experiments\n",
      "drwxr-sr-x  2 jjaenes biol-imsb-beltrao  4096 Jun 24 11:02 imgs\n",
      "-rw-r--r--  1 jjaenes biol-imsb-beltrao 11353 Jun 24 11:02 LICENSE\n",
      "drwxr-sr-x  2 jjaenes biol-imsb-beltrao  4096 Jun 24 11:02 notebooks\n",
      "drwxr-sr-x  8 jjaenes biol-imsb-beltrao  4096 Jun 24 11:14 openfold\n",
      "drwxr-sr-x  2 jjaenes biol-imsb-beltrao  4096 Jun 24 11:08 openfold.egg-info\n",
      "-rw-r--r--  1 jjaenes biol-imsb-beltrao  3010 Jun 24 11:02 README.md\n",
      "-rw-r--r--  1 jjaenes biol-imsb-beltrao 18458 Jun 24 11:02 run_pretrained_openfold.py\n",
      "drwxr-sr-x  5 jjaenes biol-imsb-beltrao  4096 Jun 24 11:08 scripts\n",
      "-rw-r--r--  1 jjaenes biol-imsb-beltrao  4203 Jun 24 11:02 setup.py\n",
      "drwxr-sr-x  4 jjaenes biol-imsb-beltrao  4096 Jun 24 11:14 tests\n",
      "-rw-r--r--  1 jjaenes biol-imsb-beltrao  6011 Jun 24 11:02 thread_sequence.py\n",
      "-rw-r--r--  1 jjaenes biol-imsb-beltrao 25396 Jun 24 11:02 train_openfold.py\n",
      "(openfold_env)\n"
     ]
    }
   ],
   "source": [
    "export ARG_CWD=/cluster/work/beltrao/jjaenes/24.06.10_af2genomics/software/openfold\n",
    "echo $ARG_CWD\n",
    "ls -l $ARG_CWD"
   ]
  },
  {
   "cell_type": "code",
   "execution_count": 3,
   "metadata": {
    "vscode": {
     "languageId": "shellscript"
    }
   },
   "outputs": [
    {
     "name": "stdout",
     "output_type": "stream",
     "text": [
      "(openfold_env)\n",
      "[2024-06-24 11:47:51,383] [INFO] [real_accelerator.py:161:get_accelerator] Setting ds_accelerator to cuda (auto detect)\n",
      "s.................Using /cluster/home/jjaenes/.cache/torch_extensions/py310_cu121 as PyTorch extensions root...\n",
      "Detected CUDA files, patching ldflags\n",
      "Emitting ninja build file /cluster/home/jjaenes/.cache/torch_extensions/py310_cu121/evoformer_attn/build.ninja...\n",
      "Building extension module evoformer_attn...\n",
      "Using envvar MAX_JOBS (10) as the number of workers...\n",
      "ninja: no work to do.\n",
      "Loading extension module evoformer_attn...\n",
      "Time to load evoformer_attn op: 0.07516670227050781 seconds\n",
      "............s...s.sss.ss.....sssssssss.sss....ssssss..s.s.s.ss.s......s.s..ss...ss.s.s....s........\n",
      "----------------------------------------------------------------------\n",
      "Ran 117 tests in 19.320s\n",
      "\n",
      "OK (skipped=41)\n",
      "(openfold_env)\n"
     ]
    }
   ],
   "source": [
    "cd $ARG_CWD\n",
    "scripts/run_unit_tests.sh"
   ]
  },
  {
   "cell_type": "code",
   "execution_count": 17,
   "metadata": {
    "vscode": {
     "languageId": "shellscript"
    }
   },
   "outputs": [
    {
     "name": "stdout",
     "output_type": "stream",
     "text": [
      "(openfold_env)\n",
      "WARNING: overwriting environment variables set in the machine\n",
      "overwriting variable ['CUTLASS_PATH']\n",
      "  % Total    % Received % Xferd  Average Speed   Time    Time     Time  Current\n",
      "                                 Dload  Upload   Total   Spent    Left  Speed\n",
      "\n",
      "  0     0    0     0    0     0      0      0 --:--:-- --:--:-- --:--:--     0\n",
      "100   167  100   167    0     0   1629      0 --:--:-- --:--:-- --:--:--  1637\n",
      "\n",
      "(openfold_env)\n"
     ]
    }
   ],
   "source": [
    "#curl https://rest.uniprot.org/uniprotkb/O00244.fasta\n",
    "conda run -n base curl https://rest.uniprot.org/uniprotkb/O00244.fasta > /cluster/work/beltrao/jjaenes/24.06.10_af2genomics/examples/openfold/input_dir/O00244.fa"
   ]
  },
  {
   "cell_type": "code",
   "execution_count": 20,
   "metadata": {
    "vscode": {
     "languageId": "shellscript"
    }
   },
   "outputs": [
    {
     "name": "stdout",
     "output_type": "stream",
     "text": [
      "(openfold_env)\n",
      "(openfold_env)\n",
      "(openfold_env)\n",
      "(openfold_env)\n",
      "(openfold_env)\n",
      "[2024-06-24 11:55:47,363] [INFO] [real_accelerator.py:161:get_accelerator] Setting ds_accelerator to cuda (auto detect)\n",
      "INFO:/cluster/work/beltrao/jjaenes/24.06.10_af2genomics/software/openfold/openfold/utils/script_utils.py:Successfully loaded JAX parameters at openfold/resources/params/params_model_1_ptm.npz...\n",
      "INFO:/cluster/work/beltrao/jjaenes/24.06.10_af2genomics/software/openfold/run_pretrained_openfold.py:Generating alignments for sp...\n",
      "INFO:/cluster/work/beltrao/jjaenes/24.06.10_af2genomics/software/openfold/openfold/utils/script_utils.py:Running inference for sp...\n",
      "INFO:/cluster/work/beltrao/jjaenes/24.06.10_af2genomics/software/openfold/openfold/utils/script_utils.py:Inference time: 3.9508235710090958\n",
      "INFO:/cluster/work/beltrao/jjaenes/24.06.10_af2genomics/software/openfold/run_pretrained_openfold.py:Output written to /cluster/work/beltrao/jjaenes/24.06.10_af2genomics/examples/openfold/output_dir/predictions/sp_model_1_ptm_unrelaxed.pdb...\n",
      "INFO:/cluster/work/beltrao/jjaenes/24.06.10_af2genomics/software/openfold/run_pretrained_openfold.py:Running relaxation on /cluster/work/beltrao/jjaenes/24.06.10_af2genomics/examples/openfold/output_dir/predictions/sp_model_1_ptm_unrelaxed.pdb...\n",
      "WARNING:root:Warning: importing 'simtk.openmm' is deprecated.  Import 'openmm' instead.\n",
      "INFO:/cluster/work/beltrao/jjaenes/24.06.10_af2genomics/software/openfold/openfold/utils/script_utils.py:Relaxation time: 8.16885757498676\n",
      "INFO:/cluster/work/beltrao/jjaenes/24.06.10_af2genomics/software/openfold/openfold/utils/script_utils.py:Relaxed output written to /cluster/work/beltrao/jjaenes/24.06.10_af2genomics/examples/openfold/output_dir/predictions/sp_model_1_ptm_relaxed.pdb...\n",
      "(openfold_env)\n"
     ]
    }
   ],
   "source": [
    "export BASE_DATA_DIR='/cluster/project/alphafold'\n",
    "export TEMPLATE_MMCIF_DIR=$BASE_DATA_DIR/pdb_mmcif/mmcif_files\n",
    "export INPUT_FASTA_DIR='/cluster/work/beltrao/jjaenes/24.06.10_af2genomics/examples/openfold/input_dir'\n",
    "export OUTPUT_DIR='/cluster/work/beltrao/jjaenes/24.06.10_af2genomics/examples/openfold/output_dir'\n",
    "\n",
    "python3 run_pretrained_openfold.py $INPUT_FASTA_DIR $TEMPLATE_MMCIF_DIR --output_dir $OUTPUT_DIR --config_preset model_1_ptm --uniref90_database_path $BASE_DATA_DIR/uniref90/uniref90.fasta --mgnify_database_path $BASE_DATA_DIR/mgnify/mgy_clusters_2018_12.fa --pdb70_database_path $BASE_DATA_DIR/pdb70/pdb70 --uniclust30_database_path $BASE_DATA_DIR/uniclust30/uniclust30_2018_08/uniclust30_2018_08 --bfd_database_path $BASE_DATA_DIR/bfd/bfd_metaclust_clu_complete_id30_c90_final_seq.sorted_opt --model_device \"cuda:0\""
   ]
  },
  {
   "cell_type": "code",
   "execution_count": null,
   "metadata": {
    "vscode": {
     "languageId": "shellscript"
    }
   },
   "outputs": [],
   "source": []
  }
 ],
 "metadata": {
  "kernelspec": {
   "display_name": "Bash",
   "language": "bash",
   "name": "bash"
  },
  "language_info": {
   "codemirror_mode": "shell",
   "file_extension": ".sh",
   "mimetype": "text/x-sh",
   "name": "bash"
  }
 },
 "nbformat": 4,
 "nbformat_minor": 2
}
