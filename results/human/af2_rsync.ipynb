{
 "cells": [
  {
   "cell_type": "code",
   "execution_count": 1,
   "metadata": {
    "vscode": {
     "languageId": "shellscript"
    }
   },
   "outputs": [
    {
     "name": "stdout",
     "output_type": "stream",
     "text": [
      "pwd\n",
      "/cluster/work/beltrao/jjaenes/24.06.10_af2genomics/results/human\n"
     ]
    }
   ],
   "source": [
    "!pwd"
   ]
  },
  {
   "cell_type": "code",
   "execution_count": 2,
   "metadata": {
    "vscode": {
     "languageId": "shellscript"
    }
   },
   "outputs": [
    {
     "name": "stdout",
     "output_type": "stream",
     "text": [
      "sending incremental file list\n",
      "\n",
      "sent 1,041,963 bytes  received 22,193 bytes  783.33 bytes/sec\n",
      "total size is 9,579,325,941  speedup is 9,001.81 (DRY RUN)\n"
     ]
    }
   ],
   "source": [
    "SRC='/cluster/project/beltrao/jjaenes/22.12_pocketomes/results/23.04_bindfunc/af2/'\n",
    "DEST='af2/'\n",
    "date; time rsync --verbose --archive $SRC $DEST --dry-run"
   ]
  }
 ],
 "metadata": {
  "kernelspec": {
   "display_name": "Bash",
   "language": "bash",
   "name": "bash"
  },
  "language_info": {
   "codemirror_mode": "shell",
   "file_extension": ".sh",
   "mimetype": "text/x-sh",
   "name": "bash"
  }
 },
 "nbformat": 4,
 "nbformat_minor": 2
}
