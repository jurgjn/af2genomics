{
 "cells": [
  {
   "cell_type": "code",
   "execution_count": 1,
   "metadata": {
    "vscode": {
     "languageId": "shellscript"
    }
   },
   "outputs": [
    {
     "name": "stdout",
     "output_type": "stream",
     "text": [
      "File ‘UP000005640_9606_HUMAN_v4.tar’ already there; not retrieving.\n",
      "\n"
     ]
    }
   ],
   "source": [
    "wget -nc https://ftp.ebi.ac.uk/pub/databases/alphafold/latest/UP000005640_9606_HUMAN_v4.tar"
   ]
  },
  {
   "cell_type": "code",
   "execution_count": 2,
   "metadata": {
    "vscode": {
     "languageId": "shellscript"
    }
   },
   "outputs": [
    {
     "name": "stdout",
     "output_type": "stream",
     "text": [
      "AF-A0A024R1R8-F1-model_v4.pdb.gz\n",
      "AF-A0A024RBG1-F1-model_v4.pdb.gz\n",
      "AF-A0A024RCN7-F1-model_v4.pdb.gz\n",
      "AF-A0A075B6H5-F1-model_v4.pdb.gz\n",
      "AF-A0A075B6H7-F1-model_v4.pdb.gz\n",
      "AF-A0A075B6H8-F1-model_v4.pdb.gz\n",
      "AF-A0A075B6H9-F1-model_v4.pdb.gz\n",
      "AF-A0A075B6I0-F1-model_v4.pdb.gz\n",
      "AF-A0A075B6I1-F1-model_v4.pdb.gz\n",
      "AF-A0A075B6I3-F1-model_v4.pdb.gz\n"
     ]
    }
   ],
   "source": [
    "tar -tf UP000005640_9606_HUMAN_v4.tar --exclude='*.cif.gz' --show-transformed-names | head -n 10"
   ]
  },
  {
   "cell_type": "code",
   "execution_count": 3,
   "metadata": {
    "vscode": {
     "languageId": "shellscript"
    }
   },
   "outputs": [],
   "source": [
    "tar -tf UP000005640_9606_HUMAN_v4.tar --exclude='*.cif.gz' --show-transformed-names > UP000005640_9606_HUMAN_v4.txt"
   ]
  },
  {
   "cell_type": "code",
   "execution_count": 5,
   "metadata": {
    "vscode": {
     "languageId": "shellscript"
    }
   },
   "outputs": [
    {
     "name": "stdout",
     "output_type": "stream",
     "text": [
      "c48dd07d9e79755193060e7533f0f683  UP000005640_9606_HUMAN_v4.tar\n"
     ]
    }
   ],
   "source": [
    "md5sum UP000005640_9606_HUMAN_v4.tar"
   ]
  }
 ],
 "metadata": {
  "kernelspec": {
   "display_name": "Bash",
   "language": "bash",
   "name": "bash"
  },
  "language_info": {
   "codemirror_mode": "shell",
   "file_extension": ".sh",
   "mimetype": "text/x-sh",
   "name": "bash"
  },
  "orig_nbformat": 4
 },
 "nbformat": 4,
 "nbformat_minor": 2
}
