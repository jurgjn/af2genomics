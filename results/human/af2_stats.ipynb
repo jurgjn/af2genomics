{
 "cells": [
  {
   "cell_type": "code",
   "execution_count": 1,
   "metadata": {},
   "outputs": [
    {
     "name": "stdout",
     "output_type": "stream",
     "text": [
      "prody not found; if needed, install with: conda install conda-forge::prody\n"
     ]
    }
   ],
   "source": [
    "%run ~/af2genomics/notebooks/__init__.ipynb"
   ]
  },
  {
   "cell_type": "code",
   "execution_count": 2,
   "metadata": {},
   "outputs": [],
   "source": [
    "df_ = pd.read_csv('UP000005640_9606_HUMAN_v4.txt', names=['pdb'])\n",
    "df_['af2_id'] = df_['pdb'].map(os.path.basename).str.removesuffix('-model_v4.pdb.gz').str.removeprefix('AF-')\n",
    "df_['frag_id'] = df_['af2_id'].map(lambda af2_id: af2_id.split('-')[-1])\n",
    "df_['uniprot_id'] = df_['af2_id'].map(lambda af2_id: (af2_id[::-1].split('-', maxsplit=1)[1])[::-1])\n",
    "df_['n_frags'] = df_.groupby(['uniprot_id'])['af2_id'].transform('size')\n",
    "df_ = df_[['uniprot_id', 'af2_id', 'frag_id', 'n_frags', 'pdb']]\n",
    "df_['af2_pdb'] = df_['af2_id'].map(lambda af2_id: pfile(struct_id=af2_id, step='af2', suffix='.pdb', base=''))\n",
    "#df_ = df_.head(1000)"
   ]
  },
  {
   "cell_type": "code",
   "execution_count": 3,
   "metadata": {},
   "outputs": [
    {
     "data": {
      "application/vnd.jupyter.widget-view+json": {
       "model_id": "985c9ea4fe2047d58d86be5ccb067844",
       "version_major": 2,
       "version_minor": 0
      },
      "text/plain": [
       "  0%|          | 0/23391 [00:00<?, ?it/s]"
      ]
     },
     "metadata": {},
     "output_type": "display_data"
    }
   ],
   "source": [
    "def seq_(fp_):\n",
    "    parser = Bio.PDB.PDBParser(QUIET=True)\n",
    "    structure = parser.get_structure(fp_, fp_)\n",
    "    return str(Bio.PDB.Polypeptide.PPBuilder().build_peptides(structure)[0].get_sequence())\n",
    "\n",
    "#df_['af2_seq'] = df_['af2_pdb'].map(seq_)\n",
    "df_['seq'] = tqdm.contrib.concurrent.process_map(seq_, df_['af2_pdb'], max_workers=int(os.environ['SLURM_NTASKS']), chunksize=10)"
   ]
  },
  {
   "cell_type": "code",
   "execution_count": 4,
   "metadata": {},
   "outputs": [],
   "source": [
    "with open('af2.fasta', 'w') as fh:\n",
    "    for i, r in df_.iterrows():\n",
    "        print(f'>{r.af2_id}', file=fh)\n",
    "        print(r.seq, file=fh)"
   ]
  },
  {
   "cell_type": "code",
   "execution_count": 5,
   "metadata": {},
   "outputs": [
    {
     "name": "stdout",
     "output_type": "stream",
     "text": [
      "46782 af2.fasta\n",
      "3169677ebd94e4555ad161ae59f8a274  af2.fasta\n"
     ]
    }
   ],
   "source": [
    "!wc -l af2.fasta\n",
    "!md5sum af2.fasta"
   ]
  },
  {
   "cell_type": "code",
   "execution_count": 6,
   "metadata": {},
   "outputs": [
    {
     "name": "stdout",
     "output_type": "stream",
     "text": [
      "23392 af2.tsv\n",
      "240f64be65ebafc2725d658f4729f846  af2.tsv\n"
     ]
    }
   ],
   "source": [
    "df_.to_csv('af2.tsv', sep='\\t', header=True, index=False, float_format='%.2f')\n",
    "!wc -l af2.tsv\n",
    "!md5sum af2.tsv"
   ]
  }
 ],
 "metadata": {
  "kernelspec": {
   "display_name": "af2genomics-envA",
   "language": "python",
   "name": "python3"
  },
  "language_info": {
   "codemirror_mode": {
    "name": "ipython",
    "version": 3
   },
   "file_extension": ".py",
   "mimetype": "text/x-python",
   "name": "python",
   "nbconvert_exporter": "python",
   "pygments_lexer": "ipython3",
   "version": "3.12.4"
  }
 },
 "nbformat": 4,
 "nbformat_minor": 2
}
