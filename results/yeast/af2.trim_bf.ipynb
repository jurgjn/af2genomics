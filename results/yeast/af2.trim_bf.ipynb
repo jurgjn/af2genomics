{
 "cells": [
  {
   "cell_type": "code",
   "execution_count": 1,
   "metadata": {},
   "outputs": [
    {
     "name": "stderr",
     "output_type": "stream",
     "text": [
      "/cluster/project/beltrao/jjaenes/software/miniconda3/envs/af2genomics-env/lib/python3.9/site-packages/Bio/pairwise2.py:278: BiopythonDeprecationWarning: Bio.pairwise2 has been deprecated, and we intend to remove it in a future release of Biopython. As an alternative, please consider using Bio.Align.PairwiseAligner as a replacement, and contact the Biopython developers if you still need the Bio.pairwise2 module.\n",
      "  warnings.warn(\n"
     ]
    }
   ],
   "source": [
    "%run ../../notebooks/__init__.ipynb"
   ]
  },
  {
   "cell_type": "code",
   "execution_count": 2,
   "metadata": {},
   "outputs": [
    {
     "data": {
      "text/html": [
       "<div>\n",
       "<style scoped>\n",
       "    .dataframe tbody tr th:only-of-type {\n",
       "        vertical-align: middle;\n",
       "    }\n",
       "\n",
       "    .dataframe tbody tr th {\n",
       "        vertical-align: top;\n",
       "    }\n",
       "\n",
       "    .dataframe thead th {\n",
       "        text-align: right;\n",
       "    }\n",
       "</style>\n",
       "<table border=\"1\" class=\"dataframe\">\n",
       "  <thead>\n",
       "    <tr style=\"text-align: right;\">\n",
       "      <th></th>\n",
       "      <th>struct_id</th>\n",
       "      <th>af2_pdb</th>\n",
       "      <th>trim_bf</th>\n",
       "      <th>nresid_af2</th>\n",
       "      <th>nresid_trim_bf</th>\n",
       "    </tr>\n",
       "  </thead>\n",
       "  <tbody>\n",
       "    <tr>\n",
       "      <th>0</th>\n",
       "      <td>A0A023PYF4</td>\n",
       "      <td>af2/A0/A0/23/A0A023PYF4.pdb</td>\n",
       "      <td>af2.trim_bf/A0/A0/23/A0A023PYF4.pdb</td>\n",
       "      <td>145</td>\n",
       "      <td>0</td>\n",
       "    </tr>\n",
       "    <tr>\n",
       "      <th>1</th>\n",
       "      <td>A0A023PZB3</td>\n",
       "      <td>af2/A0/A0/23/A0A023PZB3.pdb</td>\n",
       "      <td>af2.trim_bf/A0/A0/23/A0A023PZB3.pdb</td>\n",
       "      <td>126</td>\n",
       "      <td>125</td>\n",
       "    </tr>\n",
       "    <tr>\n",
       "      <th>2</th>\n",
       "      <td>A0A023PZE8</td>\n",
       "      <td>af2/A0/A0/23/A0A023PZE8.pdb</td>\n",
       "      <td>af2.trim_bf/A0/A0/23/A0A023PZE8.pdb</td>\n",
       "      <td>133</td>\n",
       "      <td>63</td>\n",
       "    </tr>\n",
       "    <tr>\n",
       "      <th>3</th>\n",
       "      <td>A0A023PZF2</td>\n",
       "      <td>af2/A0/A0/23/A0A023PZF2.pdb</td>\n",
       "      <td>af2.trim_bf/A0/A0/23/A0A023PZF2.pdb</td>\n",
       "      <td>135</td>\n",
       "      <td>96</td>\n",
       "    </tr>\n",
       "    <tr>\n",
       "      <th>4</th>\n",
       "      <td>A0A023PZG4</td>\n",
       "      <td>af2/A0/A0/23/A0A023PZG4.pdb</td>\n",
       "      <td>af2.trim_bf/A0/A0/23/A0A023PZG4.pdb</td>\n",
       "      <td>107</td>\n",
       "      <td>37</td>\n",
       "    </tr>\n",
       "    <tr>\n",
       "      <th>...</th>\n",
       "      <td>...</td>\n",
       "      <td>...</td>\n",
       "      <td>...</td>\n",
       "      <td>...</td>\n",
       "      <td>...</td>\n",
       "    </tr>\n",
       "    <tr>\n",
       "      <th>6034</th>\n",
       "      <td>Q9ZZX0</td>\n",
       "      <td>af2/Q9/ZZ/X0/Q9ZZX0.pdb</td>\n",
       "      <td>af2.trim_bf/Q9/ZZ/X0/Q9ZZX0.pdb</td>\n",
       "      <td>354</td>\n",
       "      <td>308</td>\n",
       "    </tr>\n",
       "    <tr>\n",
       "      <th>6035</th>\n",
       "      <td>Q9ZZX1</td>\n",
       "      <td>af2/Q9/ZZ/X1/Q9ZZX1.pdb</td>\n",
       "      <td>af2.trim_bf/Q9/ZZ/X1/Q9ZZX1.pdb</td>\n",
       "      <td>630</td>\n",
       "      <td>559</td>\n",
       "    </tr>\n",
       "    <tr>\n",
       "      <th>6036</th>\n",
       "      <td>Q9ZZX7</td>\n",
       "      <td>af2/Q9/ZZ/X7/Q9ZZX7.pdb</td>\n",
       "      <td>af2.trim_bf/Q9/ZZ/X7/Q9ZZX7.pdb</td>\n",
       "      <td>96</td>\n",
       "      <td>96</td>\n",
       "    </tr>\n",
       "    <tr>\n",
       "      <th>6037</th>\n",
       "      <td>Q9ZZX8</td>\n",
       "      <td>af2/Q9/ZZ/X8/Q9ZZX8.pdb</td>\n",
       "      <td>af2.trim_bf/Q9/ZZ/X8/Q9ZZX8.pdb</td>\n",
       "      <td>53</td>\n",
       "      <td>52</td>\n",
       "    </tr>\n",
       "    <tr>\n",
       "      <th>6038</th>\n",
       "      <td>Q9ZZX9</td>\n",
       "      <td>af2/Q9/ZZ/X9/Q9ZZX9.pdb</td>\n",
       "      <td>af2.trim_bf/Q9/ZZ/X9/Q9ZZX9.pdb</td>\n",
       "      <td>128</td>\n",
       "      <td>120</td>\n",
       "    </tr>\n",
       "  </tbody>\n",
       "</table>\n",
       "<p>6039 rows × 5 columns</p>\n",
       "</div>"
      ],
      "text/plain": [
       "       struct_id                      af2_pdb  \\\n",
       "0     A0A023PYF4  af2/A0/A0/23/A0A023PYF4.pdb   \n",
       "1     A0A023PZB3  af2/A0/A0/23/A0A023PZB3.pdb   \n",
       "2     A0A023PZE8  af2/A0/A0/23/A0A023PZE8.pdb   \n",
       "3     A0A023PZF2  af2/A0/A0/23/A0A023PZF2.pdb   \n",
       "4     A0A023PZG4  af2/A0/A0/23/A0A023PZG4.pdb   \n",
       "...          ...                          ...   \n",
       "6034      Q9ZZX0      af2/Q9/ZZ/X0/Q9ZZX0.pdb   \n",
       "6035      Q9ZZX1      af2/Q9/ZZ/X1/Q9ZZX1.pdb   \n",
       "6036      Q9ZZX7      af2/Q9/ZZ/X7/Q9ZZX7.pdb   \n",
       "6037      Q9ZZX8      af2/Q9/ZZ/X8/Q9ZZX8.pdb   \n",
       "6038      Q9ZZX9      af2/Q9/ZZ/X9/Q9ZZX9.pdb   \n",
       "\n",
       "                                  trim_bf  nresid_af2  nresid_trim_bf  \n",
       "0     af2.trim_bf/A0/A0/23/A0A023PYF4.pdb         145               0  \n",
       "1     af2.trim_bf/A0/A0/23/A0A023PZB3.pdb         126             125  \n",
       "2     af2.trim_bf/A0/A0/23/A0A023PZE8.pdb         133              63  \n",
       "3     af2.trim_bf/A0/A0/23/A0A023PZF2.pdb         135              96  \n",
       "4     af2.trim_bf/A0/A0/23/A0A023PZG4.pdb         107              37  \n",
       "...                                   ...         ...             ...  \n",
       "6034      af2.trim_bf/Q9/ZZ/X0/Q9ZZX0.pdb         354             308  \n",
       "6035      af2.trim_bf/Q9/ZZ/X1/Q9ZZX1.pdb         630             559  \n",
       "6036      af2.trim_bf/Q9/ZZ/X7/Q9ZZX7.pdb          96              96  \n",
       "6037      af2.trim_bf/Q9/ZZ/X8/Q9ZZX8.pdb          53              52  \n",
       "6038      af2.trim_bf/Q9/ZZ/X9/Q9ZZX9.pdb         128             120  \n",
       "\n",
       "[6039 rows x 5 columns]"
      ]
     },
     "execution_count": 2,
     "metadata": {},
     "output_type": "execute_result"
    }
   ],
   "source": [
    "df_ = pd.read_csv('af2.tsv', names=['pdb_gz'])#.head(100)\n",
    "df_['struct_id'] = df_['pdb_gz'].map(lambda pdb_gz: os.path.basename(pdb_gz).removesuffix('.pdb.gz'))\n",
    "df_['af2_pdb'] = df_['pdb_gz'].map(lambda pdb_gz: pdb_gz.removesuffix('.gz'))\n",
    "df_['trim_bf'] = df_['struct_id'].map(lambda struct_id: pfile(struct_id=struct_id, step='af2.trim_bf', suffix='.pdb', base=''))\n",
    "df_ = df_[['struct_id', 'af2_pdb', 'trim_bf']]\n",
    "df_['nresid_af2'] = df_['af2_pdb'].map(lambda fp: read_chain_len(fp, chain_='A'))\n",
    "# os.path.getsize(fp) == 7 checks for 'empty' trim_bf output, e.g.\n",
    "# $ cat af2.trim_bf/A0/A0/23/A0A023PYF4.pdb\n",
    "# END\n",
    "df_['nresid_trim_bf'] = df_['trim_bf'].map(lambda fp: 0 if os.path.getsize(fp) == 7 else read_chain_len(fp, chain_='A'))\n",
    "df_"
   ]
  },
  {
   "cell_type": "code",
   "execution_count": 3,
   "metadata": {},
   "outputs": [],
   "source": [
    "df_.to_csv('af2.trim_bf_.tsv', index=False, sep='\\t')"
   ]
  },
  {
   "cell_type": "code",
   "execution_count": 4,
   "metadata": {},
   "outputs": [
    {
     "name": "stdout",
     "output_type": "stream",
     "text": [
      "5141c5c7ff5cc1b2d865483522d335ac  af2.trim_bf.tsv\n"
     ]
    }
   ],
   "source": [
    "!md5sum af2.trim_bf.tsv"
   ]
  }
 ],
 "metadata": {
  "kernelspec": {
   "display_name": "af2genomics-env",
   "language": "python",
   "name": "python3"
  },
  "language_info": {
   "codemirror_mode": {
    "name": "ipython",
    "version": 3
   },
   "file_extension": ".py",
   "mimetype": "text/x-python",
   "name": "python",
   "nbconvert_exporter": "python",
   "pygments_lexer": "ipython3",
   "version": "3.9.18"
  },
  "orig_nbformat": 4
 },
 "nbformat": 4,
 "nbformat_minor": 2
}
