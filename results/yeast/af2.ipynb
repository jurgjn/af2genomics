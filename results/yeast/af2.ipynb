{
 "cells": [
  {
   "cell_type": "code",
   "execution_count": 1,
   "metadata": {},
   "outputs": [
    {
     "name": "stderr",
     "output_type": "stream",
     "text": [
      "/cluster/project/beltrao/jjaenes/software/miniconda3/envs/af2genomics-env/lib/python3.9/site-packages/Bio/pairwise2.py:278: BiopythonDeprecationWarning: Bio.pairwise2 has been deprecated, and we intend to remove it in a future release of Biopython. As an alternative, please consider using Bio.Align.PairwiseAligner as a replacement, and contact the Biopython developers if you still need the Bio.pairwise2 module.\n",
      "  warnings.warn(\n"
     ]
    }
   ],
   "source": [
    "%run ../../notebooks/__init__.ipynb"
   ]
  },
  {
   "cell_type": "code",
   "execution_count": 2,
   "metadata": {},
   "outputs": [
    {
     "name": "stdout",
     "output_type": "stream",
     "text": [
      "--2024-07-15 13:12:14--  https://ftp.ebi.ac.uk/pub/databases/alphafold/v4/UP000002311_559292_YEAST_v4.tar\n",
      "Resolving proxy.ethz.ch (proxy.ethz.ch)... 129.132.202.155\n",
      "Connecting to proxy.ethz.ch (proxy.ethz.ch)|129.132.202.155|:3128... connected.\n",
      "Proxy request sent, awaiting response... 200 OK\n",
      "Length: 1025904640 (978M) [application/x-tar]\n",
      "Saving to: ‘UP000002311_559292_YEAST_v4.tar’\n",
      "\n",
      "UP000002311_559292_ 100%[===================>] 978.38M  2.88MB/s    in 5m 40s  \n",
      "\n",
      "2024-07-15 13:17:54 (2.88 MB/s) - ‘UP000002311_559292_YEAST_v4.tar’ saved [1025904640/1025904640]\n",
      "\n"
     ]
    }
   ],
   "source": [
    "!wget -nc https://ftp.ebi.ac.uk/pub/databases/alphafold/v4/UP000002311_559292_YEAST_v4.tar"
   ]
  },
  {
   "cell_type": "code",
   "execution_count": 3,
   "metadata": {},
   "outputs": [
    {
     "name": "stdout",
     "output_type": "stream",
     "text": [
      "af2/A0/A0/23/A0A023PYF4.pdb.gz\n",
      "af2/A0/A0/23/A0A023PZB3.pdb.gz\n",
      "af2/A0/A0/23/A0A023PZE8.pdb.gz\n",
      "af2/A0/A0/23/A0A023PZF2.pdb.gz\n",
      "af2/A0/A0/23/A0A023PZG4.pdb.gz\n",
      "af2/A0/A0/B7/A0A0B7P221.pdb.gz\n",
      "af2/A0/A0/B7/A0A0B7P3V8.pdb.gz\n",
      "af2/A0/A7/M4/A0A7M4B2U1.pdb.gz\n",
      "af2/A2/P2/R3/A2P2R3.pdb.gz\n",
      "af2/A5/Z2/X5/A5Z2X5.pdb.gz\n"
     ]
    }
   ],
   "source": [
    "%%bash\n",
    "tar -tf UP000002311_559292_YEAST_v4.tar --exclude='*.cif.gz' --xform='s|\\(^AF-\\)\\(..\\)\\(..\\)\\(..\\)\\(.*\\)\\(-F1-model_v4.pdb.gz$\\)|af2/\\2/\\3/\\4/\\2\\3\\4\\5.pdb.gz|' --show-transformed-names | head -n 10"
   ]
  },
  {
   "cell_type": "code",
   "execution_count": 4,
   "metadata": {},
   "outputs": [],
   "source": [
    "%%bash\n",
    "tar -tf UP000002311_559292_YEAST_v4.tar --exclude='*.cif.gz' --xform='s|\\(^AF-\\)\\(..\\)\\(..\\)\\(..\\)\\(.*\\)\\(-F1-model_v4.pdb.gz$\\)|af2/\\2/\\3/\\4/\\2\\3\\4\\5.pdb.gz|' --show-transformed-names > af2.tsv\n",
    "tar -xf UP000002311_559292_YEAST_v4.tar --exclude='*.cif.gz' --xform='s|\\(^AF-\\)\\(..\\)\\(..\\)\\(..\\)\\(.*\\)\\(-F1-model_v4.pdb.gz$\\)|af2/\\2/\\3/\\4/\\2\\3\\4\\5.pdb.gz|'"
   ]
  },
  {
   "cell_type": "code",
   "execution_count": 5,
   "metadata": {},
   "outputs": [],
   "source": [
    "for i, r in pd.read_csv('af2.tsv', names=['pdb_gz']).iterrows():\n",
    "    !gunzip {r.pdb_gz}"
   ]
  },
  {
   "cell_type": "code",
   "execution_count": 7,
   "metadata": {},
   "outputs": [
    {
     "name": "stdout",
     "output_type": "stream",
     "text": [
      "a065e4c49dc26ded5bc5fad7ea22c9b9  UP000002311_559292_YEAST_v4.tar\n"
     ]
    }
   ],
   "source": [
    "!md5sum UP000002311_559292_YEAST_v4.tar"
   ]
  }
 ],
 "metadata": {
  "kernelspec": {
   "display_name": "af2genomics-env",
   "language": "python",
   "name": "python3"
  },
  "language_info": {
   "codemirror_mode": {
    "name": "ipython",
    "version": 3
   },
   "file_extension": ".py",
   "mimetype": "text/x-python",
   "name": "python",
   "nbconvert_exporter": "python",
   "pygments_lexer": "ipython3",
   "version": "3.9.18"
  },
  "orig_nbformat": 4
 },
 "nbformat": 4,
 "nbformat_minor": 2
}
