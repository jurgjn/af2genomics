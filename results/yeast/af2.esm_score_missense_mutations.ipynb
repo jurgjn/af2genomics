{
 "cells": [
  {
   "cell_type": "code",
   "execution_count": 4,
   "metadata": {},
   "outputs": [
    {
     "name": "stdout",
     "output_type": "stream",
     "text": [
      "prody not found; if needed, install with: conda install conda-forge::prody\n"
     ]
    }
   ],
   "source": [
    "%run ../../notebooks/__init__.ipynb"
   ]
  },
  {
   "cell_type": "code",
   "execution_count": 10,
   "metadata": {},
   "outputs": [
    {
     "data": {
      "text/html": [
       "<div>\n",
       "<style scoped>\n",
       "    .dataframe tbody tr th:only-of-type {\n",
       "        vertical-align: middle;\n",
       "    }\n",
       "\n",
       "    .dataframe tbody tr th {\n",
       "        vertical-align: top;\n",
       "    }\n",
       "\n",
       "    .dataframe thead th {\n",
       "        text-align: right;\n",
       "    }\n",
       "</style>\n",
       "<table border=\"1\" class=\"dataframe\">\n",
       "  <thead>\n",
       "    <tr style=\"text-align: right;\">\n",
       "      <th></th>\n",
       "      <th>pdb_gz</th>\n",
       "      <th>struct_id</th>\n",
       "      <th>af2_pdb</th>\n",
       "      <th>af2_seq</th>\n",
       "    </tr>\n",
       "  </thead>\n",
       "  <tbody>\n",
       "    <tr>\n",
       "      <th>0</th>\n",
       "      <td>af2/A0/A0/23/A0A023PYF4.pdb.gz</td>\n",
       "      <td>A0A023PYF4</td>\n",
       "      <td>af2/A0/A0/23/A0A023PYF4.pdb</td>\n",
       "      <td>MAILLPLKSILPWCCITFSFLLSSSGSISHSTASSSITLTKSSKPT...</td>\n",
       "    </tr>\n",
       "    <tr>\n",
       "      <th>1</th>\n",
       "      <td>af2/A0/A0/23/A0A023PZB3.pdb.gz</td>\n",
       "      <td>A0A023PZB3</td>\n",
       "      <td>af2/A0/A0/23/A0A023PZB3.pdb</td>\n",
       "      <td>MYYFSRVAARTFCCCIFFCLATAYSRPDRNPRKIEKKDKKFFGASK...</td>\n",
       "    </tr>\n",
       "    <tr>\n",
       "      <th>2</th>\n",
       "      <td>af2/A0/A0/23/A0A023PZE8.pdb.gz</td>\n",
       "      <td>A0A023PZE8</td>\n",
       "      <td>af2/A0/A0/23/A0A023PZE8.pdb</td>\n",
       "      <td>MSETCSSSLALLHKILHIHSHTPSVYYNICISVRILTSERLQCFFF...</td>\n",
       "    </tr>\n",
       "    <tr>\n",
       "      <th>3</th>\n",
       "      <td>af2/A0/A0/23/A0A023PZF2.pdb.gz</td>\n",
       "      <td>A0A023PZF2</td>\n",
       "      <td>af2/A0/A0/23/A0A023PZF2.pdb</td>\n",
       "      <td>MNTLLKKYRKQRYAWLRFLLFSKIEGSLPVALRILLSLQPFCCNIY...</td>\n",
       "    </tr>\n",
       "    <tr>\n",
       "      <th>4</th>\n",
       "      <td>af2/A0/A0/23/A0A023PZG4.pdb.gz</td>\n",
       "      <td>A0A023PZG4</td>\n",
       "      <td>af2/A0/A0/23/A0A023PZG4.pdb</td>\n",
       "      <td>MHTICLRSPIDESSPLPYKSIRQPLENAHSCQALCSLMAVLCASAA...</td>\n",
       "    </tr>\n",
       "    <tr>\n",
       "      <th>...</th>\n",
       "      <td>...</td>\n",
       "      <td>...</td>\n",
       "      <td>...</td>\n",
       "      <td>...</td>\n",
       "    </tr>\n",
       "    <tr>\n",
       "      <th>6034</th>\n",
       "      <td>af2/Q9/ZZ/X0/Q9ZZX0.pdb.gz</td>\n",
       "      <td>Q9ZZX0</td>\n",
       "      <td>af2/Q9/ZZ/X0/Q9ZZX0.pdb</td>\n",
       "      <td>MLMLLMMILTNNKVFMETLYYYLMFNFQLMSPFGVPVPGPAPETKD...</td>\n",
       "    </tr>\n",
       "    <tr>\n",
       "      <th>6035</th>\n",
       "      <td>af2/Q9/ZZ/X1/Q9ZZX1.pdb.gz</td>\n",
       "      <td>Q9ZZX1</td>\n",
       "      <td>af2/Q9/ZZ/X1/Q9ZZX1.pdb</td>\n",
       "      <td>MVQRWLYSTNAKDIAVLYFMLAIFSGMAGTAMSLIIRLELAAPGSQ...</td>\n",
       "    </tr>\n",
       "    <tr>\n",
       "      <th>6036</th>\n",
       "      <td>af2/Q9/ZZ/X7/Q9ZZX7.pdb.gz</td>\n",
       "      <td>Q9ZZX7</td>\n",
       "      <td>af2/Q9/ZZ/X7/Q9ZZX7.pdb</td>\n",
       "      <td>MLMMYMLFIMMKTYPMLSYHMMSYHIMLYTIMWYMKYSTYMRLWLL...</td>\n",
       "    </tr>\n",
       "    <tr>\n",
       "      <th>6037</th>\n",
       "      <td>af2/Q9/ZZ/X8/Q9ZZX8.pdb.gz</td>\n",
       "      <td>Q9ZZX8</td>\n",
       "      <td>af2/Q9/ZZ/X8/Q9ZZX8.pdb</td>\n",
       "      <td>MCATYMFNITVIITHPTPTLRTRGPGFVRNRDLYIYKYKSNLINNL...</td>\n",
       "    </tr>\n",
       "    <tr>\n",
       "      <th>6038</th>\n",
       "      <td>af2/Q9/ZZ/X9/Q9ZZX9.pdb.gz</td>\n",
       "      <td>Q9ZZX9</td>\n",
       "      <td>af2/Q9/ZZ/X9/Q9ZZX9.pdb</td>\n",
       "      <td>MYYIMFLYNMLLIIILIFYSIVGVPIIIFNNNYYWDPDIFLFIIYY...</td>\n",
       "    </tr>\n",
       "  </tbody>\n",
       "</table>\n",
       "<p>6039 rows × 4 columns</p>\n",
       "</div>"
      ],
      "text/plain": [
       "                              pdb_gz   struct_id                      af2_pdb  \\\n",
       "0     af2/A0/A0/23/A0A023PYF4.pdb.gz  A0A023PYF4  af2/A0/A0/23/A0A023PYF4.pdb   \n",
       "1     af2/A0/A0/23/A0A023PZB3.pdb.gz  A0A023PZB3  af2/A0/A0/23/A0A023PZB3.pdb   \n",
       "2     af2/A0/A0/23/A0A023PZE8.pdb.gz  A0A023PZE8  af2/A0/A0/23/A0A023PZE8.pdb   \n",
       "3     af2/A0/A0/23/A0A023PZF2.pdb.gz  A0A023PZF2  af2/A0/A0/23/A0A023PZF2.pdb   \n",
       "4     af2/A0/A0/23/A0A023PZG4.pdb.gz  A0A023PZG4  af2/A0/A0/23/A0A023PZG4.pdb   \n",
       "...                              ...         ...                          ...   \n",
       "6034      af2/Q9/ZZ/X0/Q9ZZX0.pdb.gz      Q9ZZX0      af2/Q9/ZZ/X0/Q9ZZX0.pdb   \n",
       "6035      af2/Q9/ZZ/X1/Q9ZZX1.pdb.gz      Q9ZZX1      af2/Q9/ZZ/X1/Q9ZZX1.pdb   \n",
       "6036      af2/Q9/ZZ/X7/Q9ZZX7.pdb.gz      Q9ZZX7      af2/Q9/ZZ/X7/Q9ZZX7.pdb   \n",
       "6037      af2/Q9/ZZ/X8/Q9ZZX8.pdb.gz      Q9ZZX8      af2/Q9/ZZ/X8/Q9ZZX8.pdb   \n",
       "6038      af2/Q9/ZZ/X9/Q9ZZX9.pdb.gz      Q9ZZX9      af2/Q9/ZZ/X9/Q9ZZX9.pdb   \n",
       "\n",
       "                                                af2_seq  \n",
       "0     MAILLPLKSILPWCCITFSFLLSSSGSISHSTASSSITLTKSSKPT...  \n",
       "1     MYYFSRVAARTFCCCIFFCLATAYSRPDRNPRKIEKKDKKFFGASK...  \n",
       "2     MSETCSSSLALLHKILHIHSHTPSVYYNICISVRILTSERLQCFFF...  \n",
       "3     MNTLLKKYRKQRYAWLRFLLFSKIEGSLPVALRILLSLQPFCCNIY...  \n",
       "4     MHTICLRSPIDESSPLPYKSIRQPLENAHSCQALCSLMAVLCASAA...  \n",
       "...                                                 ...  \n",
       "6034  MLMLLMMILTNNKVFMETLYYYLMFNFQLMSPFGVPVPGPAPETKD...  \n",
       "6035  MVQRWLYSTNAKDIAVLYFMLAIFSGMAGTAMSLIIRLELAAPGSQ...  \n",
       "6036  MLMMYMLFIMMKTYPMLSYHMMSYHIMLYTIMWYMKYSTYMRLWLL...  \n",
       "6037  MCATYMFNITVIITHPTPTLRTRGPGFVRNRDLYIYKYKSNLINNL...  \n",
       "6038  MYYIMFLYNMLLIIILIFYSIVGVPIIIFNNNYYWDPDIFLFIIYY...  \n",
       "\n",
       "[6039 rows x 4 columns]"
      ]
     },
     "execution_count": 10,
     "metadata": {},
     "output_type": "execute_result"
    }
   ],
   "source": [
    "def seq_(fp_):\n",
    "    parser = Bio.PDB.PDBParser(QUIET=True)\n",
    "    structure = parser.get_structure(fp_, fp_)\n",
    "    return str(Bio.PDB.Polypeptide.PPBuilder().build_peptides(structure)[0].get_sequence())\n",
    "\n",
    "df_ = pd.read_csv('af2.tsv', names=['pdb_gz'])#, nrows=1000)\n",
    "df_['struct_id'] = df_['pdb_gz'].map(lambda pdb_gz: os.path.basename(pdb_gz).removesuffix('.pdb.gz'))\n",
    "df_['af2_pdb'] = df_['pdb_gz'].map(lambda pdb_gz: pdb_gz.removesuffix('.gz'))\n",
    "df_['af2_seq'] = df_['af2_pdb'].map(seq_)\n",
    "#df_['af2_nresid'] = df_['af2_pdb'].map(lambda fp: read_chain_len(fp, chain_='A'))\n",
    "#assert all(df_['af2_seq'].str.len() == df_['af2_nresid'])\n",
    "df_"
   ]
  },
  {
   "cell_type": "code",
   "execution_count": 13,
   "metadata": {},
   "outputs": [],
   "source": [
    "with open('af2.esm_score_missense_mutations.fasta', 'w') as fh:\n",
    "    for i, r in df_.iterrows():\n",
    "        print(f'>{r.struct_id}', file=fh)\n",
    "        print(r.af2_seq, file=fh)"
   ]
  },
  {
   "cell_type": "code",
   "execution_count": 14,
   "metadata": {},
   "outputs": [
    {
     "name": "stdout",
     "output_type": "stream",
     "text": [
      "12078 af2.esm_score_missense_mutations.fasta\n"
     ]
    }
   ],
   "source": [
    "!wc -l af2.esm_score_missense_mutations.fasta"
   ]
  },
  {
   "cell_type": "code",
   "execution_count": null,
   "metadata": {},
   "outputs": [],
   "source": []
  },
  {
   "cell_type": "code",
   "execution_count": null,
   "metadata": {},
   "outputs": [],
   "source": []
  }
 ],
 "metadata": {
  "kernelspec": {
   "display_name": "af2genomics-envA",
   "language": "python",
   "name": "python3"
  },
  "language_info": {
   "codemirror_mode": {
    "name": "ipython",
    "version": 3
   },
   "file_extension": ".py",
   "mimetype": "text/x-python",
   "name": "python",
   "nbconvert_exporter": "python",
   "pygments_lexer": "ipython3",
   "version": "3.12.4"
  }
 },
 "nbformat": 4,
 "nbformat_minor": 2
}
