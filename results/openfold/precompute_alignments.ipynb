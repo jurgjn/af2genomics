{
 "cells": [
  {
   "cell_type": "code",
   "execution_count": 1,
   "metadata": {},
   "outputs": [
    {
     "name": "stderr",
     "output_type": "stream",
     "text": [
      "/cluster/project/beltrao/jjaenes/software/miniconda3/envs/af2genomics-env/lib/python3.9/site-packages/Bio/pairwise2.py:278: BiopythonDeprecationWarning: Bio.pairwise2 has been deprecated, and we intend to remove it in a future release of Biopython. As an alternative, please consider using Bio.Align.PairwiseAligner as a replacement, and contact the Biopython developers if you still need the Bio.pairwise2 module.\n",
      "  warnings.warn(\n"
     ]
    }
   ],
   "source": [
    "%run ../../notebooks/__init__.ipynb"
   ]
  },
  {
   "cell_type": "code",
   "execution_count": 2,
   "metadata": {},
   "outputs": [
    {
     "name": "stdout",
     "output_type": "stream",
     "text": [
      "['A6NFC5', 'Q71U36', 'B7ZBB8', 'O00584', 'O00483']\n"
     ]
    }
   ],
   "source": [
    "l_uniprot_id, = snakemake.io.glob_wildcards('precompute_alignments/{uniprot_id}/stat.tsv')\n",
    "print(l_uniprot_id)"
   ]
  },
  {
   "cell_type": "code",
   "execution_count": 16,
   "metadata": {},
   "outputs": [
    {
     "data": {
      "text/html": [
       "<div>\n",
       "<style scoped>\n",
       "    .dataframe tbody tr th:only-of-type {\n",
       "        vertical-align: middle;\n",
       "    }\n",
       "\n",
       "    .dataframe tbody tr th {\n",
       "        vertical-align: top;\n",
       "    }\n",
       "\n",
       "    .dataframe thead th {\n",
       "        text-align: right;\n",
       "    }\n",
       "</style>\n",
       "<table border=\"1\" class=\"dataframe\">\n",
       "  <thead>\n",
       "    <tr style=\"text-align: right;\">\n",
       "      <th></th>\n",
       "      <th>uniprot_id</th>\n",
       "      <th>JobID</th>\n",
       "      <th>MinCPU</th>\n",
       "      <th>MaxRSS</th>\n",
       "      <th>seq_len</th>\n",
       "    </tr>\n",
       "  </thead>\n",
       "  <tbody>\n",
       "    <tr>\n",
       "      <th>1</th>\n",
       "      <td>O00483</td>\n",
       "      <td>2666300.batch</td>\n",
       "      <td>00:29:42</td>\n",
       "      <td>15009000K</td>\n",
       "      <td>81</td>\n",
       "    </tr>\n",
       "    <tr>\n",
       "      <th>1</th>\n",
       "      <td>A6NFC5</td>\n",
       "      <td>2666290.batch</td>\n",
       "      <td>00:40:59</td>\n",
       "      <td>15138280K</td>\n",
       "      <td>223</td>\n",
       "    </tr>\n",
       "    <tr>\n",
       "      <th>1</th>\n",
       "      <td>O00584</td>\n",
       "      <td>2666303.batch</td>\n",
       "      <td>00:41:48</td>\n",
       "      <td>15239440K</td>\n",
       "      <td>256</td>\n",
       "    </tr>\n",
       "    <tr>\n",
       "      <th>1</th>\n",
       "      <td>B7ZBB8</td>\n",
       "      <td>2666293.batch</td>\n",
       "      <td>00:56:32</td>\n",
       "      <td>15209964K</td>\n",
       "      <td>358</td>\n",
       "    </tr>\n",
       "    <tr>\n",
       "      <th>1</th>\n",
       "      <td>Q71U36</td>\n",
       "      <td>2666297.batch</td>\n",
       "      <td>01:11:29</td>\n",
       "      <td>16300428K</td>\n",
       "      <td>451</td>\n",
       "    </tr>\n",
       "  </tbody>\n",
       "</table>\n",
       "</div>"
      ],
      "text/plain": [
       "  uniprot_id          JobID    MinCPU     MaxRSS  seq_len\n",
       "1     O00483  2666300.batch  00:29:42  15009000K       81\n",
       "1     A6NFC5  2666290.batch  00:40:59  15138280K      223\n",
       "1     O00584  2666303.batch  00:41:48  15239440K      256\n",
       "1     B7ZBB8  2666293.batch  00:56:32  15209964K      358\n",
       "1     Q71U36  2666297.batch  01:11:29  16300428K      451"
      ]
     },
     "metadata": {},
     "output_type": "display_data"
    }
   ],
   "source": [
    "def seq_len(uniprot_id):\n",
    "    return len(next(Bio.SeqIO.parse(open(f'fasta/{uniprot_id}.fasta'), 'fasta')).seq)\n",
    "\n",
    "# sstat columns for CPU time, mem usage: https://scicomp.ethz.ch/wiki/Using_the_batch_system#sstat\n",
    "df_sstat = pd.concat(map(lambda uniprot_id: pd.read_csv(f'precompute_alignments/{uniprot_id}/stat.tsv', sep='\\t').assign(uniprot_id=uniprot_id), l_uniprot_id), axis=0).query('`JobID`.str.endswith(\".batch\")')\n",
    "df_sstat['seq_len'] = df_sstat['uniprot_id'].map(seq_len)\n",
    "dispall(df_sstat[['uniprot_id', 'JobID', 'MinCPU', 'MaxRSS', 'seq_len']].sort_values('seq_len'))"
   ]
  }
 ],
 "metadata": {
  "kernelspec": {
   "display_name": "af2genomics-env",
   "language": "python",
   "name": "python3"
  },
  "language_info": {
   "codemirror_mode": {
    "name": "ipython",
    "version": 3
   },
   "file_extension": ".py",
   "mimetype": "text/x-python",
   "name": "python",
   "nbconvert_exporter": "python",
   "pygments_lexer": "ipython3",
   "version": "3.9.18"
  },
  "orig_nbformat": 4
 },
 "nbformat": 4,
 "nbformat_minor": 2
}
